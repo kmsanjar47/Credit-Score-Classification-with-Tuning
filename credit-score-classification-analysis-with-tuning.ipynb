{
 "cells": [
  {
   "cell_type": "markdown",
   "id": "15254752",
   "metadata": {
    "papermill": {
     "duration": 0.03183,
     "end_time": "2024-02-15T05:49:43.122911",
     "exception": false,
     "start_time": "2024-02-15T05:49:43.091081",
     "status": "completed"
    },
    "tags": []
   },
   "source": [
    "# Introduction"
   ]
  },
  {
   "cell_type": "markdown",
   "id": "c4cdd759",
   "metadata": {
    "papermill": {
     "duration": 0.029312,
     "end_time": "2024-02-15T05:49:43.181923",
     "exception": false,
     "start_time": "2024-02-15T05:49:43.152611",
     "status": "completed"
    },
    "tags": []
   },
   "source": [
    "This Notebook focuses on the classification of credit scores. In this notebook, we will explore and implement a machine learning model to categorize credit scores based on various features. By leveraging powerful algorithms, we aim to create an efficient and accurate system for predicting creditworthiness. "
   ]
  },
  {
   "cell_type": "markdown",
   "id": "36cbb756",
   "metadata": {
    "papermill": {
     "duration": 0.029694,
     "end_time": "2024-02-15T05:49:43.241200",
     "exception": false,
     "start_time": "2024-02-15T05:49:43.211506",
     "status": "completed"
    },
    "tags": []
   },
   "source": [
    "# Methodology"
   ]
  },
  {
   "cell_type": "markdown",
   "id": "f78109cd",
   "metadata": {
    "papermill": {
     "duration": 0.029306,
     "end_time": "2024-02-15T05:49:43.301807",
     "exception": false,
     "start_time": "2024-02-15T05:49:43.272501",
     "status": "completed"
    },
    "tags": []
   },
   "source": [
    "For this particular notebook, we are going to first impute our class column which is Credit_Mix. Credit Mix has four unique values, which are: Good, Standard, Bad and ' _ '. We are going to handle the ' _ ' values as they don't represent anything. They basically mean nan values. So, we are going to impute these ' _ ' values. But rather than using traditional imputing methods, we are going to drop the rows which have their class values as ' _ ' and keep them in a separate dataframe. Then we are going to work on the remaining rows, preprocess them and fit them into models. Then we are going to use our models to predict the class values of our previously saved dataframe which contains '_' values as their class. After predicting them, we are going to merge these two dataframes into one. The we are going to work on the cleaned dataset, train-test them in different models and evaluate them."
   ]
  },
  {
   "cell_type": "code",
   "execution_count": 1,
   "id": "fbf7b31a",
   "metadata": {
    "execution": {
     "iopub.execute_input": "2024-02-15T05:49:43.368331Z",
     "iopub.status.busy": "2024-02-15T05:49:43.367915Z",
     "iopub.status.idle": "2024-02-15T05:49:45.742017Z",
     "shell.execute_reply": "2024-02-15T05:49:45.740708Z"
    },
    "papermill": {
     "duration": 2.412228,
     "end_time": "2024-02-15T05:49:45.744604",
     "exception": false,
     "start_time": "2024-02-15T05:49:43.332376",
     "status": "completed"
    },
    "tags": []
   },
   "outputs": [],
   "source": [
    "import pandas as pd\n",
    "import numpy as np\n",
    "import matplotlib.pyplot as plt\n",
    "import seaborn as sns\n",
    "import warnings\n",
    "warnings.filterwarnings('ignore') "
   ]
  },
  {
   "cell_type": "markdown",
   "id": "2dd61318",
   "metadata": {
    "papermill": {
     "duration": 0.029782,
     "end_time": "2024-02-15T05:49:45.804686",
     "exception": false,
     "start_time": "2024-02-15T05:49:45.774904",
     "status": "completed"
    },
    "tags": []
   },
   "source": [
    "# Initial Observations"
   ]
  },
  {
   "cell_type": "code",
   "execution_count": 2,
   "id": "e63fb693",
   "metadata": {
    "execution": {
     "iopub.execute_input": "2024-02-15T05:49:45.927948Z",
     "iopub.status.busy": "2024-02-15T05:49:45.927472Z",
     "iopub.status.idle": "2024-02-15T05:49:47.193641Z",
     "shell.execute_reply": "2024-02-15T05:49:47.192541Z"
    },
    "papermill": {
     "duration": 1.30139,
     "end_time": "2024-02-15T05:49:47.196218",
     "exception": false,
     "start_time": "2024-02-15T05:49:45.894828",
     "status": "completed"
    },
    "tags": []
   },
   "outputs": [],
   "source": [
    "data = pd.read_csv(\"https://raw.githubusercontent.com/rashakil-ds/Public-Datasets/main/Bank%20Data.csv\")"
   ]
  },
  {
   "cell_type": "code",
   "execution_count": 3,
   "id": "a7c7479a",
   "metadata": {
    "execution": {
     "iopub.execute_input": "2024-02-15T05:49:47.258249Z",
     "iopub.status.busy": "2024-02-15T05:49:47.257914Z",
     "iopub.status.idle": "2024-02-15T05:49:47.296265Z",
     "shell.execute_reply": "2024-02-15T05:49:47.295205Z"
    },
    "papermill": {
     "duration": 0.071853,
     "end_time": "2024-02-15T05:49:47.298497",
     "exception": false,
     "start_time": "2024-02-15T05:49:47.226644",
     "status": "completed"
    },
    "tags": []
   },
   "outputs": [
    {
     "data": {
      "text/html": [
       "<div>\n",
       "<style scoped>\n",
       "    .dataframe tbody tr th:only-of-type {\n",
       "        vertical-align: middle;\n",
       "    }\n",
       "\n",
       "    .dataframe tbody tr th {\n",
       "        vertical-align: top;\n",
       "    }\n",
       "\n",
       "    .dataframe thead th {\n",
       "        text-align: right;\n",
       "    }\n",
       "</style>\n",
       "<table border=\"1\" class=\"dataframe\">\n",
       "  <thead>\n",
       "    <tr style=\"text-align: right;\">\n",
       "      <th></th>\n",
       "      <th>ID</th>\n",
       "      <th>Customer_ID</th>\n",
       "      <th>Month</th>\n",
       "      <th>Name</th>\n",
       "      <th>Age</th>\n",
       "      <th>SSN</th>\n",
       "      <th>Occupation</th>\n",
       "      <th>Annual_Income</th>\n",
       "      <th>Monthly_Inhand_Salary</th>\n",
       "      <th>Num_Bank_Accounts</th>\n",
       "      <th>...</th>\n",
       "      <th>Num_Credit_Inquiries</th>\n",
       "      <th>Credit_Mix</th>\n",
       "      <th>Outstanding_Debt</th>\n",
       "      <th>Credit_Utilization_Ratio</th>\n",
       "      <th>Credit_History_Age</th>\n",
       "      <th>Payment_of_Min_Amount</th>\n",
       "      <th>Total_EMI_per_month</th>\n",
       "      <th>Amount_invested_monthly</th>\n",
       "      <th>Payment_Behaviour</th>\n",
       "      <th>Monthly_Balance</th>\n",
       "    </tr>\n",
       "  </thead>\n",
       "  <tbody>\n",
       "    <tr>\n",
       "      <th>0</th>\n",
       "      <td>0x160a</td>\n",
       "      <td>CUS_0xd40</td>\n",
       "      <td>September</td>\n",
       "      <td>Aaron Maashoh</td>\n",
       "      <td>23</td>\n",
       "      <td>821-00-0265</td>\n",
       "      <td>Scientist</td>\n",
       "      <td>19114.12</td>\n",
       "      <td>1824.843333</td>\n",
       "      <td>3</td>\n",
       "      <td>...</td>\n",
       "      <td>2022.0</td>\n",
       "      <td>Good</td>\n",
       "      <td>809.98</td>\n",
       "      <td>35.030402</td>\n",
       "      <td>22 Years and 9 Months</td>\n",
       "      <td>No</td>\n",
       "      <td>49.574949</td>\n",
       "      <td>236.64268203272135</td>\n",
       "      <td>Low_spent_Small_value_payments</td>\n",
       "      <td>186.26670208571772</td>\n",
       "    </tr>\n",
       "    <tr>\n",
       "      <th>1</th>\n",
       "      <td>0x160b</td>\n",
       "      <td>CUS_0xd40</td>\n",
       "      <td>October</td>\n",
       "      <td>Aaron Maashoh</td>\n",
       "      <td>24</td>\n",
       "      <td>821-00-0265</td>\n",
       "      <td>Scientist</td>\n",
       "      <td>19114.12</td>\n",
       "      <td>1824.843333</td>\n",
       "      <td>3</td>\n",
       "      <td>...</td>\n",
       "      <td>4.0</td>\n",
       "      <td>Good</td>\n",
       "      <td>809.98</td>\n",
       "      <td>33.053114</td>\n",
       "      <td>22 Years and 10 Months</td>\n",
       "      <td>No</td>\n",
       "      <td>49.574949</td>\n",
       "      <td>21.465380264657146</td>\n",
       "      <td>High_spent_Medium_value_payments</td>\n",
       "      <td>361.44400385378196</td>\n",
       "    </tr>\n",
       "    <tr>\n",
       "      <th>2</th>\n",
       "      <td>0x160c</td>\n",
       "      <td>CUS_0xd40</td>\n",
       "      <td>November</td>\n",
       "      <td>Aaron Maashoh</td>\n",
       "      <td>24</td>\n",
       "      <td>821-00-0265</td>\n",
       "      <td>Scientist</td>\n",
       "      <td>19114.12</td>\n",
       "      <td>1824.843333</td>\n",
       "      <td>3</td>\n",
       "      <td>...</td>\n",
       "      <td>4.0</td>\n",
       "      <td>Good</td>\n",
       "      <td>809.98</td>\n",
       "      <td>33.811894</td>\n",
       "      <td>NaN</td>\n",
       "      <td>No</td>\n",
       "      <td>49.574949</td>\n",
       "      <td>148.23393788500925</td>\n",
       "      <td>Low_spent_Medium_value_payments</td>\n",
       "      <td>264.67544623342997</td>\n",
       "    </tr>\n",
       "    <tr>\n",
       "      <th>3</th>\n",
       "      <td>0x160d</td>\n",
       "      <td>CUS_0xd40</td>\n",
       "      <td>December</td>\n",
       "      <td>Aaron Maashoh</td>\n",
       "      <td>24_</td>\n",
       "      <td>821-00-0265</td>\n",
       "      <td>Scientist</td>\n",
       "      <td>19114.12</td>\n",
       "      <td>NaN</td>\n",
       "      <td>3</td>\n",
       "      <td>...</td>\n",
       "      <td>4.0</td>\n",
       "      <td>Good</td>\n",
       "      <td>809.98</td>\n",
       "      <td>32.430559</td>\n",
       "      <td>23 Years and 0 Months</td>\n",
       "      <td>No</td>\n",
       "      <td>49.574949</td>\n",
       "      <td>39.08251089460281</td>\n",
       "      <td>High_spent_Medium_value_payments</td>\n",
       "      <td>343.82687322383634</td>\n",
       "    </tr>\n",
       "    <tr>\n",
       "      <th>4</th>\n",
       "      <td>0x1616</td>\n",
       "      <td>CUS_0x21b1</td>\n",
       "      <td>September</td>\n",
       "      <td>Rick Rothackerj</td>\n",
       "      <td>28</td>\n",
       "      <td>004-07-5839</td>\n",
       "      <td>_______</td>\n",
       "      <td>34847.84</td>\n",
       "      <td>3037.986667</td>\n",
       "      <td>2</td>\n",
       "      <td>...</td>\n",
       "      <td>5.0</td>\n",
       "      <td>Good</td>\n",
       "      <td>605.03</td>\n",
       "      <td>25.926822</td>\n",
       "      <td>27 Years and 3 Months</td>\n",
       "      <td>No</td>\n",
       "      <td>18.816215</td>\n",
       "      <td>39.684018417945296</td>\n",
       "      <td>High_spent_Large_value_payments</td>\n",
       "      <td>485.2984336755923</td>\n",
       "    </tr>\n",
       "  </tbody>\n",
       "</table>\n",
       "<p>5 rows × 27 columns</p>\n",
       "</div>"
      ],
      "text/plain": [
       "       ID Customer_ID      Month             Name  Age          SSN  \\\n",
       "0  0x160a   CUS_0xd40  September    Aaron Maashoh   23  821-00-0265   \n",
       "1  0x160b   CUS_0xd40    October    Aaron Maashoh   24  821-00-0265   \n",
       "2  0x160c   CUS_0xd40   November    Aaron Maashoh   24  821-00-0265   \n",
       "3  0x160d   CUS_0xd40   December    Aaron Maashoh  24_  821-00-0265   \n",
       "4  0x1616  CUS_0x21b1  September  Rick Rothackerj   28  004-07-5839   \n",
       "\n",
       "  Occupation Annual_Income  Monthly_Inhand_Salary  Num_Bank_Accounts  ...  \\\n",
       "0  Scientist      19114.12            1824.843333                  3  ...   \n",
       "1  Scientist      19114.12            1824.843333                  3  ...   \n",
       "2  Scientist      19114.12            1824.843333                  3  ...   \n",
       "3  Scientist      19114.12                    NaN                  3  ...   \n",
       "4    _______      34847.84            3037.986667                  2  ...   \n",
       "\n",
       "   Num_Credit_Inquiries  Credit_Mix Outstanding_Debt Credit_Utilization_Ratio  \\\n",
       "0                2022.0        Good           809.98                35.030402   \n",
       "1                   4.0        Good           809.98                33.053114   \n",
       "2                   4.0        Good           809.98                33.811894   \n",
       "3                   4.0        Good           809.98                32.430559   \n",
       "4                   5.0        Good           605.03                25.926822   \n",
       "\n",
       "       Credit_History_Age Payment_of_Min_Amount Total_EMI_per_month  \\\n",
       "0   22 Years and 9 Months                    No           49.574949   \n",
       "1  22 Years and 10 Months                    No           49.574949   \n",
       "2                     NaN                    No           49.574949   \n",
       "3   23 Years and 0 Months                    No           49.574949   \n",
       "4   27 Years and 3 Months                    No           18.816215   \n",
       "\n",
       "   Amount_invested_monthly                 Payment_Behaviour  \\\n",
       "0       236.64268203272135    Low_spent_Small_value_payments   \n",
       "1       21.465380264657146  High_spent_Medium_value_payments   \n",
       "2       148.23393788500925   Low_spent_Medium_value_payments   \n",
       "3        39.08251089460281  High_spent_Medium_value_payments   \n",
       "4       39.684018417945296   High_spent_Large_value_payments   \n",
       "\n",
       "      Monthly_Balance  \n",
       "0  186.26670208571772  \n",
       "1  361.44400385378196  \n",
       "2  264.67544623342997  \n",
       "3  343.82687322383634  \n",
       "4   485.2984336755923  \n",
       "\n",
       "[5 rows x 27 columns]"
      ]
     },
     "execution_count": 3,
     "metadata": {},
     "output_type": "execute_result"
    }
   ],
   "source": [
    "data.head(5)"
   ]
  },
  {
   "cell_type": "code",
   "execution_count": 4,
   "id": "9274a65f",
   "metadata": {
    "execution": {
     "iopub.execute_input": "2024-02-15T05:49:47.361111Z",
     "iopub.status.busy": "2024-02-15T05:49:47.360722Z",
     "iopub.status.idle": "2024-02-15T05:49:47.373919Z",
     "shell.execute_reply": "2024-02-15T05:49:47.372810Z"
    },
    "papermill": {
     "duration": 0.047353,
     "end_time": "2024-02-15T05:49:47.376328",
     "exception": false,
     "start_time": "2024-02-15T05:49:47.328975",
     "status": "completed"
    },
    "tags": []
   },
   "outputs": [],
   "source": [
    "df = data.copy()"
   ]
  },
  {
   "cell_type": "code",
   "execution_count": 5,
   "id": "38c90cc3",
   "metadata": {
    "execution": {
     "iopub.execute_input": "2024-02-15T05:49:47.440486Z",
     "iopub.status.busy": "2024-02-15T05:49:47.440031Z",
     "iopub.status.idle": "2024-02-15T05:49:47.456062Z",
     "shell.execute_reply": "2024-02-15T05:49:47.454941Z"
    },
    "papermill": {
     "duration": 0.051483,
     "end_time": "2024-02-15T05:49:47.458995",
     "exception": false,
     "start_time": "2024-02-15T05:49:47.407512",
     "status": "completed"
    },
    "tags": []
   },
   "outputs": [
    {
     "data": {
      "text/plain": [
       "array(['Good', '_', 'Standard', 'Bad'], dtype=object)"
      ]
     },
     "execution_count": 5,
     "metadata": {},
     "output_type": "execute_result"
    }
   ],
   "source": [
    "df[\"Credit_Mix\"].unique()"
   ]
  },
  {
   "cell_type": "code",
   "execution_count": 6,
   "id": "0f21ebc3",
   "metadata": {
    "execution": {
     "iopub.execute_input": "2024-02-15T05:49:47.524566Z",
     "iopub.status.busy": "2024-02-15T05:49:47.524188Z",
     "iopub.status.idle": "2024-02-15T05:49:47.530460Z",
     "shell.execute_reply": "2024-02-15T05:49:47.529383Z"
    },
    "papermill": {
     "duration": 0.042426,
     "end_time": "2024-02-15T05:49:47.532623",
     "exception": false,
     "start_time": "2024-02-15T05:49:47.490197",
     "status": "completed"
    },
    "tags": []
   },
   "outputs": [
    {
     "data": {
      "text/plain": [
       "(50000, 27)"
      ]
     },
     "execution_count": 6,
     "metadata": {},
     "output_type": "execute_result"
    }
   ],
   "source": [
    "df.shape"
   ]
  },
  {
   "cell_type": "markdown",
   "id": "fca2a441",
   "metadata": {
    "papermill": {
     "duration": 0.031056,
     "end_time": "2024-02-15T05:49:47.595653",
     "exception": false,
     "start_time": "2024-02-15T05:49:47.564597",
     "status": "completed"
    },
    "tags": []
   },
   "source": [
    "### From our initial obseravation, we can say:\n",
    "    - We have 27 columns in our dataset\n",
    "    - Credit_Mix is our class column\n",
    "    - We need to modify some columns to convert them into numeric values. e.g: Credit History Age"
   ]
  },
  {
   "cell_type": "markdown",
   "id": "bdaab9e9",
   "metadata": {
    "papermill": {
     "duration": 0.03052,
     "end_time": "2024-02-15T05:49:47.657219",
     "exception": false,
     "start_time": "2024-02-15T05:49:47.626699",
     "status": "completed"
    },
    "tags": []
   },
   "source": [
    "# Data Preparation & Preprocessing"
   ]
  },
  {
   "cell_type": "markdown",
   "id": "ad3c26f3",
   "metadata": {
    "papermill": {
     "duration": 0.030519,
     "end_time": "2024-02-15T05:49:47.719295",
     "exception": false,
     "start_time": "2024-02-15T05:49:47.688776",
     "status": "completed"
    },
    "tags": []
   },
   "source": [
    "## Remove Unnecessary Features"
   ]
  },
  {
   "cell_type": "code",
   "execution_count": 7,
   "id": "6a68fe2d",
   "metadata": {
    "execution": {
     "iopub.execute_input": "2024-02-15T05:49:47.784022Z",
     "iopub.status.busy": "2024-02-15T05:49:47.783671Z",
     "iopub.status.idle": "2024-02-15T05:49:47.788477Z",
     "shell.execute_reply": "2024-02-15T05:49:47.787503Z"
    },
    "papermill": {
     "duration": 0.040473,
     "end_time": "2024-02-15T05:49:47.790567",
     "exception": false,
     "start_time": "2024-02-15T05:49:47.750094",
     "status": "completed"
    },
    "tags": []
   },
   "outputs": [],
   "source": [
    "# We remove some columns from our dataset which aren't having any significant impact to our class column"
   ]
  },
  {
   "cell_type": "code",
   "execution_count": 8,
   "id": "635653ac",
   "metadata": {
    "execution": {
     "iopub.execute_input": "2024-02-15T05:49:47.855347Z",
     "iopub.status.busy": "2024-02-15T05:49:47.854755Z",
     "iopub.status.idle": "2024-02-15T05:49:47.872375Z",
     "shell.execute_reply": "2024-02-15T05:49:47.871260Z"
    },
    "papermill": {
     "duration": 0.054043,
     "end_time": "2024-02-15T05:49:47.875084",
     "exception": false,
     "start_time": "2024-02-15T05:49:47.821041",
     "status": "completed"
    },
    "tags": []
   },
   "outputs": [],
   "source": [
    "df.drop([\"ID\",\"Customer_ID\",\"Month\",\"Name\",\"SSN\",\"Age\",\"Occupation\"],axis = 1,inplace = True)"
   ]
  },
  {
   "cell_type": "code",
   "execution_count": 9,
   "id": "94c035b2",
   "metadata": {
    "execution": {
     "iopub.execute_input": "2024-02-15T05:49:47.942299Z",
     "iopub.status.busy": "2024-02-15T05:49:47.941920Z",
     "iopub.status.idle": "2024-02-15T05:49:47.985085Z",
     "shell.execute_reply": "2024-02-15T05:49:47.983663Z"
    },
    "papermill": {
     "duration": 0.081398,
     "end_time": "2024-02-15T05:49:47.988092",
     "exception": false,
     "start_time": "2024-02-15T05:49:47.906694",
     "status": "completed"
    },
    "tags": []
   },
   "outputs": [
    {
     "data": {
      "text/plain": [
       "Annual_Income                  0\n",
       "Monthly_Inhand_Salary       7498\n",
       "Num_Bank_Accounts              0\n",
       "Num_Credit_Card                0\n",
       "Interest_Rate                  0\n",
       "Num_of_Loan                    0\n",
       "Type_of_Loan                5704\n",
       "Delay_from_due_date            0\n",
       "Num_of_Delayed_Payment      3498\n",
       "Changed_Credit_Limit           0\n",
       "Num_Credit_Inquiries        1035\n",
       "Credit_Mix                     0\n",
       "Outstanding_Debt               0\n",
       "Credit_Utilization_Ratio       0\n",
       "Credit_History_Age          4470\n",
       "Payment_of_Min_Amount          0\n",
       "Total_EMI_per_month            0\n",
       "Amount_invested_monthly     2271\n",
       "Payment_Behaviour              0\n",
       "Monthly_Balance              562\n",
       "dtype: int64"
      ]
     },
     "execution_count": 9,
     "metadata": {},
     "output_type": "execute_result"
    }
   ],
   "source": [
    "df.isna().sum()"
   ]
  },
  {
   "cell_type": "code",
   "execution_count": 10,
   "id": "d17c549c",
   "metadata": {
    "execution": {
     "iopub.execute_input": "2024-02-15T05:49:48.053115Z",
     "iopub.status.busy": "2024-02-15T05:49:48.052752Z",
     "iopub.status.idle": "2024-02-15T05:49:48.061123Z",
     "shell.execute_reply": "2024-02-15T05:49:48.059974Z"
    },
    "papermill": {
     "duration": 0.043467,
     "end_time": "2024-02-15T05:49:48.063141",
     "exception": false,
     "start_time": "2024-02-15T05:49:48.019674",
     "status": "completed"
    },
    "tags": []
   },
   "outputs": [
    {
     "data": {
      "text/plain": [
       "Annual_Income                object\n",
       "Monthly_Inhand_Salary       float64\n",
       "Num_Bank_Accounts             int64\n",
       "Num_Credit_Card               int64\n",
       "Interest_Rate                 int64\n",
       "Num_of_Loan                  object\n",
       "Type_of_Loan                 object\n",
       "Delay_from_due_date           int64\n",
       "Num_of_Delayed_Payment       object\n",
       "Changed_Credit_Limit         object\n",
       "Num_Credit_Inquiries        float64\n",
       "Credit_Mix                   object\n",
       "Outstanding_Debt             object\n",
       "Credit_Utilization_Ratio    float64\n",
       "Credit_History_Age           object\n",
       "Payment_of_Min_Amount        object\n",
       "Total_EMI_per_month         float64\n",
       "Amount_invested_monthly      object\n",
       "Payment_Behaviour            object\n",
       "Monthly_Balance              object\n",
       "dtype: object"
      ]
     },
     "execution_count": 10,
     "metadata": {},
     "output_type": "execute_result"
    }
   ],
   "source": [
    "df.dtypes"
   ]
  },
  {
   "cell_type": "code",
   "execution_count": 11,
   "id": "4607bb2f",
   "metadata": {
    "execution": {
     "iopub.execute_input": "2024-02-15T05:49:48.127963Z",
     "iopub.status.busy": "2024-02-15T05:49:48.126900Z",
     "iopub.status.idle": "2024-02-15T05:49:48.133416Z",
     "shell.execute_reply": "2024-02-15T05:49:48.132541Z"
    },
    "papermill": {
     "duration": 0.041719,
     "end_time": "2024-02-15T05:49:48.135721",
     "exception": false,
     "start_time": "2024-02-15T05:49:48.094002",
     "status": "completed"
    },
    "tags": []
   },
   "outputs": [],
   "source": [
    "def impute_dataset(df):\n",
    "    for col_name in df.columns:\n",
    "        if df[col_name].isna().sum() > 0 and df[col_name].nunique() > 5 and df[col_name].dtypes != \"object\":\n",
    "            df[col_name].fillna(df[col_name].mean(),inplace = True)\n",
    "        elif df[col_name].isna().sum() > 0 and df[col_name].nunique() < 5 and df[col_name].dtypes != \"object\":\n",
    "            df[col_name].fillna(df[col_name].mode().iloc[0],inplace = True)"
   ]
  },
  {
   "cell_type": "markdown",
   "id": "505774a0",
   "metadata": {
    "papermill": {
     "duration": 0.030622,
     "end_time": "2024-02-15T05:49:48.197330",
     "exception": false,
     "start_time": "2024-02-15T05:49:48.166708",
     "status": "completed"
    },
    "tags": []
   },
   "source": [
    "## Handle Type of Loan"
   ]
  },
  {
   "cell_type": "markdown",
   "id": "8bf8b008",
   "metadata": {
    "papermill": {
     "duration": 0.031756,
     "end_time": "2024-02-15T05:49:48.259884",
     "exception": false,
     "start_time": "2024-02-15T05:49:48.228128",
     "status": "completed"
    },
    "tags": []
   },
   "source": [
    "*We need to modify our Type_of_Loan column as it has multiple loan types comma separated in a single string. To handle this, We are going to split our Type of loan column where there is an comma and we are going to remove 'and' from each row. We also going to handle any NAN value if there's any present in our column. Lastly we are going to use one-hot encoding.*"
   ]
  },
  {
   "cell_type": "code",
   "execution_count": 12,
   "id": "34fb08a1",
   "metadata": {
    "execution": {
     "iopub.execute_input": "2024-02-15T05:49:48.325230Z",
     "iopub.status.busy": "2024-02-15T05:49:48.324885Z",
     "iopub.status.idle": "2024-02-15T05:49:48.328797Z",
     "shell.execute_reply": "2024-02-15T05:49:48.327734Z"
    },
    "papermill": {
     "duration": 0.038929,
     "end_time": "2024-02-15T05:49:48.330971",
     "exception": false,
     "start_time": "2024-02-15T05:49:48.292042",
     "status": "completed"
    },
    "tags": []
   },
   "outputs": [],
   "source": [
    "# df[\"Type_of_Loan\"].unique()"
   ]
  },
  {
   "cell_type": "code",
   "execution_count": 13,
   "id": "75009e1d",
   "metadata": {
    "execution": {
     "iopub.execute_input": "2024-02-15T05:49:48.397478Z",
     "iopub.status.busy": "2024-02-15T05:49:48.397082Z",
     "iopub.status.idle": "2024-02-15T05:49:48.529898Z",
     "shell.execute_reply": "2024-02-15T05:49:48.528823Z"
    },
    "papermill": {
     "duration": 0.170323,
     "end_time": "2024-02-15T05:49:48.532405",
     "exception": false,
     "start_time": "2024-02-15T05:49:48.362082",
     "status": "completed"
    },
    "tags": []
   },
   "outputs": [],
   "source": [
    "# df['Type_of_Loan'] = df['Type_of_Loan'].apply(lambda x: list(set(item.replace(\" and \", \"\").strip() for item in str(x).split(','))))\n",
    "df['Type_of_Loan'] = df['Type_of_Loan'].apply(lambda x: ', '.join(set(item.replace(\" and \", \"\").strip() for item in str(x).split(','))))\n",
    "\n",
    "    "
   ]
  },
  {
   "cell_type": "code",
   "execution_count": 14,
   "id": "d854ef33",
   "metadata": {
    "execution": {
     "iopub.execute_input": "2024-02-15T05:49:48.595772Z",
     "iopub.status.busy": "2024-02-15T05:49:48.595375Z",
     "iopub.status.idle": "2024-02-15T05:49:48.603065Z",
     "shell.execute_reply": "2024-02-15T05:49:48.602284Z"
    },
    "papermill": {
     "duration": 0.041664,
     "end_time": "2024-02-15T05:49:48.604966",
     "exception": false,
     "start_time": "2024-02-15T05:49:48.563302",
     "status": "completed"
    },
    "tags": []
   },
   "outputs": [
    {
     "data": {
      "text/plain": [
       "0        Home Equity Loan, Credit-Builder Loan, Persona...\n",
       "1        Home Equity Loan, Credit-Builder Loan, Persona...\n",
       "2        Home Equity Loan, Credit-Builder Loan, Persona...\n",
       "3        Home Equity Loan, Credit-Builder Loan, Persona...\n",
       "4                                      Credit-Builder Loan\n",
       "                               ...                        \n",
       "49995    Personal Loan, Mortgage Loan, Student Loan, Au...\n",
       "49996                              Student Loan, Auto Loan\n",
       "49997                              Student Loan, Auto Loan\n",
       "49998                              Student Loan, Auto Loan\n",
       "49999                              Student Loan, Auto Loan\n",
       "Name: Type_of_Loan, Length: 50000, dtype: object"
      ]
     },
     "execution_count": 14,
     "metadata": {},
     "output_type": "execute_result"
    }
   ],
   "source": [
    "df['Type_of_Loan']"
   ]
  },
  {
   "cell_type": "code",
   "execution_count": 15,
   "id": "377ed1d2",
   "metadata": {
    "execution": {
     "iopub.execute_input": "2024-02-15T05:49:48.669733Z",
     "iopub.status.busy": "2024-02-15T05:49:48.669072Z",
     "iopub.status.idle": "2024-02-15T05:49:48.746624Z",
     "shell.execute_reply": "2024-02-15T05:49:48.745673Z"
    },
    "papermill": {
     "duration": 0.112308,
     "end_time": "2024-02-15T05:49:48.748911",
     "exception": false,
     "start_time": "2024-02-15T05:49:48.636603",
     "status": "completed"
    },
    "tags": []
   },
   "outputs": [],
   "source": [
    "unique_values_set = set()\n",
    "\n",
    "for value in df[\"Type_of_Loan\"]:\n",
    "    value_list = [item.replace(\" and \",\"\").strip() for item in str(value).split(\",\") if item.strip() not in unique_values_set]\n",
    "    unique_values_set.update(value_list)\n",
    "\n",
    "unique_values = list(unique_values_set)"
   ]
  },
  {
   "cell_type": "code",
   "execution_count": 16,
   "id": "24effe87",
   "metadata": {
    "execution": {
     "iopub.execute_input": "2024-02-15T05:49:48.813658Z",
     "iopub.status.busy": "2024-02-15T05:49:48.813013Z",
     "iopub.status.idle": "2024-02-15T05:49:48.818519Z",
     "shell.execute_reply": "2024-02-15T05:49:48.817178Z"
    },
    "papermill": {
     "duration": 0.040049,
     "end_time": "2024-02-15T05:49:48.820738",
     "exception": false,
     "start_time": "2024-02-15T05:49:48.780689",
     "status": "completed"
    },
    "tags": []
   },
   "outputs": [
    {
     "name": "stdout",
     "output_type": "stream",
     "text": [
      "{'Payday Loan', 'Debt Consolidation Loan', 'Auto Loan', 'Home Equity Loan', 'nan', 'Credit-Builder Loan', 'Personal Loan', 'Mortgage Loan', 'Not Specified', 'Student Loan'}\n"
     ]
    }
   ],
   "source": [
    "print(unique_values_set)"
   ]
  },
  {
   "cell_type": "code",
   "execution_count": 17,
   "id": "4fd73deb",
   "metadata": {
    "execution": {
     "iopub.execute_input": "2024-02-15T05:49:48.886946Z",
     "iopub.status.busy": "2024-02-15T05:49:48.886573Z",
     "iopub.status.idle": "2024-02-15T05:49:48.910351Z",
     "shell.execute_reply": "2024-02-15T05:49:48.909355Z"
    },
    "papermill": {
     "duration": 0.05977,
     "end_time": "2024-02-15T05:49:48.912671",
     "exception": false,
     "start_time": "2024-02-15T05:49:48.852901",
     "status": "completed"
    },
    "tags": []
   },
   "outputs": [],
   "source": [
    "df['Type_of_Loan'] = df['Type_of_Loan'].str.replace('and','')"
   ]
  },
  {
   "cell_type": "code",
   "execution_count": 18,
   "id": "1a8e5b03",
   "metadata": {
    "execution": {
     "iopub.execute_input": "2024-02-15T05:49:48.977754Z",
     "iopub.status.busy": "2024-02-15T05:49:48.977160Z",
     "iopub.status.idle": "2024-02-15T05:49:48.997587Z",
     "shell.execute_reply": "2024-02-15T05:49:48.996117Z"
    },
    "papermill": {
     "duration": 0.056258,
     "end_time": "2024-02-15T05:49:49.000399",
     "exception": false,
     "start_time": "2024-02-15T05:49:48.944141",
     "status": "completed"
    },
    "tags": []
   },
   "outputs": [],
   "source": [
    "df['Type_of_Loan'] = df['Type_of_Loan'].str.strip('')"
   ]
  },
  {
   "cell_type": "code",
   "execution_count": 19,
   "id": "578f8dfe",
   "metadata": {
    "execution": {
     "iopub.execute_input": "2024-02-15T05:49:49.066058Z",
     "iopub.status.busy": "2024-02-15T05:49:49.065719Z",
     "iopub.status.idle": "2024-02-15T05:49:49.071924Z",
     "shell.execute_reply": "2024-02-15T05:49:49.071131Z"
    },
    "papermill": {
     "duration": 0.041106,
     "end_time": "2024-02-15T05:49:49.073747",
     "exception": false,
     "start_time": "2024-02-15T05:49:49.032641",
     "status": "completed"
    },
    "tags": []
   },
   "outputs": [
    {
     "data": {
      "text/plain": [
       "'Home Equity Loan, Credit-Builder Loan, Personal Loan, Auto Loan'"
      ]
     },
     "execution_count": 19,
     "metadata": {},
     "output_type": "execute_result"
    }
   ],
   "source": [
    "df['Type_of_Loan'][0]"
   ]
  },
  {
   "cell_type": "code",
   "execution_count": 20,
   "id": "f10c977e",
   "metadata": {
    "execution": {
     "iopub.execute_input": "2024-02-15T05:49:49.138822Z",
     "iopub.status.busy": "2024-02-15T05:49:49.138442Z",
     "iopub.status.idle": "2024-02-15T05:49:49.598641Z",
     "shell.execute_reply": "2024-02-15T05:49:49.597451Z"
    },
    "papermill": {
     "duration": 0.49697,
     "end_time": "2024-02-15T05:49:49.601704",
     "exception": false,
     "start_time": "2024-02-15T05:49:49.104734",
     "status": "completed"
    },
    "tags": []
   },
   "outputs": [],
   "source": [
    "dummies = df['Type_of_Loan'].str.get_dummies(\", \")"
   ]
  },
  {
   "cell_type": "code",
   "execution_count": 21,
   "id": "5d8f3482",
   "metadata": {
    "execution": {
     "iopub.execute_input": "2024-02-15T05:49:49.673709Z",
     "iopub.status.busy": "2024-02-15T05:49:49.673317Z",
     "iopub.status.idle": "2024-02-15T05:49:49.714131Z",
     "shell.execute_reply": "2024-02-15T05:49:49.713105Z"
    },
    "papermill": {
     "duration": 0.076033,
     "end_time": "2024-02-15T05:49:49.716687",
     "exception": false,
     "start_time": "2024-02-15T05:49:49.640654",
     "status": "completed"
    },
    "tags": []
   },
   "outputs": [],
   "source": [
    "df = pd.concat([df, dummies], axis = 1)"
   ]
  },
  {
   "cell_type": "code",
   "execution_count": 22,
   "id": "e6721a65",
   "metadata": {
    "execution": {
     "iopub.execute_input": "2024-02-15T05:49:49.781641Z",
     "iopub.status.busy": "2024-02-15T05:49:49.780998Z",
     "iopub.status.idle": "2024-02-15T05:49:49.787804Z",
     "shell.execute_reply": "2024-02-15T05:49:49.786664Z"
    },
    "papermill": {
     "duration": 0.042062,
     "end_time": "2024-02-15T05:49:49.789975",
     "exception": false,
     "start_time": "2024-02-15T05:49:49.747913",
     "status": "completed"
    },
    "tags": []
   },
   "outputs": [
    {
     "data": {
      "text/plain": [
       "(50000, 30)"
      ]
     },
     "execution_count": 22,
     "metadata": {},
     "output_type": "execute_result"
    }
   ],
   "source": [
    "df.shape"
   ]
  },
  {
   "cell_type": "code",
   "execution_count": 23,
   "id": "5e58b57f",
   "metadata": {
    "execution": {
     "iopub.execute_input": "2024-02-15T05:49:49.866579Z",
     "iopub.status.busy": "2024-02-15T05:49:49.865846Z",
     "iopub.status.idle": "2024-02-15T05:49:49.882349Z",
     "shell.execute_reply": "2024-02-15T05:49:49.881048Z"
    },
    "papermill": {
     "duration": 0.054519,
     "end_time": "2024-02-15T05:49:49.885124",
     "exception": false,
     "start_time": "2024-02-15T05:49:49.830605",
     "status": "completed"
    },
    "tags": []
   },
   "outputs": [],
   "source": [
    "df.drop(\"Type_of_Loan\",axis=1,inplace = True)"
   ]
  },
  {
   "cell_type": "code",
   "execution_count": 24,
   "id": "dc6db27a",
   "metadata": {
    "execution": {
     "iopub.execute_input": "2024-02-15T05:49:49.955069Z",
     "iopub.status.busy": "2024-02-15T05:49:49.954665Z",
     "iopub.status.idle": "2024-02-15T05:49:49.961408Z",
     "shell.execute_reply": "2024-02-15T05:49:49.960113Z"
    },
    "papermill": {
     "duration": 0.04407,
     "end_time": "2024-02-15T05:49:49.963738",
     "exception": false,
     "start_time": "2024-02-15T05:49:49.919668",
     "status": "completed"
    },
    "tags": []
   },
   "outputs": [
    {
     "data": {
      "text/plain": [
       "(50000, 29)"
      ]
     },
     "execution_count": 24,
     "metadata": {},
     "output_type": "execute_result"
    }
   ],
   "source": [
    "df.shape"
   ]
  },
  {
   "cell_type": "code",
   "execution_count": 25,
   "id": "da07b38d",
   "metadata": {
    "execution": {
     "iopub.execute_input": "2024-02-15T05:49:50.032279Z",
     "iopub.status.busy": "2024-02-15T05:49:50.031948Z",
     "iopub.status.idle": "2024-02-15T05:49:50.111217Z",
     "shell.execute_reply": "2024-02-15T05:49:50.110362Z"
    },
    "papermill": {
     "duration": 0.116036,
     "end_time": "2024-02-15T05:49:50.113357",
     "exception": false,
     "start_time": "2024-02-15T05:49:49.997321",
     "status": "completed"
    },
    "tags": []
   },
   "outputs": [
    {
     "data": {
      "text/plain": [
       "Annual_Income               16121\n",
       "Monthly_Inhand_Salary       12793\n",
       "Num_Bank_Accounts             540\n",
       "Num_Credit_Card               819\n",
       "Interest_Rate                 945\n",
       "Num_of_Loan                   263\n",
       "Delay_from_due_date            73\n",
       "Num_of_Delayed_Payment        443\n",
       "Changed_Credit_Limit         3927\n",
       "Num_Credit_Inquiries          750\n",
       "Credit_Mix                      4\n",
       "Outstanding_Debt            12685\n",
       "Credit_Utilization_Ratio    50000\n",
       "Credit_History_Age            399\n",
       "Payment_of_Min_Amount           3\n",
       "Total_EMI_per_month         13144\n",
       "Amount_invested_monthly     45450\n",
       "Payment_Behaviour               7\n",
       "Monthly_Balance             49433\n",
       "Auto Loan                       2\n",
       "Credit-Builder Loan             2\n",
       "Debt Consolidation Loan         2\n",
       "Home Equity Loan                2\n",
       "Mortgage Loan                   2\n",
       "Not Specified                   2\n",
       "Payday Loan                     2\n",
       "Personal Loan                   2\n",
       "Student Loan                    2\n",
       "nan                             2\n",
       "dtype: int64"
      ]
     },
     "execution_count": 25,
     "metadata": {},
     "output_type": "execute_result"
    }
   ],
   "source": [
    "df.nunique()"
   ]
  },
  {
   "cell_type": "markdown",
   "id": "f854b80f",
   "metadata": {
    "papermill": {
     "duration": 0.032675,
     "end_time": "2024-02-15T05:49:50.178005",
     "exception": false,
     "start_time": "2024-02-15T05:49:50.145330",
     "status": "completed"
    },
    "tags": []
   },
   "source": [
    "*We are dropping the nan column as we don't need it.If The other columns representing different loan types is zero '0', then we will automatically know if the user has any kind of loan or not.*"
   ]
  },
  {
   "cell_type": "code",
   "execution_count": 26,
   "id": "43f3b4b8",
   "metadata": {
    "execution": {
     "iopub.execute_input": "2024-02-15T05:49:50.250405Z",
     "iopub.status.busy": "2024-02-15T05:49:50.249158Z",
     "iopub.status.idle": "2024-02-15T05:49:50.266761Z",
     "shell.execute_reply": "2024-02-15T05:49:50.265794Z"
    },
    "papermill": {
     "duration": 0.054809,
     "end_time": "2024-02-15T05:49:50.269090",
     "exception": false,
     "start_time": "2024-02-15T05:49:50.214281",
     "status": "completed"
    },
    "tags": []
   },
   "outputs": [],
   "source": [
    "df.drop(\"nan\",axis=1,inplace=True)"
   ]
  },
  {
   "cell_type": "code",
   "execution_count": 27,
   "id": "d72d65de",
   "metadata": {
    "execution": {
     "iopub.execute_input": "2024-02-15T05:49:50.334931Z",
     "iopub.status.busy": "2024-02-15T05:49:50.334014Z",
     "iopub.status.idle": "2024-02-15T05:49:50.418163Z",
     "shell.execute_reply": "2024-02-15T05:49:50.417105Z"
    },
    "papermill": {
     "duration": 0.119636,
     "end_time": "2024-02-15T05:49:50.420777",
     "exception": false,
     "start_time": "2024-02-15T05:49:50.301141",
     "status": "completed"
    },
    "tags": []
   },
   "outputs": [
    {
     "data": {
      "text/html": [
       "<div>\n",
       "<style scoped>\n",
       "    .dataframe tbody tr th:only-of-type {\n",
       "        vertical-align: middle;\n",
       "    }\n",
       "\n",
       "    .dataframe tbody tr th {\n",
       "        vertical-align: top;\n",
       "    }\n",
       "\n",
       "    .dataframe thead th {\n",
       "        text-align: right;\n",
       "    }\n",
       "</style>\n",
       "<table border=\"1\" class=\"dataframe\">\n",
       "  <thead>\n",
       "    <tr style=\"text-align: right;\">\n",
       "      <th></th>\n",
       "      <th>Monthly_Inhand_Salary</th>\n",
       "      <th>Num_Bank_Accounts</th>\n",
       "      <th>Num_Credit_Card</th>\n",
       "      <th>Interest_Rate</th>\n",
       "      <th>Delay_from_due_date</th>\n",
       "      <th>Num_Credit_Inquiries</th>\n",
       "      <th>Credit_Utilization_Ratio</th>\n",
       "      <th>Total_EMI_per_month</th>\n",
       "      <th>Auto Loan</th>\n",
       "      <th>Credit-Builder Loan</th>\n",
       "      <th>Debt Consolidation Loan</th>\n",
       "      <th>Home Equity Loan</th>\n",
       "      <th>Mortgage Loan</th>\n",
       "      <th>Not Specified</th>\n",
       "      <th>Payday Loan</th>\n",
       "      <th>Personal Loan</th>\n",
       "      <th>Student Loan</th>\n",
       "    </tr>\n",
       "  </thead>\n",
       "  <tbody>\n",
       "    <tr>\n",
       "      <th>count</th>\n",
       "      <td>42502.000000</td>\n",
       "      <td>50000.000000</td>\n",
       "      <td>50000.000000</td>\n",
       "      <td>50000.000000</td>\n",
       "      <td>50000.000000</td>\n",
       "      <td>48965.000000</td>\n",
       "      <td>50000.000000</td>\n",
       "      <td>50000.000000</td>\n",
       "      <td>50000.000000</td>\n",
       "      <td>50000.000000</td>\n",
       "      <td>50000.000000</td>\n",
       "      <td>50000.000000</td>\n",
       "      <td>50000.00000</td>\n",
       "      <td>50000.000000</td>\n",
       "      <td>50000.000000</td>\n",
       "      <td>50000.000000</td>\n",
       "      <td>50000.000000</td>\n",
       "    </tr>\n",
       "    <tr>\n",
       "      <th>mean</th>\n",
       "      <td>4182.004291</td>\n",
       "      <td>16.838260</td>\n",
       "      <td>22.921480</td>\n",
       "      <td>68.772640</td>\n",
       "      <td>21.052640</td>\n",
       "      <td>30.080200</td>\n",
       "      <td>32.279581</td>\n",
       "      <td>1491.304305</td>\n",
       "      <td>0.305600</td>\n",
       "      <td>0.317280</td>\n",
       "      <td>0.310400</td>\n",
       "      <td>0.314000</td>\n",
       "      <td>0.31360</td>\n",
       "      <td>0.316800</td>\n",
       "      <td>0.319440</td>\n",
       "      <td>0.311040</td>\n",
       "      <td>0.310400</td>\n",
       "    </tr>\n",
       "    <tr>\n",
       "      <th>std</th>\n",
       "      <td>3174.109304</td>\n",
       "      <td>116.396848</td>\n",
       "      <td>129.314804</td>\n",
       "      <td>451.602363</td>\n",
       "      <td>14.860397</td>\n",
       "      <td>196.984121</td>\n",
       "      <td>5.106238</td>\n",
       "      <td>8595.647887</td>\n",
       "      <td>0.460666</td>\n",
       "      <td>0.465422</td>\n",
       "      <td>0.462662</td>\n",
       "      <td>0.464121</td>\n",
       "      <td>0.46396</td>\n",
       "      <td>0.465233</td>\n",
       "      <td>0.466264</td>\n",
       "      <td>0.462924</td>\n",
       "      <td>0.462662</td>\n",
       "    </tr>\n",
       "    <tr>\n",
       "      <th>min</th>\n",
       "      <td>303.645417</td>\n",
       "      <td>-1.000000</td>\n",
       "      <td>0.000000</td>\n",
       "      <td>1.000000</td>\n",
       "      <td>-5.000000</td>\n",
       "      <td>0.000000</td>\n",
       "      <td>20.509652</td>\n",
       "      <td>0.000000</td>\n",
       "      <td>0.000000</td>\n",
       "      <td>0.000000</td>\n",
       "      <td>0.000000</td>\n",
       "      <td>0.000000</td>\n",
       "      <td>0.00000</td>\n",
       "      <td>0.000000</td>\n",
       "      <td>0.000000</td>\n",
       "      <td>0.000000</td>\n",
       "      <td>0.000000</td>\n",
       "    </tr>\n",
       "    <tr>\n",
       "      <th>25%</th>\n",
       "      <td>1625.188333</td>\n",
       "      <td>3.000000</td>\n",
       "      <td>4.000000</td>\n",
       "      <td>8.000000</td>\n",
       "      <td>10.000000</td>\n",
       "      <td>4.000000</td>\n",
       "      <td>28.061040</td>\n",
       "      <td>32.222388</td>\n",
       "      <td>0.000000</td>\n",
       "      <td>0.000000</td>\n",
       "      <td>0.000000</td>\n",
       "      <td>0.000000</td>\n",
       "      <td>0.00000</td>\n",
       "      <td>0.000000</td>\n",
       "      <td>0.000000</td>\n",
       "      <td>0.000000</td>\n",
       "      <td>0.000000</td>\n",
       "    </tr>\n",
       "    <tr>\n",
       "      <th>50%</th>\n",
       "      <td>3086.305000</td>\n",
       "      <td>6.000000</td>\n",
       "      <td>5.000000</td>\n",
       "      <td>13.000000</td>\n",
       "      <td>18.000000</td>\n",
       "      <td>7.000000</td>\n",
       "      <td>32.280390</td>\n",
       "      <td>74.733349</td>\n",
       "      <td>0.000000</td>\n",
       "      <td>0.000000</td>\n",
       "      <td>0.000000</td>\n",
       "      <td>0.000000</td>\n",
       "      <td>0.00000</td>\n",
       "      <td>0.000000</td>\n",
       "      <td>0.000000</td>\n",
       "      <td>0.000000</td>\n",
       "      <td>0.000000</td>\n",
       "    </tr>\n",
       "    <tr>\n",
       "      <th>75%</th>\n",
       "      <td>5934.189094</td>\n",
       "      <td>7.000000</td>\n",
       "      <td>7.000000</td>\n",
       "      <td>20.000000</td>\n",
       "      <td>28.000000</td>\n",
       "      <td>10.000000</td>\n",
       "      <td>36.468591</td>\n",
       "      <td>176.157491</td>\n",
       "      <td>1.000000</td>\n",
       "      <td>1.000000</td>\n",
       "      <td>1.000000</td>\n",
       "      <td>1.000000</td>\n",
       "      <td>1.00000</td>\n",
       "      <td>1.000000</td>\n",
       "      <td>1.000000</td>\n",
       "      <td>1.000000</td>\n",
       "      <td>1.000000</td>\n",
       "    </tr>\n",
       "    <tr>\n",
       "      <th>max</th>\n",
       "      <td>15204.633333</td>\n",
       "      <td>1798.000000</td>\n",
       "      <td>1499.000000</td>\n",
       "      <td>5799.000000</td>\n",
       "      <td>67.000000</td>\n",
       "      <td>2593.000000</td>\n",
       "      <td>48.540663</td>\n",
       "      <td>82398.000000</td>\n",
       "      <td>1.000000</td>\n",
       "      <td>1.000000</td>\n",
       "      <td>1.000000</td>\n",
       "      <td>1.000000</td>\n",
       "      <td>1.00000</td>\n",
       "      <td>1.000000</td>\n",
       "      <td>1.000000</td>\n",
       "      <td>1.000000</td>\n",
       "      <td>1.000000</td>\n",
       "    </tr>\n",
       "  </tbody>\n",
       "</table>\n",
       "</div>"
      ],
      "text/plain": [
       "       Monthly_Inhand_Salary  Num_Bank_Accounts  Num_Credit_Card  \\\n",
       "count           42502.000000       50000.000000     50000.000000   \n",
       "mean             4182.004291          16.838260        22.921480   \n",
       "std              3174.109304         116.396848       129.314804   \n",
       "min               303.645417          -1.000000         0.000000   \n",
       "25%              1625.188333           3.000000         4.000000   \n",
       "50%              3086.305000           6.000000         5.000000   \n",
       "75%              5934.189094           7.000000         7.000000   \n",
       "max             15204.633333        1798.000000      1499.000000   \n",
       "\n",
       "       Interest_Rate  Delay_from_due_date  Num_Credit_Inquiries  \\\n",
       "count   50000.000000         50000.000000          48965.000000   \n",
       "mean       68.772640            21.052640             30.080200   \n",
       "std       451.602363            14.860397            196.984121   \n",
       "min         1.000000            -5.000000              0.000000   \n",
       "25%         8.000000            10.000000              4.000000   \n",
       "50%        13.000000            18.000000              7.000000   \n",
       "75%        20.000000            28.000000             10.000000   \n",
       "max      5799.000000            67.000000           2593.000000   \n",
       "\n",
       "       Credit_Utilization_Ratio  Total_EMI_per_month     Auto Loan  \\\n",
       "count              50000.000000         50000.000000  50000.000000   \n",
       "mean                  32.279581          1491.304305      0.305600   \n",
       "std                    5.106238          8595.647887      0.460666   \n",
       "min                   20.509652             0.000000      0.000000   \n",
       "25%                   28.061040            32.222388      0.000000   \n",
       "50%                   32.280390            74.733349      0.000000   \n",
       "75%                   36.468591           176.157491      1.000000   \n",
       "max                   48.540663         82398.000000      1.000000   \n",
       "\n",
       "       Credit-Builder Loan  Debt Consolidation Loan  Home Equity Loan  \\\n",
       "count         50000.000000             50000.000000      50000.000000   \n",
       "mean              0.317280                 0.310400          0.314000   \n",
       "std               0.465422                 0.462662          0.464121   \n",
       "min               0.000000                 0.000000          0.000000   \n",
       "25%               0.000000                 0.000000          0.000000   \n",
       "50%               0.000000                 0.000000          0.000000   \n",
       "75%               1.000000                 1.000000          1.000000   \n",
       "max               1.000000                 1.000000          1.000000   \n",
       "\n",
       "       Mortgage Loan  Not Specified   Payday Loan  Personal Loan  Student Loan  \n",
       "count    50000.00000   50000.000000  50000.000000   50000.000000  50000.000000  \n",
       "mean         0.31360       0.316800      0.319440       0.311040      0.310400  \n",
       "std          0.46396       0.465233      0.466264       0.462924      0.462662  \n",
       "min          0.00000       0.000000      0.000000       0.000000      0.000000  \n",
       "25%          0.00000       0.000000      0.000000       0.000000      0.000000  \n",
       "50%          0.00000       0.000000      0.000000       0.000000      0.000000  \n",
       "75%          1.00000       1.000000      1.000000       1.000000      1.000000  \n",
       "max          1.00000       1.000000      1.000000       1.000000      1.000000  "
      ]
     },
     "execution_count": 27,
     "metadata": {},
     "output_type": "execute_result"
    }
   ],
   "source": [
    "df.describe()"
   ]
  },
  {
   "cell_type": "code",
   "execution_count": 28,
   "id": "0ead42dc",
   "metadata": {
    "execution": {
     "iopub.execute_input": "2024-02-15T05:49:50.488677Z",
     "iopub.status.busy": "2024-02-15T05:49:50.487667Z",
     "iopub.status.idle": "2024-02-15T05:49:50.534971Z",
     "shell.execute_reply": "2024-02-15T05:49:50.533274Z"
    },
    "papermill": {
     "duration": 0.083867,
     "end_time": "2024-02-15T05:49:50.537333",
     "exception": false,
     "start_time": "2024-02-15T05:49:50.453466",
     "status": "completed"
    },
    "tags": []
   },
   "outputs": [
    {
     "name": "stdout",
     "output_type": "stream",
     "text": [
      "<class 'pandas.core.frame.DataFrame'>\n",
      "RangeIndex: 50000 entries, 0 to 49999\n",
      "Data columns (total 28 columns):\n",
      " #   Column                    Non-Null Count  Dtype  \n",
      "---  ------                    --------------  -----  \n",
      " 0   Annual_Income             50000 non-null  object \n",
      " 1   Monthly_Inhand_Salary     42502 non-null  float64\n",
      " 2   Num_Bank_Accounts         50000 non-null  int64  \n",
      " 3   Num_Credit_Card           50000 non-null  int64  \n",
      " 4   Interest_Rate             50000 non-null  int64  \n",
      " 5   Num_of_Loan               50000 non-null  object \n",
      " 6   Delay_from_due_date       50000 non-null  int64  \n",
      " 7   Num_of_Delayed_Payment    46502 non-null  object \n",
      " 8   Changed_Credit_Limit      50000 non-null  object \n",
      " 9   Num_Credit_Inquiries      48965 non-null  float64\n",
      " 10  Credit_Mix                50000 non-null  object \n",
      " 11  Outstanding_Debt          50000 non-null  object \n",
      " 12  Credit_Utilization_Ratio  50000 non-null  float64\n",
      " 13  Credit_History_Age        45530 non-null  object \n",
      " 14  Payment_of_Min_Amount     50000 non-null  object \n",
      " 15  Total_EMI_per_month       50000 non-null  float64\n",
      " 16  Amount_invested_monthly   47729 non-null  object \n",
      " 17  Payment_Behaviour         50000 non-null  object \n",
      " 18  Monthly_Balance           49438 non-null  object \n",
      " 19  Auto Loan                 50000 non-null  int64  \n",
      " 20  Credit-Builder Loan       50000 non-null  int64  \n",
      " 21  Debt Consolidation Loan   50000 non-null  int64  \n",
      " 22  Home Equity Loan          50000 non-null  int64  \n",
      " 23  Mortgage Loan             50000 non-null  int64  \n",
      " 24  Not Specified             50000 non-null  int64  \n",
      " 25  Payday Loan               50000 non-null  int64  \n",
      " 26  Personal Loan             50000 non-null  int64  \n",
      " 27  Student Loan              50000 non-null  int64  \n",
      "dtypes: float64(4), int64(13), object(11)\n",
      "memory usage: 10.7+ MB\n"
     ]
    }
   ],
   "source": [
    "df.info()"
   ]
  },
  {
   "cell_type": "code",
   "execution_count": 29,
   "id": "c2c862a6",
   "metadata": {
    "execution": {
     "iopub.execute_input": "2024-02-15T05:49:50.603883Z",
     "iopub.status.busy": "2024-02-15T05:49:50.603260Z",
     "iopub.status.idle": "2024-02-15T05:49:50.611356Z",
     "shell.execute_reply": "2024-02-15T05:49:50.610572Z"
    },
    "papermill": {
     "duration": 0.043867,
     "end_time": "2024-02-15T05:49:50.613244",
     "exception": false,
     "start_time": "2024-02-15T05:49:50.569377",
     "status": "completed"
    },
    "tags": []
   },
   "outputs": [
    {
     "data": {
      "text/plain": [
       "0"
      ]
     },
     "execution_count": 29,
     "metadata": {},
     "output_type": "execute_result"
    }
   ],
   "source": [
    "df[\"Credit_Mix\"].isna().sum()"
   ]
  },
  {
   "cell_type": "code",
   "execution_count": 30,
   "id": "33e8bb34",
   "metadata": {
    "execution": {
     "iopub.execute_input": "2024-02-15T05:49:50.679976Z",
     "iopub.status.busy": "2024-02-15T05:49:50.679350Z",
     "iopub.status.idle": "2024-02-15T05:49:50.689917Z",
     "shell.execute_reply": "2024-02-15T05:49:50.688796Z"
    },
    "papermill": {
     "duration": 0.046474,
     "end_time": "2024-02-15T05:49:50.692107",
     "exception": false,
     "start_time": "2024-02-15T05:49:50.645633",
     "status": "completed"
    },
    "tags": []
   },
   "outputs": [
    {
     "data": {
      "text/plain": [
       "7"
      ]
     },
     "execution_count": 30,
     "metadata": {},
     "output_type": "execute_result"
    }
   ],
   "source": [
    "df[\"Payment_Behaviour\"].nunique()"
   ]
  },
  {
   "cell_type": "code",
   "execution_count": 31,
   "id": "dead42ce",
   "metadata": {
    "execution": {
     "iopub.execute_input": "2024-02-15T05:49:50.758412Z",
     "iopub.status.busy": "2024-02-15T05:49:50.758044Z",
     "iopub.status.idle": "2024-02-15T05:49:50.780729Z",
     "shell.execute_reply": "2024-02-15T05:49:50.779612Z"
    },
    "papermill": {
     "duration": 0.058685,
     "end_time": "2024-02-15T05:49:50.782860",
     "exception": false,
     "start_time": "2024-02-15T05:49:50.724175",
     "status": "completed"
    },
    "tags": []
   },
   "outputs": [
    {
     "data": {
      "text/html": [
       "<div>\n",
       "<style scoped>\n",
       "    .dataframe tbody tr th:only-of-type {\n",
       "        vertical-align: middle;\n",
       "    }\n",
       "\n",
       "    .dataframe tbody tr th {\n",
       "        vertical-align: top;\n",
       "    }\n",
       "\n",
       "    .dataframe thead th {\n",
       "        text-align: right;\n",
       "    }\n",
       "</style>\n",
       "<table border=\"1\" class=\"dataframe\">\n",
       "  <thead>\n",
       "    <tr style=\"text-align: right;\">\n",
       "      <th></th>\n",
       "      <th>Annual_Income</th>\n",
       "      <th>Monthly_Inhand_Salary</th>\n",
       "      <th>Num_Bank_Accounts</th>\n",
       "      <th>Num_Credit_Card</th>\n",
       "      <th>Interest_Rate</th>\n",
       "      <th>Num_of_Loan</th>\n",
       "      <th>Delay_from_due_date</th>\n",
       "      <th>Num_of_Delayed_Payment</th>\n",
       "      <th>Changed_Credit_Limit</th>\n",
       "      <th>Num_Credit_Inquiries</th>\n",
       "      <th>...</th>\n",
       "      <th>Monthly_Balance</th>\n",
       "      <th>Auto Loan</th>\n",
       "      <th>Credit-Builder Loan</th>\n",
       "      <th>Debt Consolidation Loan</th>\n",
       "      <th>Home Equity Loan</th>\n",
       "      <th>Mortgage Loan</th>\n",
       "      <th>Not Specified</th>\n",
       "      <th>Payday Loan</th>\n",
       "      <th>Personal Loan</th>\n",
       "      <th>Student Loan</th>\n",
       "    </tr>\n",
       "  </thead>\n",
       "  <tbody>\n",
       "    <tr>\n",
       "      <th>0</th>\n",
       "      <td>19114.12</td>\n",
       "      <td>1824.843333</td>\n",
       "      <td>3</td>\n",
       "      <td>4</td>\n",
       "      <td>3</td>\n",
       "      <td>4</td>\n",
       "      <td>3</td>\n",
       "      <td>7</td>\n",
       "      <td>11.27</td>\n",
       "      <td>2022.0</td>\n",
       "      <td>...</td>\n",
       "      <td>186.26670208571772</td>\n",
       "      <td>1</td>\n",
       "      <td>1</td>\n",
       "      <td>0</td>\n",
       "      <td>1</td>\n",
       "      <td>0</td>\n",
       "      <td>0</td>\n",
       "      <td>0</td>\n",
       "      <td>1</td>\n",
       "      <td>0</td>\n",
       "    </tr>\n",
       "    <tr>\n",
       "      <th>1</th>\n",
       "      <td>19114.12</td>\n",
       "      <td>1824.843333</td>\n",
       "      <td>3</td>\n",
       "      <td>4</td>\n",
       "      <td>3</td>\n",
       "      <td>4</td>\n",
       "      <td>3</td>\n",
       "      <td>9</td>\n",
       "      <td>13.27</td>\n",
       "      <td>4.0</td>\n",
       "      <td>...</td>\n",
       "      <td>361.44400385378196</td>\n",
       "      <td>1</td>\n",
       "      <td>1</td>\n",
       "      <td>0</td>\n",
       "      <td>1</td>\n",
       "      <td>0</td>\n",
       "      <td>0</td>\n",
       "      <td>0</td>\n",
       "      <td>1</td>\n",
       "      <td>0</td>\n",
       "    </tr>\n",
       "    <tr>\n",
       "      <th>2</th>\n",
       "      <td>19114.12</td>\n",
       "      <td>1824.843333</td>\n",
       "      <td>3</td>\n",
       "      <td>4</td>\n",
       "      <td>3</td>\n",
       "      <td>4</td>\n",
       "      <td>-1</td>\n",
       "      <td>4</td>\n",
       "      <td>12.27</td>\n",
       "      <td>4.0</td>\n",
       "      <td>...</td>\n",
       "      <td>264.67544623342997</td>\n",
       "      <td>1</td>\n",
       "      <td>1</td>\n",
       "      <td>0</td>\n",
       "      <td>1</td>\n",
       "      <td>0</td>\n",
       "      <td>0</td>\n",
       "      <td>0</td>\n",
       "      <td>1</td>\n",
       "      <td>0</td>\n",
       "    </tr>\n",
       "    <tr>\n",
       "      <th>3</th>\n",
       "      <td>19114.12</td>\n",
       "      <td>NaN</td>\n",
       "      <td>3</td>\n",
       "      <td>4</td>\n",
       "      <td>3</td>\n",
       "      <td>4</td>\n",
       "      <td>4</td>\n",
       "      <td>5</td>\n",
       "      <td>11.27</td>\n",
       "      <td>4.0</td>\n",
       "      <td>...</td>\n",
       "      <td>343.82687322383634</td>\n",
       "      <td>1</td>\n",
       "      <td>1</td>\n",
       "      <td>0</td>\n",
       "      <td>1</td>\n",
       "      <td>0</td>\n",
       "      <td>0</td>\n",
       "      <td>0</td>\n",
       "      <td>1</td>\n",
       "      <td>0</td>\n",
       "    </tr>\n",
       "    <tr>\n",
       "      <th>4</th>\n",
       "      <td>34847.84</td>\n",
       "      <td>3037.986667</td>\n",
       "      <td>2</td>\n",
       "      <td>4</td>\n",
       "      <td>6</td>\n",
       "      <td>1</td>\n",
       "      <td>3</td>\n",
       "      <td>1</td>\n",
       "      <td>5.42</td>\n",
       "      <td>5.0</td>\n",
       "      <td>...</td>\n",
       "      <td>485.2984336755923</td>\n",
       "      <td>0</td>\n",
       "      <td>1</td>\n",
       "      <td>0</td>\n",
       "      <td>0</td>\n",
       "      <td>0</td>\n",
       "      <td>0</td>\n",
       "      <td>0</td>\n",
       "      <td>0</td>\n",
       "      <td>0</td>\n",
       "    </tr>\n",
       "  </tbody>\n",
       "</table>\n",
       "<p>5 rows × 28 columns</p>\n",
       "</div>"
      ],
      "text/plain": [
       "  Annual_Income  Monthly_Inhand_Salary  Num_Bank_Accounts  Num_Credit_Card  \\\n",
       "0      19114.12            1824.843333                  3                4   \n",
       "1      19114.12            1824.843333                  3                4   \n",
       "2      19114.12            1824.843333                  3                4   \n",
       "3      19114.12                    NaN                  3                4   \n",
       "4      34847.84            3037.986667                  2                4   \n",
       "\n",
       "   Interest_Rate Num_of_Loan  Delay_from_due_date Num_of_Delayed_Payment  \\\n",
       "0              3           4                    3                      7   \n",
       "1              3           4                    3                      9   \n",
       "2              3           4                   -1                      4   \n",
       "3              3           4                    4                      5   \n",
       "4              6           1                    3                      1   \n",
       "\n",
       "  Changed_Credit_Limit  Num_Credit_Inquiries  ...     Monthly_Balance  \\\n",
       "0                11.27                2022.0  ...  186.26670208571772   \n",
       "1                13.27                   4.0  ...  361.44400385378196   \n",
       "2                12.27                   4.0  ...  264.67544623342997   \n",
       "3                11.27                   4.0  ...  343.82687322383634   \n",
       "4                 5.42                   5.0  ...   485.2984336755923   \n",
       "\n",
       "  Auto Loan  Credit-Builder Loan Debt Consolidation Loan Home Equity Loan  \\\n",
       "0         1                    1                       0                1   \n",
       "1         1                    1                       0                1   \n",
       "2         1                    1                       0                1   \n",
       "3         1                    1                       0                1   \n",
       "4         0                    1                       0                0   \n",
       "\n",
       "   Mortgage Loan Not Specified Payday Loan Personal Loan  Student Loan  \n",
       "0              0             0           0             1             0  \n",
       "1              0             0           0             1             0  \n",
       "2              0             0           0             1             0  \n",
       "3              0             0           0             1             0  \n",
       "4              0             0           0             0             0  \n",
       "\n",
       "[5 rows x 28 columns]"
      ]
     },
     "execution_count": 31,
     "metadata": {},
     "output_type": "execute_result"
    }
   ],
   "source": [
    "df.head(5)"
   ]
  },
  {
   "cell_type": "markdown",
   "id": "9c4efd97",
   "metadata": {
    "papermill": {
     "duration": 0.032537,
     "end_time": "2024-02-15T05:49:50.847991",
     "exception": false,
     "start_time": "2024-02-15T05:49:50.815454",
     "status": "completed"
    },
    "tags": []
   },
   "source": [
    "## Handle Credit History Age"
   ]
  },
  {
   "cell_type": "markdown",
   "id": "5a8ce675",
   "metadata": {
    "papermill": {
     "duration": 0.033729,
     "end_time": "2024-02-15T05:49:50.914784",
     "exception": false,
     "start_time": "2024-02-15T05:49:50.881055",
     "status": "completed"
    },
    "tags": []
   },
   "source": [
    "*Our credit history age has values like 'X Years and Y Months'. We are going to transform this column into numerical values by converting the month value of each row to year and add it up to the total years. For example, 22 Years and 9 months-> 22 Years + 0.75 Years -> 22.75 Years*"
   ]
  },
  {
   "cell_type": "code",
   "execution_count": 32,
   "id": "21834516",
   "metadata": {
    "execution": {
     "iopub.execute_input": "2024-02-15T05:49:50.983281Z",
     "iopub.status.busy": "2024-02-15T05:49:50.982626Z",
     "iopub.status.idle": "2024-02-15T05:49:50.988390Z",
     "shell.execute_reply": "2024-02-15T05:49:50.987287Z"
    },
    "papermill": {
     "duration": 0.042352,
     "end_time": "2024-02-15T05:49:50.990546",
     "exception": false,
     "start_time": "2024-02-15T05:49:50.948194",
     "status": "completed"
    },
    "tags": []
   },
   "outputs": [
    {
     "name": "stdout",
     "output_type": "stream",
     "text": [
      "22 Years and 9 Months\n",
      "22 Years and 10 Months\n",
      "nan\n",
      "23 Years and 0 Months\n",
      "27 Years and 3 Months\n"
     ]
    }
   ],
   "source": [
    "for item in df[\"Credit_History_Age\"].head(5):\n",
    "    print(item)"
   ]
  },
  {
   "cell_type": "code",
   "execution_count": 33,
   "id": "1cfe2dc8",
   "metadata": {
    "execution": {
     "iopub.execute_input": "2024-02-15T05:49:51.058958Z",
     "iopub.status.busy": "2024-02-15T05:49:51.058311Z",
     "iopub.status.idle": "2024-02-15T05:49:51.144373Z",
     "shell.execute_reply": "2024-02-15T05:49:51.143164Z"
    },
    "papermill": {
     "duration": 0.123694,
     "end_time": "2024-02-15T05:49:51.147585",
     "exception": false,
     "start_time": "2024-02-15T05:49:51.023891",
     "status": "completed"
    },
    "tags": []
   },
   "outputs": [],
   "source": [
    "df[\"Credit_History_Age\"] = df[\"Credit_History_Age\"].apply(lambda x: float(x.split()[0]) + (float(x.split()[3])/12) if pd.notna(x) else x)\n",
    "\n",
    "# df['Type_of_Loan'] = df['Type_of_Loan'].apply(lambda x: ', '.join(set(item.replace(\" and \", \"\").strip() for item in str(x).split(','))))"
   ]
  },
  {
   "cell_type": "code",
   "execution_count": 34,
   "id": "f8c6a429",
   "metadata": {
    "execution": {
     "iopub.execute_input": "2024-02-15T05:49:51.227984Z",
     "iopub.status.busy": "2024-02-15T05:49:51.226192Z",
     "iopub.status.idle": "2024-02-15T05:49:51.252916Z",
     "shell.execute_reply": "2024-02-15T05:49:51.251522Z"
    },
    "papermill": {
     "duration": 0.067865,
     "end_time": "2024-02-15T05:49:51.255573",
     "exception": false,
     "start_time": "2024-02-15T05:49:51.187708",
     "status": "completed"
    },
    "tags": []
   },
   "outputs": [
    {
     "data": {
      "text/html": [
       "<div>\n",
       "<style scoped>\n",
       "    .dataframe tbody tr th:only-of-type {\n",
       "        vertical-align: middle;\n",
       "    }\n",
       "\n",
       "    .dataframe tbody tr th {\n",
       "        vertical-align: top;\n",
       "    }\n",
       "\n",
       "    .dataframe thead th {\n",
       "        text-align: right;\n",
       "    }\n",
       "</style>\n",
       "<table border=\"1\" class=\"dataframe\">\n",
       "  <thead>\n",
       "    <tr style=\"text-align: right;\">\n",
       "      <th></th>\n",
       "      <th>Annual_Income</th>\n",
       "      <th>Monthly_Inhand_Salary</th>\n",
       "      <th>Num_Bank_Accounts</th>\n",
       "      <th>Num_Credit_Card</th>\n",
       "      <th>Interest_Rate</th>\n",
       "      <th>Num_of_Loan</th>\n",
       "      <th>Delay_from_due_date</th>\n",
       "      <th>Num_of_Delayed_Payment</th>\n",
       "      <th>Changed_Credit_Limit</th>\n",
       "      <th>Num_Credit_Inquiries</th>\n",
       "      <th>...</th>\n",
       "      <th>Monthly_Balance</th>\n",
       "      <th>Auto Loan</th>\n",
       "      <th>Credit-Builder Loan</th>\n",
       "      <th>Debt Consolidation Loan</th>\n",
       "      <th>Home Equity Loan</th>\n",
       "      <th>Mortgage Loan</th>\n",
       "      <th>Not Specified</th>\n",
       "      <th>Payday Loan</th>\n",
       "      <th>Personal Loan</th>\n",
       "      <th>Student Loan</th>\n",
       "    </tr>\n",
       "  </thead>\n",
       "  <tbody>\n",
       "    <tr>\n",
       "      <th>0</th>\n",
       "      <td>19114.12</td>\n",
       "      <td>1824.843333</td>\n",
       "      <td>3</td>\n",
       "      <td>4</td>\n",
       "      <td>3</td>\n",
       "      <td>4</td>\n",
       "      <td>3</td>\n",
       "      <td>7</td>\n",
       "      <td>11.27</td>\n",
       "      <td>2022.0</td>\n",
       "      <td>...</td>\n",
       "      <td>186.26670208571772</td>\n",
       "      <td>1</td>\n",
       "      <td>1</td>\n",
       "      <td>0</td>\n",
       "      <td>1</td>\n",
       "      <td>0</td>\n",
       "      <td>0</td>\n",
       "      <td>0</td>\n",
       "      <td>1</td>\n",
       "      <td>0</td>\n",
       "    </tr>\n",
       "    <tr>\n",
       "      <th>1</th>\n",
       "      <td>19114.12</td>\n",
       "      <td>1824.843333</td>\n",
       "      <td>3</td>\n",
       "      <td>4</td>\n",
       "      <td>3</td>\n",
       "      <td>4</td>\n",
       "      <td>3</td>\n",
       "      <td>9</td>\n",
       "      <td>13.27</td>\n",
       "      <td>4.0</td>\n",
       "      <td>...</td>\n",
       "      <td>361.44400385378196</td>\n",
       "      <td>1</td>\n",
       "      <td>1</td>\n",
       "      <td>0</td>\n",
       "      <td>1</td>\n",
       "      <td>0</td>\n",
       "      <td>0</td>\n",
       "      <td>0</td>\n",
       "      <td>1</td>\n",
       "      <td>0</td>\n",
       "    </tr>\n",
       "    <tr>\n",
       "      <th>2</th>\n",
       "      <td>19114.12</td>\n",
       "      <td>1824.843333</td>\n",
       "      <td>3</td>\n",
       "      <td>4</td>\n",
       "      <td>3</td>\n",
       "      <td>4</td>\n",
       "      <td>-1</td>\n",
       "      <td>4</td>\n",
       "      <td>12.27</td>\n",
       "      <td>4.0</td>\n",
       "      <td>...</td>\n",
       "      <td>264.67544623342997</td>\n",
       "      <td>1</td>\n",
       "      <td>1</td>\n",
       "      <td>0</td>\n",
       "      <td>1</td>\n",
       "      <td>0</td>\n",
       "      <td>0</td>\n",
       "      <td>0</td>\n",
       "      <td>1</td>\n",
       "      <td>0</td>\n",
       "    </tr>\n",
       "    <tr>\n",
       "      <th>3</th>\n",
       "      <td>19114.12</td>\n",
       "      <td>NaN</td>\n",
       "      <td>3</td>\n",
       "      <td>4</td>\n",
       "      <td>3</td>\n",
       "      <td>4</td>\n",
       "      <td>4</td>\n",
       "      <td>5</td>\n",
       "      <td>11.27</td>\n",
       "      <td>4.0</td>\n",
       "      <td>...</td>\n",
       "      <td>343.82687322383634</td>\n",
       "      <td>1</td>\n",
       "      <td>1</td>\n",
       "      <td>0</td>\n",
       "      <td>1</td>\n",
       "      <td>0</td>\n",
       "      <td>0</td>\n",
       "      <td>0</td>\n",
       "      <td>1</td>\n",
       "      <td>0</td>\n",
       "    </tr>\n",
       "    <tr>\n",
       "      <th>4</th>\n",
       "      <td>34847.84</td>\n",
       "      <td>3037.986667</td>\n",
       "      <td>2</td>\n",
       "      <td>4</td>\n",
       "      <td>6</td>\n",
       "      <td>1</td>\n",
       "      <td>3</td>\n",
       "      <td>1</td>\n",
       "      <td>5.42</td>\n",
       "      <td>5.0</td>\n",
       "      <td>...</td>\n",
       "      <td>485.2984336755923</td>\n",
       "      <td>0</td>\n",
       "      <td>1</td>\n",
       "      <td>0</td>\n",
       "      <td>0</td>\n",
       "      <td>0</td>\n",
       "      <td>0</td>\n",
       "      <td>0</td>\n",
       "      <td>0</td>\n",
       "      <td>0</td>\n",
       "    </tr>\n",
       "  </tbody>\n",
       "</table>\n",
       "<p>5 rows × 28 columns</p>\n",
       "</div>"
      ],
      "text/plain": [
       "  Annual_Income  Monthly_Inhand_Salary  Num_Bank_Accounts  Num_Credit_Card  \\\n",
       "0      19114.12            1824.843333                  3                4   \n",
       "1      19114.12            1824.843333                  3                4   \n",
       "2      19114.12            1824.843333                  3                4   \n",
       "3      19114.12                    NaN                  3                4   \n",
       "4      34847.84            3037.986667                  2                4   \n",
       "\n",
       "   Interest_Rate Num_of_Loan  Delay_from_due_date Num_of_Delayed_Payment  \\\n",
       "0              3           4                    3                      7   \n",
       "1              3           4                    3                      9   \n",
       "2              3           4                   -1                      4   \n",
       "3              3           4                    4                      5   \n",
       "4              6           1                    3                      1   \n",
       "\n",
       "  Changed_Credit_Limit  Num_Credit_Inquiries  ...     Monthly_Balance  \\\n",
       "0                11.27                2022.0  ...  186.26670208571772   \n",
       "1                13.27                   4.0  ...  361.44400385378196   \n",
       "2                12.27                   4.0  ...  264.67544623342997   \n",
       "3                11.27                   4.0  ...  343.82687322383634   \n",
       "4                 5.42                   5.0  ...   485.2984336755923   \n",
       "\n",
       "  Auto Loan  Credit-Builder Loan  Debt Consolidation Loan Home Equity Loan  \\\n",
       "0         1                    1                        0                1   \n",
       "1         1                    1                        0                1   \n",
       "2         1                    1                        0                1   \n",
       "3         1                    1                        0                1   \n",
       "4         0                    1                        0                0   \n",
       "\n",
       "   Mortgage Loan Not Specified Payday Loan Personal Loan  Student Loan  \n",
       "0              0             0           0             1             0  \n",
       "1              0             0           0             1             0  \n",
       "2              0             0           0             1             0  \n",
       "3              0             0           0             1             0  \n",
       "4              0             0           0             0             0  \n",
       "\n",
       "[5 rows x 28 columns]"
      ]
     },
     "execution_count": 34,
     "metadata": {},
     "output_type": "execute_result"
    }
   ],
   "source": [
    "df.head(5)"
   ]
  },
  {
   "cell_type": "code",
   "execution_count": 35,
   "id": "2df494b9",
   "metadata": {
    "execution": {
     "iopub.execute_input": "2024-02-15T05:49:51.327315Z",
     "iopub.status.busy": "2024-02-15T05:49:51.326038Z",
     "iopub.status.idle": "2024-02-15T05:49:51.334952Z",
     "shell.execute_reply": "2024-02-15T05:49:51.333954Z"
    },
    "papermill": {
     "duration": 0.046326,
     "end_time": "2024-02-15T05:49:51.337151",
     "exception": false,
     "start_time": "2024-02-15T05:49:51.290825",
     "status": "completed"
    },
    "tags": []
   },
   "outputs": [
    {
     "data": {
      "text/plain": [
       "0        22.750000\n",
       "1        22.833333\n",
       "2              NaN\n",
       "3        23.000000\n",
       "4        27.250000\n",
       "           ...    \n",
       "49995          NaN\n",
       "49996    31.916667\n",
       "49997    32.000000\n",
       "49998    32.083333\n",
       "49999    32.166667\n",
       "Name: Credit_History_Age, Length: 50000, dtype: float64"
      ]
     },
     "execution_count": 35,
     "metadata": {},
     "output_type": "execute_result"
    }
   ],
   "source": [
    "df[\"Credit_History_Age\"]"
   ]
  },
  {
   "cell_type": "code",
   "execution_count": 36,
   "id": "f5cd0490",
   "metadata": {
    "execution": {
     "iopub.execute_input": "2024-02-15T05:49:51.416804Z",
     "iopub.status.busy": "2024-02-15T05:49:51.415970Z",
     "iopub.status.idle": "2024-02-15T05:49:51.425133Z",
     "shell.execute_reply": "2024-02-15T05:49:51.424074Z"
    },
    "papermill": {
     "duration": 0.056423,
     "end_time": "2024-02-15T05:49:51.427413",
     "exception": false,
     "start_time": "2024-02-15T05:49:51.370990",
     "status": "completed"
    },
    "tags": []
   },
   "outputs": [
    {
     "data": {
      "text/plain": [
       "Annual_Income                object\n",
       "Monthly_Inhand_Salary       float64\n",
       "Num_Bank_Accounts             int64\n",
       "Num_Credit_Card               int64\n",
       "Interest_Rate                 int64\n",
       "Num_of_Loan                  object\n",
       "Delay_from_due_date           int64\n",
       "Num_of_Delayed_Payment       object\n",
       "Changed_Credit_Limit         object\n",
       "Num_Credit_Inquiries        float64\n",
       "Credit_Mix                   object\n",
       "Outstanding_Debt             object\n",
       "Credit_Utilization_Ratio    float64\n",
       "Credit_History_Age          float64\n",
       "Payment_of_Min_Amount        object\n",
       "Total_EMI_per_month         float64\n",
       "Amount_invested_monthly      object\n",
       "Payment_Behaviour            object\n",
       "Monthly_Balance              object\n",
       "Auto Loan                     int64\n",
       "Credit-Builder Loan           int64\n",
       "Debt Consolidation Loan       int64\n",
       "Home Equity Loan              int64\n",
       "Mortgage Loan                 int64\n",
       "Not Specified                 int64\n",
       "Payday Loan                   int64\n",
       "Personal Loan                 int64\n",
       "Student Loan                  int64\n",
       "dtype: object"
      ]
     },
     "execution_count": 36,
     "metadata": {},
     "output_type": "execute_result"
    }
   ],
   "source": [
    "df.dtypes"
   ]
  },
  {
   "cell_type": "markdown",
   "id": "691ed42e",
   "metadata": {
    "papermill": {
     "duration": 0.034969,
     "end_time": "2024-02-15T05:49:51.497657",
     "exception": false,
     "start_time": "2024-02-15T05:49:51.462688",
     "status": "completed"
    },
    "tags": []
   },
   "source": [
    "## Encoding Data"
   ]
  },
  {
   "cell_type": "code",
   "execution_count": 37,
   "id": "064355a3",
   "metadata": {
    "execution": {
     "iopub.execute_input": "2024-02-15T05:49:51.572813Z",
     "iopub.status.busy": "2024-02-15T05:49:51.572440Z",
     "iopub.status.idle": "2024-02-15T05:49:51.754314Z",
     "shell.execute_reply": "2024-02-15T05:49:51.753192Z"
    },
    "papermill": {
     "duration": 0.223337,
     "end_time": "2024-02-15T05:49:51.757004",
     "exception": false,
     "start_time": "2024-02-15T05:49:51.533667",
     "status": "completed"
    },
    "tags": []
   },
   "outputs": [],
   "source": [
    "# Payment Behaviour, Payment of Min Amount\n",
    "from sklearn.preprocessing import LabelEncoder"
   ]
  },
  {
   "cell_type": "code",
   "execution_count": 38,
   "id": "d223bc20",
   "metadata": {
    "execution": {
     "iopub.execute_input": "2024-02-15T05:49:51.828204Z",
     "iopub.status.busy": "2024-02-15T05:49:51.826994Z",
     "iopub.status.idle": "2024-02-15T05:49:51.832194Z",
     "shell.execute_reply": "2024-02-15T05:49:51.831387Z"
    },
    "papermill": {
     "duration": 0.042579,
     "end_time": "2024-02-15T05:49:51.834248",
     "exception": false,
     "start_time": "2024-02-15T05:49:51.791669",
     "status": "completed"
    },
    "tags": []
   },
   "outputs": [],
   "source": [
    "encoder = LabelEncoder()"
   ]
  },
  {
   "cell_type": "code",
   "execution_count": 39,
   "id": "768daf6f",
   "metadata": {
    "execution": {
     "iopub.execute_input": "2024-02-15T05:49:51.905565Z",
     "iopub.status.busy": "2024-02-15T05:49:51.904623Z",
     "iopub.status.idle": "2024-02-15T05:49:51.910286Z",
     "shell.execute_reply": "2024-02-15T05:49:51.909399Z"
    },
    "papermill": {
     "duration": 0.043817,
     "end_time": "2024-02-15T05:49:51.912694",
     "exception": false,
     "start_time": "2024-02-15T05:49:51.868877",
     "status": "completed"
    },
    "tags": []
   },
   "outputs": [],
   "source": [
    "def encode_dataset(df):\n",
    "    for col_name in df.columns:\n",
    "        if df[col_name].dtypes == \"object\":\n",
    "            df[col_name] = encoder.fit_transform(df[col_name])"
   ]
  },
  {
   "cell_type": "code",
   "execution_count": 40,
   "id": "23368fd3",
   "metadata": {
    "execution": {
     "iopub.execute_input": "2024-02-15T05:49:51.983600Z",
     "iopub.status.busy": "2024-02-15T05:49:51.982812Z",
     "iopub.status.idle": "2024-02-15T05:49:51.999897Z",
     "shell.execute_reply": "2024-02-15T05:49:51.998965Z"
    },
    "papermill": {
     "duration": 0.055471,
     "end_time": "2024-02-15T05:49:52.002550",
     "exception": false,
     "start_time": "2024-02-15T05:49:51.947079",
     "status": "completed"
    },
    "tags": []
   },
   "outputs": [],
   "source": [
    "df[\"Payment_Behaviour\"] = encoder.fit_transform(df[\"Payment_Behaviour\"])"
   ]
  },
  {
   "cell_type": "code",
   "execution_count": 41,
   "id": "e7fcd6d8",
   "metadata": {
    "execution": {
     "iopub.execute_input": "2024-02-15T05:49:52.072010Z",
     "iopub.status.busy": "2024-02-15T05:49:52.071296Z",
     "iopub.status.idle": "2024-02-15T05:49:52.087087Z",
     "shell.execute_reply": "2024-02-15T05:49:52.086320Z"
    },
    "papermill": {
     "duration": 0.05286,
     "end_time": "2024-02-15T05:49:52.089557",
     "exception": false,
     "start_time": "2024-02-15T05:49:52.036697",
     "status": "completed"
    },
    "tags": []
   },
   "outputs": [],
   "source": [
    "df[\"Payment_of_Min_Amount\"] = encoder.fit_transform(df[\"Payment_of_Min_Amount\"])"
   ]
  },
  {
   "cell_type": "code",
   "execution_count": 42,
   "id": "8fe2b33e",
   "metadata": {
    "execution": {
     "iopub.execute_input": "2024-02-15T05:49:52.159780Z",
     "iopub.status.busy": "2024-02-15T05:49:52.159145Z",
     "iopub.status.idle": "2024-02-15T05:49:52.167463Z",
     "shell.execute_reply": "2024-02-15T05:49:52.166413Z"
    },
    "papermill": {
     "duration": 0.046427,
     "end_time": "2024-02-15T05:49:52.169517",
     "exception": false,
     "start_time": "2024-02-15T05:49:52.123090",
     "status": "completed"
    },
    "tags": []
   },
   "outputs": [
    {
     "data": {
      "text/plain": [
       "Annual_Income                object\n",
       "Monthly_Inhand_Salary       float64\n",
       "Num_Bank_Accounts             int64\n",
       "Num_Credit_Card               int64\n",
       "Interest_Rate                 int64\n",
       "Num_of_Loan                  object\n",
       "Delay_from_due_date           int64\n",
       "Num_of_Delayed_Payment       object\n",
       "Changed_Credit_Limit         object\n",
       "Num_Credit_Inquiries        float64\n",
       "Credit_Mix                   object\n",
       "Outstanding_Debt             object\n",
       "Credit_Utilization_Ratio    float64\n",
       "Credit_History_Age          float64\n",
       "Payment_of_Min_Amount         int64\n",
       "Total_EMI_per_month         float64\n",
       "Amount_invested_monthly      object\n",
       "Payment_Behaviour             int64\n",
       "Monthly_Balance              object\n",
       "Auto Loan                     int64\n",
       "Credit-Builder Loan           int64\n",
       "Debt Consolidation Loan       int64\n",
       "Home Equity Loan              int64\n",
       "Mortgage Loan                 int64\n",
       "Not Specified                 int64\n",
       "Payday Loan                   int64\n",
       "Personal Loan                 int64\n",
       "Student Loan                  int64\n",
       "dtype: object"
      ]
     },
     "execution_count": 42,
     "metadata": {},
     "output_type": "execute_result"
    }
   ],
   "source": [
    "df.dtypes"
   ]
  },
  {
   "cell_type": "code",
   "execution_count": 43,
   "id": "f4b985ed",
   "metadata": {
    "execution": {
     "iopub.execute_input": "2024-02-15T05:49:52.239257Z",
     "iopub.status.busy": "2024-02-15T05:49:52.238631Z",
     "iopub.status.idle": "2024-02-15T05:49:52.303157Z",
     "shell.execute_reply": "2024-02-15T05:49:52.302083Z"
    },
    "papermill": {
     "duration": 0.102161,
     "end_time": "2024-02-15T05:49:52.305482",
     "exception": false,
     "start_time": "2024-02-15T05:49:52.203321",
     "status": "completed"
    },
    "tags": []
   },
   "outputs": [
    {
     "data": {
      "text/plain": [
       "Annual_Income               16121\n",
       "Monthly_Inhand_Salary       12793\n",
       "Num_Bank_Accounts             540\n",
       "Num_Credit_Card               819\n",
       "Interest_Rate                 945\n",
       "Num_of_Loan                   263\n",
       "Delay_from_due_date            73\n",
       "Num_of_Delayed_Payment        443\n",
       "Changed_Credit_Limit         3927\n",
       "Num_Credit_Inquiries          750\n",
       "Credit_Mix                      4\n",
       "Outstanding_Debt            12685\n",
       "Credit_Utilization_Ratio    50000\n",
       "Credit_History_Age            399\n",
       "Payment_of_Min_Amount           3\n",
       "Total_EMI_per_month         13144\n",
       "Amount_invested_monthly     45450\n",
       "Payment_Behaviour               7\n",
       "Monthly_Balance             49433\n",
       "Auto Loan                       2\n",
       "Credit-Builder Loan             2\n",
       "Debt Consolidation Loan         2\n",
       "Home Equity Loan                2\n",
       "Mortgage Loan                   2\n",
       "Not Specified                   2\n",
       "Payday Loan                     2\n",
       "Personal Loan                   2\n",
       "Student Loan                    2\n",
       "dtype: int64"
      ]
     },
     "execution_count": 43,
     "metadata": {},
     "output_type": "execute_result"
    }
   ],
   "source": [
    "df.nunique()"
   ]
  },
  {
   "cell_type": "code",
   "execution_count": 44,
   "id": "53e3db41",
   "metadata": {
    "execution": {
     "iopub.execute_input": "2024-02-15T05:49:52.376342Z",
     "iopub.status.busy": "2024-02-15T05:49:52.375982Z",
     "iopub.status.idle": "2024-02-15T05:49:52.384141Z",
     "shell.execute_reply": "2024-02-15T05:49:52.382949Z"
    },
    "papermill": {
     "duration": 0.046311,
     "end_time": "2024-02-15T05:49:52.386744",
     "exception": false,
     "start_time": "2024-02-15T05:49:52.340433",
     "status": "completed"
    },
    "tags": []
   },
   "outputs": [
    {
     "data": {
      "text/plain": [
       "0          7\n",
       "1          9\n",
       "2          4\n",
       "3          5\n",
       "4          1\n",
       "        ... \n",
       "49995     25\n",
       "49996    NaN\n",
       "49997      5\n",
       "49998     6_\n",
       "49999      5\n",
       "Name: Num_of_Delayed_Payment, Length: 50000, dtype: object"
      ]
     },
     "execution_count": 44,
     "metadata": {},
     "output_type": "execute_result"
    }
   ],
   "source": [
    "df[\"Num_of_Delayed_Payment\"]"
   ]
  },
  {
   "cell_type": "code",
   "execution_count": 45,
   "id": "d24f9263",
   "metadata": {
    "execution": {
     "iopub.execute_input": "2024-02-15T05:49:52.457916Z",
     "iopub.status.busy": "2024-02-15T05:49:52.457520Z",
     "iopub.status.idle": "2024-02-15T05:49:52.466112Z",
     "shell.execute_reply": "2024-02-15T05:49:52.464978Z"
    },
    "papermill": {
     "duration": 0.047817,
     "end_time": "2024-02-15T05:49:52.468435",
     "exception": false,
     "start_time": "2024-02-15T05:49:52.420618",
     "status": "completed"
    },
    "tags": []
   },
   "outputs": [
    {
     "data": {
      "text/plain": [
       "Annual_Income                object\n",
       "Monthly_Inhand_Salary       float64\n",
       "Num_Bank_Accounts             int64\n",
       "Num_Credit_Card               int64\n",
       "Interest_Rate                 int64\n",
       "Num_of_Loan                  object\n",
       "Delay_from_due_date           int64\n",
       "Num_of_Delayed_Payment       object\n",
       "Changed_Credit_Limit         object\n",
       "Num_Credit_Inquiries        float64\n",
       "Credit_Mix                   object\n",
       "Outstanding_Debt             object\n",
       "Credit_Utilization_Ratio    float64\n",
       "Credit_History_Age          float64\n",
       "Payment_of_Min_Amount         int64\n",
       "Total_EMI_per_month         float64\n",
       "Amount_invested_monthly      object\n",
       "Payment_Behaviour             int64\n",
       "Monthly_Balance              object\n",
       "Auto Loan                     int64\n",
       "Credit-Builder Loan           int64\n",
       "Debt Consolidation Loan       int64\n",
       "Home Equity Loan              int64\n",
       "Mortgage Loan                 int64\n",
       "Not Specified                 int64\n",
       "Payday Loan                   int64\n",
       "Personal Loan                 int64\n",
       "Student Loan                  int64\n",
       "dtype: object"
      ]
     },
     "execution_count": 45,
     "metadata": {},
     "output_type": "execute_result"
    }
   ],
   "source": [
    "df.dtypes"
   ]
  },
  {
   "cell_type": "markdown",
   "id": "1cff9947",
   "metadata": {
    "papermill": {
     "duration": 0.035371,
     "end_time": "2024-02-15T05:49:52.538001",
     "exception": false,
     "start_time": "2024-02-15T05:49:52.502630",
     "status": "completed"
    },
    "tags": []
   },
   "source": [
    "## Data Cleaning & Type Conversion"
   ]
  },
  {
   "cell_type": "markdown",
   "id": "160535f8",
   "metadata": {
    "papermill": {
     "duration": 0.033859,
     "end_time": "2024-02-15T05:49:52.605641",
     "exception": false,
     "start_time": "2024-02-15T05:49:52.571782",
     "status": "completed"
    },
    "tags": []
   },
   "source": [
    "*In this subsection, we are going to iterate through each of the column and clean the values where it's need. e.g: Underscores '_'. We are also going to convert data types where it's needed*"
   ]
  },
  {
   "cell_type": "code",
   "execution_count": 46,
   "id": "41f8651a",
   "metadata": {
    "execution": {
     "iopub.execute_input": "2024-02-15T05:49:52.675485Z",
     "iopub.status.busy": "2024-02-15T05:49:52.674758Z",
     "iopub.status.idle": "2024-02-15T05:49:52.923896Z",
     "shell.execute_reply": "2024-02-15T05:49:52.922738Z"
    },
    "papermill": {
     "duration": 0.286787,
     "end_time": "2024-02-15T05:49:52.926328",
     "exception": false,
     "start_time": "2024-02-15T05:49:52.639541",
     "status": "completed"
    },
    "tags": []
   },
   "outputs": [],
   "source": [
    "for col_name in df.columns:\n",
    "    if df[col_name].dtypes == \"object\" and col_name != \"Credit_Mix\":\n",
    "        df[col_name] = df[col_name].str.replace(\"_\",\"\")\n",
    "        df[col_name] = pd.to_numeric(df[col_name],errors='coerce')\n"
   ]
  },
  {
   "cell_type": "code",
   "execution_count": 47,
   "id": "749b27ad",
   "metadata": {
    "execution": {
     "iopub.execute_input": "2024-02-15T05:49:52.996639Z",
     "iopub.status.busy": "2024-02-15T05:49:52.995907Z",
     "iopub.status.idle": "2024-02-15T05:49:53.003954Z",
     "shell.execute_reply": "2024-02-15T05:49:53.002830Z"
    },
    "papermill": {
     "duration": 0.045104,
     "end_time": "2024-02-15T05:49:53.006074",
     "exception": false,
     "start_time": "2024-02-15T05:49:52.960970",
     "status": "completed"
    },
    "tags": []
   },
   "outputs": [
    {
     "data": {
      "text/plain": [
       "Annual_Income               float64\n",
       "Monthly_Inhand_Salary       float64\n",
       "Num_Bank_Accounts             int64\n",
       "Num_Credit_Card               int64\n",
       "Interest_Rate                 int64\n",
       "Num_of_Loan                   int64\n",
       "Delay_from_due_date           int64\n",
       "Num_of_Delayed_Payment      float64\n",
       "Changed_Credit_Limit        float64\n",
       "Num_Credit_Inquiries        float64\n",
       "Credit_Mix                   object\n",
       "Outstanding_Debt            float64\n",
       "Credit_Utilization_Ratio    float64\n",
       "Credit_History_Age          float64\n",
       "Payment_of_Min_Amount         int64\n",
       "Total_EMI_per_month         float64\n",
       "Amount_invested_monthly     float64\n",
       "Payment_Behaviour             int64\n",
       "Monthly_Balance             float64\n",
       "Auto Loan                     int64\n",
       "Credit-Builder Loan           int64\n",
       "Debt Consolidation Loan       int64\n",
       "Home Equity Loan              int64\n",
       "Mortgage Loan                 int64\n",
       "Not Specified                 int64\n",
       "Payday Loan                   int64\n",
       "Personal Loan                 int64\n",
       "Student Loan                  int64\n",
       "dtype: object"
      ]
     },
     "execution_count": 47,
     "metadata": {},
     "output_type": "execute_result"
    }
   ],
   "source": [
    "df.dtypes"
   ]
  },
  {
   "cell_type": "code",
   "execution_count": 48,
   "id": "03c9426e",
   "metadata": {
    "execution": {
     "iopub.execute_input": "2024-02-15T05:49:53.077159Z",
     "iopub.status.busy": "2024-02-15T05:49:53.076517Z",
     "iopub.status.idle": "2024-02-15T05:49:53.089174Z",
     "shell.execute_reply": "2024-02-15T05:49:53.088143Z"
    },
    "papermill": {
     "duration": 0.05049,
     "end_time": "2024-02-15T05:49:53.091206",
     "exception": false,
     "start_time": "2024-02-15T05:49:53.040716",
     "status": "completed"
    },
    "tags": []
   },
   "outputs": [
    {
     "data": {
      "text/plain": [
       "Annual_Income                  0\n",
       "Monthly_Inhand_Salary       7498\n",
       "Num_Bank_Accounts              0\n",
       "Num_Credit_Card                0\n",
       "Interest_Rate                  0\n",
       "Num_of_Loan                    0\n",
       "Delay_from_due_date            0\n",
       "Num_of_Delayed_Payment      3498\n",
       "Changed_Credit_Limit        1059\n",
       "Num_Credit_Inquiries        1035\n",
       "Credit_Mix                     0\n",
       "Outstanding_Debt               0\n",
       "Credit_Utilization_Ratio       0\n",
       "Credit_History_Age          4470\n",
       "Payment_of_Min_Amount          0\n",
       "Total_EMI_per_month            0\n",
       "Amount_invested_monthly     2271\n",
       "Payment_Behaviour              0\n",
       "Monthly_Balance              562\n",
       "Auto Loan                      0\n",
       "Credit-Builder Loan            0\n",
       "Debt Consolidation Loan        0\n",
       "Home Equity Loan               0\n",
       "Mortgage Loan                  0\n",
       "Not Specified                  0\n",
       "Payday Loan                    0\n",
       "Personal Loan                  0\n",
       "Student Loan                   0\n",
       "dtype: int64"
      ]
     },
     "execution_count": 48,
     "metadata": {},
     "output_type": "execute_result"
    }
   ],
   "source": [
    "df.isna().sum()"
   ]
  },
  {
   "cell_type": "code",
   "execution_count": 49,
   "id": "1f113742",
   "metadata": {
    "execution": {
     "iopub.execute_input": "2024-02-15T05:49:53.163035Z",
     "iopub.status.busy": "2024-02-15T05:49:53.162369Z",
     "iopub.status.idle": "2024-02-15T05:49:53.196511Z",
     "shell.execute_reply": "2024-02-15T05:49:53.195483Z"
    },
    "papermill": {
     "duration": 0.072533,
     "end_time": "2024-02-15T05:49:53.198746",
     "exception": false,
     "start_time": "2024-02-15T05:49:53.126213",
     "status": "completed"
    },
    "tags": []
   },
   "outputs": [
    {
     "data": {
      "text/plain": [
       "Annual_Income               12989\n",
       "Monthly_Inhand_Salary       12793\n",
       "Num_Bank_Accounts             540\n",
       "Num_Credit_Card               819\n",
       "Interest_Rate                 945\n",
       "Num_of_Loan                   252\n",
       "Delay_from_due_date            73\n",
       "Num_of_Delayed_Payment        411\n",
       "Changed_Credit_Limit         3920\n",
       "Num_Credit_Inquiries          750\n",
       "Credit_Mix                      4\n",
       "Outstanding_Debt            12203\n",
       "Credit_Utilization_Ratio    50000\n",
       "Credit_History_Age            399\n",
       "Payment_of_Min_Amount           3\n",
       "Total_EMI_per_month         13144\n",
       "Amount_invested_monthly     45450\n",
       "Payment_Behaviour               7\n",
       "Monthly_Balance             49433\n",
       "Auto Loan                       2\n",
       "Credit-Builder Loan             2\n",
       "Debt Consolidation Loan         2\n",
       "Home Equity Loan                2\n",
       "Mortgage Loan                   2\n",
       "Not Specified                   2\n",
       "Payday Loan                     2\n",
       "Personal Loan                   2\n",
       "Student Loan                    2\n",
       "dtype: int64"
      ]
     },
     "execution_count": 49,
     "metadata": {},
     "output_type": "execute_result"
    }
   ],
   "source": [
    "df.nunique()"
   ]
  },
  {
   "cell_type": "markdown",
   "id": "e67bb0ab",
   "metadata": {
    "papermill": {
     "duration": 0.034408,
     "end_time": "2024-02-15T05:49:53.267263",
     "exception": false,
     "start_time": "2024-02-15T05:49:53.232855",
     "status": "completed"
    },
    "tags": []
   },
   "source": [
    "## Handle Null Values"
   ]
  },
  {
   "cell_type": "code",
   "execution_count": 50,
   "id": "276d9ae6",
   "metadata": {
    "execution": {
     "iopub.execute_input": "2024-02-15T05:49:53.337334Z",
     "iopub.status.busy": "2024-02-15T05:49:53.336674Z",
     "iopub.status.idle": "2024-02-15T05:49:53.371727Z",
     "shell.execute_reply": "2024-02-15T05:49:53.370525Z"
    },
    "papermill": {
     "duration": 0.073003,
     "end_time": "2024-02-15T05:49:53.374318",
     "exception": false,
     "start_time": "2024-02-15T05:49:53.301315",
     "status": "completed"
    },
    "tags": []
   },
   "outputs": [],
   "source": [
    "for col_name in df.columns:\n",
    "    if df[col_name].isna().sum() > 0 and df[col_name].nunique()>7:\n",
    "        df[col_name] = df[col_name].fillna(df[col_name].mean())\n",
    "    elif df[col_name].isna().sum() > 0 and df[col_name].nunique()<=7:\n",
    "        df[col_name] = df[col_name].fillna(df[col_name].mode())"
   ]
  },
  {
   "cell_type": "code",
   "execution_count": 51,
   "id": "1792016d",
   "metadata": {
    "execution": {
     "iopub.execute_input": "2024-02-15T05:49:53.446334Z",
     "iopub.status.busy": "2024-02-15T05:49:53.445941Z",
     "iopub.status.idle": "2024-02-15T05:49:53.458795Z",
     "shell.execute_reply": "2024-02-15T05:49:53.457634Z"
    },
    "papermill": {
     "duration": 0.051156,
     "end_time": "2024-02-15T05:49:53.460922",
     "exception": false,
     "start_time": "2024-02-15T05:49:53.409766",
     "status": "completed"
    },
    "tags": []
   },
   "outputs": [
    {
     "data": {
      "text/plain": [
       "Annual_Income               0\n",
       "Monthly_Inhand_Salary       0\n",
       "Num_Bank_Accounts           0\n",
       "Num_Credit_Card             0\n",
       "Interest_Rate               0\n",
       "Num_of_Loan                 0\n",
       "Delay_from_due_date         0\n",
       "Num_of_Delayed_Payment      0\n",
       "Changed_Credit_Limit        0\n",
       "Num_Credit_Inquiries        0\n",
       "Credit_Mix                  0\n",
       "Outstanding_Debt            0\n",
       "Credit_Utilization_Ratio    0\n",
       "Credit_History_Age          0\n",
       "Payment_of_Min_Amount       0\n",
       "Total_EMI_per_month         0\n",
       "Amount_invested_monthly     0\n",
       "Payment_Behaviour           0\n",
       "Monthly_Balance             0\n",
       "Auto Loan                   0\n",
       "Credit-Builder Loan         0\n",
       "Debt Consolidation Loan     0\n",
       "Home Equity Loan            0\n",
       "Mortgage Loan               0\n",
       "Not Specified               0\n",
       "Payday Loan                 0\n",
       "Personal Loan               0\n",
       "Student Loan                0\n",
       "dtype: int64"
      ]
     },
     "execution_count": 51,
     "metadata": {},
     "output_type": "execute_result"
    }
   ],
   "source": [
    "df.isna().sum()"
   ]
  },
  {
   "cell_type": "markdown",
   "id": "495894c6",
   "metadata": {
    "papermill": {
     "duration": 0.034515,
     "end_time": "2024-02-15T05:49:53.529992",
     "exception": false,
     "start_time": "2024-02-15T05:49:53.495477",
     "status": "completed"
    },
    "tags": []
   },
   "source": [
    "## Handling Credit Mix"
   ]
  },
  {
   "cell_type": "code",
   "execution_count": 52,
   "id": "9478a1e4",
   "metadata": {
    "execution": {
     "iopub.execute_input": "2024-02-15T05:49:53.603030Z",
     "iopub.status.busy": "2024-02-15T05:49:53.602053Z",
     "iopub.status.idle": "2024-02-15T05:49:53.609566Z",
     "shell.execute_reply": "2024-02-15T05:49:53.608627Z"
    },
    "papermill": {
     "duration": 0.045562,
     "end_time": "2024-02-15T05:49:53.611527",
     "exception": false,
     "start_time": "2024-02-15T05:49:53.565965",
     "status": "completed"
    },
    "tags": []
   },
   "outputs": [
    {
     "data": {
      "text/plain": [
       "0        Good\n",
       "1        Good\n",
       "2        Good\n",
       "3        Good\n",
       "4        Good\n",
       "         ... \n",
       "49995       _\n",
       "49996    Good\n",
       "49997    Good\n",
       "49998    Good\n",
       "49999       _\n",
       "Name: Credit_Mix, Length: 50000, dtype: object"
      ]
     },
     "execution_count": 52,
     "metadata": {},
     "output_type": "execute_result"
    }
   ],
   "source": [
    "df[\"Credit_Mix\"]"
   ]
  },
  {
   "cell_type": "code",
   "execution_count": 53,
   "id": "249404fb",
   "metadata": {
    "execution": {
     "iopub.execute_input": "2024-02-15T05:49:53.683551Z",
     "iopub.status.busy": "2024-02-15T05:49:53.682936Z",
     "iopub.status.idle": "2024-02-15T05:49:53.694845Z",
     "shell.execute_reply": "2024-02-15T05:49:53.693758Z"
    },
    "papermill": {
     "duration": 0.050209,
     "end_time": "2024-02-15T05:49:53.697150",
     "exception": false,
     "start_time": "2024-02-15T05:49:53.646941",
     "status": "completed"
    },
    "tags": []
   },
   "outputs": [],
   "source": [
    "df_test = df[df[\"Credit_Mix\"] == \"_\"]"
   ]
  },
  {
   "cell_type": "code",
   "execution_count": 54,
   "id": "83b0c755",
   "metadata": {
    "execution": {
     "iopub.execute_input": "2024-02-15T05:49:53.770473Z",
     "iopub.status.busy": "2024-02-15T05:49:53.770084Z",
     "iopub.status.idle": "2024-02-15T05:49:53.789124Z",
     "shell.execute_reply": "2024-02-15T05:49:53.787984Z"
    },
    "papermill": {
     "duration": 0.059506,
     "end_time": "2024-02-15T05:49:53.791658",
     "exception": false,
     "start_time": "2024-02-15T05:49:53.732152",
     "status": "completed"
    },
    "tags": []
   },
   "outputs": [],
   "source": [
    "df.drop(df[df[\"Credit_Mix\"] == \"_\"].index,inplace=True)"
   ]
  },
  {
   "cell_type": "code",
   "execution_count": 55,
   "id": "c99fd4ad",
   "metadata": {
    "execution": {
     "iopub.execute_input": "2024-02-15T05:49:53.863359Z",
     "iopub.status.busy": "2024-02-15T05:49:53.862327Z",
     "iopub.status.idle": "2024-02-15T05:49:53.871244Z",
     "shell.execute_reply": "2024-02-15T05:49:53.870223Z"
    },
    "papermill": {
     "duration": 0.046594,
     "end_time": "2024-02-15T05:49:53.873321",
     "exception": false,
     "start_time": "2024-02-15T05:49:53.826727",
     "status": "completed"
    },
    "tags": []
   },
   "outputs": [
    {
     "data": {
      "text/plain": [
       "Annual_Income               float64\n",
       "Monthly_Inhand_Salary       float64\n",
       "Num_Bank_Accounts             int64\n",
       "Num_Credit_Card               int64\n",
       "Interest_Rate                 int64\n",
       "Num_of_Loan                   int64\n",
       "Delay_from_due_date           int64\n",
       "Num_of_Delayed_Payment      float64\n",
       "Changed_Credit_Limit        float64\n",
       "Num_Credit_Inquiries        float64\n",
       "Credit_Mix                   object\n",
       "Outstanding_Debt            float64\n",
       "Credit_Utilization_Ratio    float64\n",
       "Credit_History_Age          float64\n",
       "Payment_of_Min_Amount         int64\n",
       "Total_EMI_per_month         float64\n",
       "Amount_invested_monthly     float64\n",
       "Payment_Behaviour             int64\n",
       "Monthly_Balance             float64\n",
       "Auto Loan                     int64\n",
       "Credit-Builder Loan           int64\n",
       "Debt Consolidation Loan       int64\n",
       "Home Equity Loan              int64\n",
       "Mortgage Loan                 int64\n",
       "Not Specified                 int64\n",
       "Payday Loan                   int64\n",
       "Personal Loan                 int64\n",
       "Student Loan                  int64\n",
       "dtype: object"
      ]
     },
     "execution_count": 55,
     "metadata": {},
     "output_type": "execute_result"
    }
   ],
   "source": [
    "df.dtypes"
   ]
  },
  {
   "cell_type": "code",
   "execution_count": 56,
   "id": "67c75716",
   "metadata": {
    "execution": {
     "iopub.execute_input": "2024-02-15T05:49:53.947482Z",
     "iopub.status.busy": "2024-02-15T05:49:53.946810Z",
     "iopub.status.idle": "2024-02-15T05:49:53.956433Z",
     "shell.execute_reply": "2024-02-15T05:49:53.955260Z"
    },
    "papermill": {
     "duration": 0.048503,
     "end_time": "2024-02-15T05:49:53.958697",
     "exception": false,
     "start_time": "2024-02-15T05:49:53.910194",
     "status": "completed"
    },
    "tags": []
   },
   "outputs": [
    {
     "data": {
      "text/plain": [
       "array(['Good', 'Standard', 'Bad'], dtype=object)"
      ]
     },
     "execution_count": 56,
     "metadata": {},
     "output_type": "execute_result"
    }
   ],
   "source": [
    "df[\"Credit_Mix\"].unique()"
   ]
  },
  {
   "cell_type": "code",
   "execution_count": 57,
   "id": "7a0380a7",
   "metadata": {
    "execution": {
     "iopub.execute_input": "2024-02-15T05:49:54.034149Z",
     "iopub.status.busy": "2024-02-15T05:49:54.033410Z",
     "iopub.status.idle": "2024-02-15T05:49:54.047546Z",
     "shell.execute_reply": "2024-02-15T05:49:54.046687Z"
    },
    "papermill": {
     "duration": 0.053949,
     "end_time": "2024-02-15T05:49:54.050036",
     "exception": false,
     "start_time": "2024-02-15T05:49:53.996087",
     "status": "completed"
    },
    "tags": []
   },
   "outputs": [],
   "source": [
    "df[\"Credit_Mix\"]= encoder.fit_transform(df[\"Credit_Mix\"])"
   ]
  },
  {
   "cell_type": "markdown",
   "id": "adadc91a",
   "metadata": {
    "papermill": {
     "duration": 0.03428,
     "end_time": "2024-02-15T05:49:54.119018",
     "exception": false,
     "start_time": "2024-02-15T05:49:54.084738",
     "status": "completed"
    },
    "tags": []
   },
   "source": [
    "# Exploratory Data Analysis"
   ]
  },
  {
   "cell_type": "code",
   "execution_count": 58,
   "id": "90043c40",
   "metadata": {
    "execution": {
     "iopub.execute_input": "2024-02-15T05:49:54.191202Z",
     "iopub.status.busy": "2024-02-15T05:49:54.190489Z",
     "iopub.status.idle": "2024-02-15T05:50:00.207123Z",
     "shell.execute_reply": "2024-02-15T05:50:00.206319Z"
    },
    "papermill": {
     "duration": 6.056735,
     "end_time": "2024-02-15T05:50:00.210956",
     "exception": false,
     "start_time": "2024-02-15T05:49:54.154221",
     "status": "completed"
    },
    "tags": []
   },
   "outputs": [
    {
     "data": {
      "image/png": "[encoded data removed]",
      "text/plain": [
       "<Figure size 2000x1500 with 30 Axes>"
      ]
     },
     "metadata": {},
     "output_type": "display_data"
    }
   ],
   "source": [
    "# Histogram\n",
    "df.hist(bins=50, figsize = [20,15])\n",
    "plt.show()"
   ]
  },
  {
   "cell_type": "code",
   "execution_count": 59,
   "id": "ea54de4c",
   "metadata": {
    "execution": {
     "iopub.execute_input": "2024-02-15T05:50:00.290327Z",
     "iopub.status.busy": "2024-02-15T05:50:00.289326Z",
     "iopub.status.idle": "2024-02-15T05:50:00.507940Z",
     "shell.execute_reply": "2024-02-15T05:50:00.506966Z"
    },
    "papermill": {
     "duration": 0.260995,
     "end_time": "2024-02-15T05:50:00.510191",
     "exception": false,
     "start_time": "2024-02-15T05:50:00.249196",
     "status": "completed"
    },
    "tags": []
   },
   "outputs": [
    {
     "data": {
      "text/plain": [
       "<Axes: >"
      ]
     },
     "execution_count": 59,
     "metadata": {},
     "output_type": "execute_result"
    },
    {
     "data": {
      "image/png": "[encoded data removed]",
      "text/plain": [
       "<Figure size 640x480 with 1 Axes>"
      ]
     },
     "metadata": {},
     "output_type": "display_data"
    }
   ],
   "source": [
    "df[\"Monthly_Inhand_Salary\"].hist()"
   ]
  },
  {
   "cell_type": "code",
   "execution_count": 60,
   "id": "7ef91a40",
   "metadata": {
    "execution": {
     "iopub.execute_input": "2024-02-15T05:50:00.590965Z",
     "iopub.status.busy": "2024-02-15T05:50:00.590037Z",
     "iopub.status.idle": "2024-02-15T05:50:00.798528Z",
     "shell.execute_reply": "2024-02-15T05:50:00.797385Z"
    },
    "papermill": {
     "duration": 0.252522,
     "end_time": "2024-02-15T05:50:00.800776",
     "exception": false,
     "start_time": "2024-02-15T05:50:00.548254",
     "status": "completed"
    },
    "tags": []
   },
   "outputs": [
    {
     "data": {
      "text/plain": [
       "<Axes: >"
      ]
     },
     "execution_count": 60,
     "metadata": {},
     "output_type": "execute_result"
    },
    {
     "data": {
      "image/png": "[encoded data removed]",
      "text/plain": [
       "<Figure size 640x480 with 1 Axes>"
      ]
     },
     "metadata": {},
     "output_type": "display_data"
    }
   ],
   "source": [
    "df[\"Credit_History_Age\"].hist()"
   ]
  },
  {
   "cell_type": "code",
   "execution_count": 61,
   "id": "96e43e85",
   "metadata": {
    "execution": {
     "iopub.execute_input": "2024-02-15T05:50:00.881148Z",
     "iopub.status.busy": "2024-02-15T05:50:00.880749Z",
     "iopub.status.idle": "2024-02-15T05:50:01.045878Z",
     "shell.execute_reply": "2024-02-15T05:50:01.044514Z"
    },
    "papermill": {
     "duration": 0.209124,
     "end_time": "2024-02-15T05:50:01.048402",
     "exception": false,
     "start_time": "2024-02-15T05:50:00.839278",
     "status": "completed"
    },
    "tags": []
   },
   "outputs": [
    {
     "data": {
      "text/plain": [
       "<Axes: >"
      ]
     },
     "execution_count": 61,
     "metadata": {},
     "output_type": "execute_result"
    },
    {
     "data": {
      "image/png": "[encoded data removed]",
      "text/plain": [
       "<Figure size 640x480 with 1 Axes>"
      ]
     },
     "metadata": {},
     "output_type": "display_data"
    }
   ],
   "source": [
    "sns.boxplot(df[\"Credit_History_Age\"])"
   ]
  },
  {
   "cell_type": "code",
   "execution_count": 62,
   "id": "67cf72fa",
   "metadata": {
    "execution": {
     "iopub.execute_input": "2024-02-15T05:50:01.131843Z",
     "iopub.status.busy": "2024-02-15T05:50:01.131175Z",
     "iopub.status.idle": "2024-02-15T05:50:01.296946Z",
     "shell.execute_reply": "2024-02-15T05:50:01.295800Z"
    },
    "papermill": {
     "duration": 0.21093,
     "end_time": "2024-02-15T05:50:01.299287",
     "exception": false,
     "start_time": "2024-02-15T05:50:01.088357",
     "status": "completed"
    },
    "tags": []
   },
   "outputs": [
    {
     "data": {
      "text/plain": [
       "<Axes: >"
      ]
     },
     "execution_count": 62,
     "metadata": {},
     "output_type": "execute_result"
    },
    {
     "data": {
      "image/png": "[encoded data removed]",
      "text/plain": [
       "<Figure size 640x480 with 1 Axes>"
      ]
     },
     "metadata": {},
     "output_type": "display_data"
    }
   ],
   "source": [
    "sns.boxplot(df[\"Monthly_Inhand_Salary\"])"
   ]
  },
  {
   "cell_type": "code",
   "execution_count": 63,
   "id": "fe422f67",
   "metadata": {
    "execution": {
     "iopub.execute_input": "2024-02-15T05:50:01.440021Z",
     "iopub.status.busy": "2024-02-15T05:50:01.439637Z",
     "iopub.status.idle": "2024-02-15T05:50:01.912741Z",
     "shell.execute_reply": "2024-02-15T05:50:01.911660Z"
    },
    "papermill": {
     "duration": 0.51704,
     "end_time": "2024-02-15T05:50:01.915040",
     "exception": false,
     "start_time": "2024-02-15T05:50:01.398000",
     "status": "completed"
    },
    "tags": []
   },
   "outputs": [
    {
     "data": {
      "text/plain": [
       "<Axes: >"
      ]
     },
     "execution_count": 63,
     "metadata": {},
     "output_type": "execute_result"
    },
    {
     "data": {
      "image/png": "[encoded data removed]",
      "text/plain": [
       "<Figure size 640x480 with 1 Axes>"
      ]
     },
     "metadata": {},
     "output_type": "display_data"
    }
   ],
   "source": [
    "df[df[\"Credit_Mix\"]!= \"_\"][\"Credit_Mix\"].hist()"
   ]
  },
  {
   "cell_type": "markdown",
   "id": "9ed46455",
   "metadata": {
    "papermill": {
     "duration": 0.041026,
     "end_time": "2024-02-15T05:50:01.996839",
     "exception": false,
     "start_time": "2024-02-15T05:50:01.955813",
     "status": "completed"
    },
    "tags": []
   },
   "source": [
    "# Data Scaling"
   ]
  },
  {
   "cell_type": "code",
   "execution_count": 64,
   "id": "c4798bdf",
   "metadata": {
    "execution": {
     "iopub.execute_input": "2024-02-15T05:50:02.080122Z",
     "iopub.status.busy": "2024-02-15T05:50:02.079727Z",
     "iopub.status.idle": "2024-02-15T05:50:02.084221Z",
     "shell.execute_reply": "2024-02-15T05:50:02.083448Z"
    },
    "papermill": {
     "duration": 0.047624,
     "end_time": "2024-02-15T05:50:02.086204",
     "exception": false,
     "start_time": "2024-02-15T05:50:02.038580",
     "status": "completed"
    },
    "tags": []
   },
   "outputs": [],
   "source": [
    "from sklearn.preprocessing import StandardScaler"
   ]
  },
  {
   "cell_type": "code",
   "execution_count": 65,
   "id": "da3ec7bb",
   "metadata": {
    "execution": {
     "iopub.execute_input": "2024-02-15T05:50:02.168040Z",
     "iopub.status.busy": "2024-02-15T05:50:02.167623Z",
     "iopub.status.idle": "2024-02-15T05:50:02.172678Z",
     "shell.execute_reply": "2024-02-15T05:50:02.171503Z"
    },
    "papermill": {
     "duration": 0.048523,
     "end_time": "2024-02-15T05:50:02.174896",
     "exception": false,
     "start_time": "2024-02-15T05:50:02.126373",
     "status": "completed"
    },
    "tags": []
   },
   "outputs": [],
   "source": [
    "scaler = StandardScaler()"
   ]
  },
  {
   "cell_type": "code",
   "execution_count": 66,
   "id": "63576942",
   "metadata": {
    "execution": {
     "iopub.execute_input": "2024-02-15T05:50:02.257274Z",
     "iopub.status.busy": "2024-02-15T05:50:02.256916Z",
     "iopub.status.idle": "2024-02-15T05:50:02.303616Z",
     "shell.execute_reply": "2024-02-15T05:50:02.302478Z"
    },
    "papermill": {
     "duration": 0.090827,
     "end_time": "2024-02-15T05:50:02.305999",
     "exception": false,
     "start_time": "2024-02-15T05:50:02.215172",
     "status": "completed"
    },
    "tags": []
   },
   "outputs": [],
   "source": [
    "for col_name in df.columns:\n",
    "    if df[col_name].dtypes == \"float64\":\n",
    "        df[col_name] = scaler.fit_transform(df[[col_name]])"
   ]
  },
  {
   "cell_type": "markdown",
   "id": "e8677e22",
   "metadata": {
    "papermill": {
     "duration": 0.039187,
     "end_time": "2024-02-15T05:50:02.384781",
     "exception": false,
     "start_time": "2024-02-15T05:50:02.345594",
     "status": "completed"
    },
    "tags": []
   },
   "source": [
    "# Model Training & Evaluation(First Stage)"
   ]
  },
  {
   "cell_type": "code",
   "execution_count": 67,
   "id": "573b2fd9",
   "metadata": {
    "execution": {
     "iopub.execute_input": "2024-02-15T05:50:02.467900Z",
     "iopub.status.busy": "2024-02-15T05:50:02.467531Z",
     "iopub.status.idle": "2024-02-15T05:50:03.131666Z",
     "shell.execute_reply": "2024-02-15T05:50:03.130744Z"
    },
    "papermill": {
     "duration": 0.709349,
     "end_time": "2024-02-15T05:50:03.134128",
     "exception": false,
     "start_time": "2024-02-15T05:50:02.424779",
     "status": "completed"
    },
    "tags": []
   },
   "outputs": [],
   "source": [
    "from sklearn.model_selection import train_test_split\n",
    "\n",
    "# Logistic Regression\n",
    "from sklearn.linear_model import LogisticRegression\n",
    "\n",
    "# Random Forest Classifier\n",
    "from sklearn.ensemble import RandomForestClassifier\n",
    "\n",
    "# Support Vector Machine (SVM)\n",
    "from sklearn.svm import SVC\n",
    "\n",
    "# Gradient Boosting Classifier (XGBoost)\n",
    "import xgboost as xgb\n",
    "from xgboost import XGBClassifier"
   ]
  },
  {
   "cell_type": "code",
   "execution_count": 68,
   "id": "8f589f28",
   "metadata": {
    "execution": {
     "iopub.execute_input": "2024-02-15T05:50:03.215627Z",
     "iopub.status.busy": "2024-02-15T05:50:03.215204Z",
     "iopub.status.idle": "2024-02-15T05:50:03.237918Z",
     "shell.execute_reply": "2024-02-15T05:50:03.236821Z"
    },
    "papermill": {
     "duration": 0.066347,
     "end_time": "2024-02-15T05:50:03.240355",
     "exception": false,
     "start_time": "2024-02-15T05:50:03.174008",
     "status": "completed"
    },
    "tags": []
   },
   "outputs": [],
   "source": [
    "# Assuming X and y are your feature matrix and target variable\n",
    "X_train, X_test, y_train, y_test = train_test_split(df.drop(\"Credit_Mix\",axis=1), df[\"Credit_Mix\"], test_size=0.2, random_state=42)\n"
   ]
  },
  {
   "cell_type": "code",
   "execution_count": 69,
   "id": "24b09702",
   "metadata": {
    "execution": {
     "iopub.execute_input": "2024-02-15T05:50:03.321781Z",
     "iopub.status.busy": "2024-02-15T05:50:03.321346Z",
     "iopub.status.idle": "2024-02-15T05:50:03.326468Z",
     "shell.execute_reply": "2024-02-15T05:50:03.325344Z"
    },
    "papermill": {
     "duration": 0.048615,
     "end_time": "2024-02-15T05:50:03.328774",
     "exception": false,
     "start_time": "2024-02-15T05:50:03.280159",
     "status": "completed"
    },
    "tags": []
   },
   "outputs": [],
   "source": [
    "# Initialize models\n",
    "lr = LogisticRegression()\n",
    "rf = RandomForestClassifier()\n",
    "svm = SVC()\n",
    "xg = XGBClassifier()"
   ]
  },
  {
   "cell_type": "code",
   "execution_count": 70,
   "id": "08881ebf",
   "metadata": {
    "execution": {
     "iopub.execute_input": "2024-02-15T05:50:03.412330Z",
     "iopub.status.busy": "2024-02-15T05:50:03.411923Z",
     "iopub.status.idle": "2024-02-15T05:50:04.433969Z",
     "shell.execute_reply": "2024-02-15T05:50:04.432598Z"
    },
    "papermill": {
     "duration": 1.068363,
     "end_time": "2024-02-15T05:50:04.437860",
     "exception": false,
     "start_time": "2024-02-15T05:50:03.369497",
     "status": "completed"
    },
    "tags": []
   },
   "outputs": [
    {
     "data": {
      "text/html": [
       "<style>#sk-container-id-1 {color: black;background-color: white;}#sk-container-id-1 pre{padding: 0;}#sk-container-id-1 div.sk-toggleable {background-color: white;}#sk-container-id-1 label.sk-toggleable__label {cursor: pointer;display: block;width: 100%;margin-bottom: 0;padding: 0.3em;box-sizing: border-box;text-align: center;}#sk-container-id-1 label.sk-toggleable__label-arrow:before {content: \"▸\";float: left;margin-right: 0.25em;color: #696969;}#sk-container-id-1 label.sk-toggleable__label-arrow:hover:before {color: black;}#sk-container-id-1 div.sk-estimator:hover label.sk-toggleable__label-arrow:before {color: black;}#sk-container-id-1 div.sk-toggleable__content {max-height: 0;max-width: 0;overflow: hidden;text-align: left;background-color: #f0f8ff;}#sk-container-id-1 div.sk-toggleable__content pre {margin: 0.2em;color: black;border-radius: 0.25em;background-color: #f0f8ff;}#sk-container-id-1 input.sk-toggleable__control:checked~div.sk-toggleable__content {max-height: 200px;max-width: 100%;overflow: auto;}#sk-container-id-1 input.sk-toggleable__control:checked~label.sk-toggleable__label-arrow:before {content: \"▾\";}#sk-container-id-1 div.sk-estimator input.sk-toggleable__control:checked~label.sk-toggleable__label {background-color: #d4ebff;}#sk-container-id-1 div.sk-label input.sk-toggleable__control:checked~label.sk-toggleable__label {background-color: #d4ebff;}#sk-container-id-1 input.sk-hidden--visually {border: 0;clip: rect(1px 1px 1px 1px);clip: rect(1px, 1px, 1px, 1px);height: 1px;margin: -1px;overflow: hidden;padding: 0;position: absolute;width: 1px;}#sk-container-id-1 div.sk-estimator {font-family: monospace;background-color: #f0f8ff;border: 1px dotted black;border-radius: 0.25em;box-sizing: border-box;margin-bottom: 0.5em;}#sk-container-id-1 div.sk-estimator:hover {background-color: #d4ebff;}#sk-container-id-1 div.sk-parallel-item::after {content: \"\";width: 100%;border-bottom: 1px solid gray;flex-grow: 1;}#sk-container-id-1 div.sk-label:hover label.sk-toggleable__label {background-color: #d4ebff;}#sk-container-id-1 div.sk-serial::before {content: \"\";position: absolute;border-left: 1px solid gray;box-sizing: border-box;top: 0;bottom: 0;left: 50%;z-index: 0;}#sk-container-id-1 div.sk-serial {display: flex;flex-direction: column;align-items: center;background-color: white;padding-right: 0.2em;padding-left: 0.2em;position: relative;}#sk-container-id-1 div.sk-item {position: relative;z-index: 1;}#sk-container-id-1 div.sk-parallel {display: flex;align-items: stretch;justify-content: center;background-color: white;position: relative;}#sk-container-id-1 div.sk-item::before, #sk-container-id-1 div.sk-parallel-item::before {content: \"\";position: absolute;border-left: 1px solid gray;box-sizing: border-box;top: 0;bottom: 0;left: 50%;z-index: -1;}#sk-container-id-1 div.sk-parallel-item {display: flex;flex-direction: column;z-index: 1;position: relative;background-color: white;}#sk-container-id-1 div.sk-parallel-item:first-child::after {align-self: flex-end;width: 50%;}#sk-container-id-1 div.sk-parallel-item:last-child::after {align-self: flex-start;width: 50%;}#sk-container-id-1 div.sk-parallel-item:only-child::after {width: 0;}#sk-container-id-1 div.sk-dashed-wrapped {border: 1px dashed gray;margin: 0 0.4em 0.5em 0.4em;box-sizing: border-box;padding-bottom: 0.4em;background-color: white;}#sk-container-id-1 div.sk-label label {font-family: monospace;font-weight: bold;display: inline-block;line-height: 1.2em;}#sk-container-id-1 div.sk-label-container {text-align: center;}#sk-container-id-1 div.sk-container {/* jupyter's `normalize.less` sets `[hidden] { display: none; }` but bootstrap.min.css set `[hidden] { display: none !important; }` so we also need the `!important` here to be able to override the default hidden behavior on the sphinx rendered scikit-learn.org. See: https://github.com/scikit-learn/scikit-learn/issues/21755 */display: inline-block !important;position: relative;}#sk-container-id-1 div.sk-text-repr-fallback {display: none;}</style><div id=\"sk-container-id-1\" class=\"sk-top-container\"><div class=\"sk-text-repr-fallback\"><pre>LogisticRegression()</pre><b>In a Jupyter environment, please rerun this cell to show the HTML representation or trust the notebook. <br />On GitHub, the HTML representation is unable to render, please try loading this page with nbviewer.org.</b></div><div class=\"sk-container\" hidden><div class=\"sk-item\"><div class=\"sk-estimator sk-toggleable\"><input class=\"sk-toggleable__control sk-hidden--visually\" id=\"sk-estimator-id-1\" type=\"checkbox\" checked><label for=\"sk-estimator-id-1\" class=\"sk-toggleable__label sk-toggleable__label-arrow\">LogisticRegression</label><div class=\"sk-toggleable__content\"><pre>LogisticRegression()</pre></div></div></div></div></div>"
      ],
      "text/plain": [
       "LogisticRegression()"
      ]
     },
     "execution_count": 70,
     "metadata": {},
     "output_type": "execute_result"
    }
   ],
   "source": [
    "## Lr\n",
    "lr.fit(X_train,y_train)"
   ]
  },
  {
   "cell_type": "code",
   "execution_count": 71,
   "id": "47fc9f69",
   "metadata": {
    "execution": {
     "iopub.execute_input": "2024-02-15T05:50:04.564397Z",
     "iopub.status.busy": "2024-02-15T05:50:04.564019Z",
     "iopub.status.idle": "2024-02-15T05:50:04.574003Z",
     "shell.execute_reply": "2024-02-15T05:50:04.572327Z"
    },
    "papermill": {
     "duration": 0.066846,
     "end_time": "2024-02-15T05:50:04.577783",
     "exception": false,
     "start_time": "2024-02-15T05:50:04.510937",
     "status": "completed"
    },
    "tags": []
   },
   "outputs": [],
   "source": [
    "predicted = lr.predict(X_test)"
   ]
  },
  {
   "cell_type": "code",
   "execution_count": 72,
   "id": "7adc7848",
   "metadata": {
    "execution": {
     "iopub.execute_input": "2024-02-15T05:50:04.706901Z",
     "iopub.status.busy": "2024-02-15T05:50:04.706551Z",
     "iopub.status.idle": "2024-02-15T05:50:04.710505Z",
     "shell.execute_reply": "2024-02-15T05:50:04.709739Z"
    },
    "papermill": {
     "duration": 0.065534,
     "end_time": "2024-02-15T05:50:04.712334",
     "exception": false,
     "start_time": "2024-02-15T05:50:04.646800",
     "status": "completed"
    },
    "tags": []
   },
   "outputs": [],
   "source": [
    "import sklearn.metrics as mt"
   ]
  },
  {
   "cell_type": "code",
   "execution_count": 73,
   "id": "15eb93e7",
   "metadata": {
    "execution": {
     "iopub.execute_input": "2024-02-15T05:50:04.797772Z",
     "iopub.status.busy": "2024-02-15T05:50:04.797176Z",
     "iopub.status.idle": "2024-02-15T05:50:04.823907Z",
     "shell.execute_reply": "2024-02-15T05:50:04.822276Z"
    },
    "papermill": {
     "duration": 0.072416,
     "end_time": "2024-02-15T05:50:04.826148",
     "exception": false,
     "start_time": "2024-02-15T05:50:04.753732",
     "status": "completed"
    },
    "tags": []
   },
   "outputs": [
    {
     "name": "stdout",
     "output_type": "stream",
     "text": [
      "              precision    recall  f1-score   support\n",
      "\n",
      "           0       0.82      0.81      0.82      1937\n",
      "           1       0.66      0.71      0.69      2434\n",
      "           2       0.71      0.67      0.69      3668\n",
      "\n",
      "    accuracy                           0.72      8039\n",
      "   macro avg       0.73      0.73      0.73      8039\n",
      "weighted avg       0.72      0.72      0.72      8039\n",
      "\n"
     ]
    }
   ],
   "source": [
    "print(mt.classification_report(y_test, predicted))"
   ]
  },
  {
   "cell_type": "code",
   "execution_count": 74,
   "id": "89c55f7f",
   "metadata": {
    "execution": {
     "iopub.execute_input": "2024-02-15T05:50:04.909975Z",
     "iopub.status.busy": "2024-02-15T05:50:04.909356Z",
     "iopub.status.idle": "2024-02-15T05:50:04.926235Z",
     "shell.execute_reply": "2024-02-15T05:50:04.924569Z"
    },
    "papermill": {
     "duration": 0.06449,
     "end_time": "2024-02-15T05:50:04.931182",
     "exception": false,
     "start_time": "2024-02-15T05:50:04.866692",
     "status": "completed"
    },
    "tags": []
   },
   "outputs": [],
   "source": [
    "predicted_train = lr.predict(X_train)"
   ]
  },
  {
   "cell_type": "code",
   "execution_count": 75,
   "id": "3f146a16",
   "metadata": {
    "execution": {
     "iopub.execute_input": "2024-02-15T05:50:05.065495Z",
     "iopub.status.busy": "2024-02-15T05:50:05.064360Z",
     "iopub.status.idle": "2024-02-15T05:50:05.129642Z",
     "shell.execute_reply": "2024-02-15T05:50:05.128253Z"
    },
    "papermill": {
     "duration": 0.123982,
     "end_time": "2024-02-15T05:50:05.132145",
     "exception": false,
     "start_time": "2024-02-15T05:50:05.008163",
     "status": "completed"
    },
    "tags": []
   },
   "outputs": [
    {
     "name": "stdout",
     "output_type": "stream",
     "text": [
      "              precision    recall  f1-score   support\n",
      "\n",
      "           0       0.81      0.82      0.81      7619\n",
      "           1       0.68      0.72      0.70      9826\n",
      "           2       0.71      0.68      0.70     14711\n",
      "\n",
      "    accuracy                           0.73     32156\n",
      "   macro avg       0.73      0.74      0.74     32156\n",
      "weighted avg       0.73      0.73      0.73     32156\n",
      "\n"
     ]
    }
   ],
   "source": [
    "print(mt.classification_report(y_train, predicted_train))"
   ]
  },
  {
   "cell_type": "code",
   "execution_count": 76,
   "id": "d716757b",
   "metadata": {
    "execution": {
     "iopub.execute_input": "2024-02-15T05:50:05.214777Z",
     "iopub.status.busy": "2024-02-15T05:50:05.213873Z",
     "iopub.status.idle": "2024-02-15T05:50:05.218038Z",
     "shell.execute_reply": "2024-02-15T05:50:05.217184Z"
    },
    "papermill": {
     "duration": 0.048246,
     "end_time": "2024-02-15T05:50:05.220544",
     "exception": false,
     "start_time": "2024-02-15T05:50:05.172298",
     "status": "completed"
    },
    "tags": []
   },
   "outputs": [],
   "source": [
    "## rf"
   ]
  },
  {
   "cell_type": "code",
   "execution_count": 77,
   "id": "b1f632ad",
   "metadata": {
    "execution": {
     "iopub.execute_input": "2024-02-15T05:50:05.306538Z",
     "iopub.status.busy": "2024-02-15T05:50:05.305499Z",
     "iopub.status.idle": "2024-02-15T05:50:13.004116Z",
     "shell.execute_reply": "2024-02-15T05:50:13.002700Z"
    },
    "papermill": {
     "duration": 7.742836,
     "end_time": "2024-02-15T05:50:13.006805",
     "exception": false,
     "start_time": "2024-02-15T05:50:05.263969",
     "status": "completed"
    },
    "tags": []
   },
   "outputs": [
    {
     "data": {
      "text/html": [
       "<style>#sk-container-id-2 {color: black;background-color: white;}#sk-container-id-2 pre{padding: 0;}#sk-container-id-2 div.sk-toggleable {background-color: white;}#sk-container-id-2 label.sk-toggleable__label {cursor: pointer;display: block;width: 100%;margin-bottom: 0;padding: 0.3em;box-sizing: border-box;text-align: center;}#sk-container-id-2 label.sk-toggleable__label-arrow:before {content: \"▸\";float: left;margin-right: 0.25em;color: #696969;}#sk-container-id-2 label.sk-toggleable__label-arrow:hover:before {color: black;}#sk-container-id-2 div.sk-estimator:hover label.sk-toggleable__label-arrow:before {color: black;}#sk-container-id-2 div.sk-toggleable__content {max-height: 0;max-width: 0;overflow: hidden;text-align: left;background-color: #f0f8ff;}#sk-container-id-2 div.sk-toggleable__content pre {margin: 0.2em;color: black;border-radius: 0.25em;background-color: #f0f8ff;}#sk-container-id-2 input.sk-toggleable__control:checked~div.sk-toggleable__content {max-height: 200px;max-width: 100%;overflow: auto;}#sk-container-id-2 input.sk-toggleable__control:checked~label.sk-toggleable__label-arrow:before {content: \"▾\";}#sk-container-id-2 div.sk-estimator input.sk-toggleable__control:checked~label.sk-toggleable__label {background-color: #d4ebff;}#sk-container-id-2 div.sk-label input.sk-toggleable__control:checked~label.sk-toggleable__label {background-color: #d4ebff;}#sk-container-id-2 input.sk-hidden--visually {border: 0;clip: rect(1px 1px 1px 1px);clip: rect(1px, 1px, 1px, 1px);height: 1px;margin: -1px;overflow: hidden;padding: 0;position: absolute;width: 1px;}#sk-container-id-2 div.sk-estimator {font-family: monospace;background-color: #f0f8ff;border: 1px dotted black;border-radius: 0.25em;box-sizing: border-box;margin-bottom: 0.5em;}#sk-container-id-2 div.sk-estimator:hover {background-color: #d4ebff;}#sk-container-id-2 div.sk-parallel-item::after {content: \"\";width: 100%;border-bottom: 1px solid gray;flex-grow: 1;}#sk-container-id-2 div.sk-label:hover label.sk-toggleable__label {background-color: #d4ebff;}#sk-container-id-2 div.sk-serial::before {content: \"\";position: absolute;border-left: 1px solid gray;box-sizing: border-box;top: 0;bottom: 0;left: 50%;z-index: 0;}#sk-container-id-2 div.sk-serial {display: flex;flex-direction: column;align-items: center;background-color: white;padding-right: 0.2em;padding-left: 0.2em;position: relative;}#sk-container-id-2 div.sk-item {position: relative;z-index: 1;}#sk-container-id-2 div.sk-parallel {display: flex;align-items: stretch;justify-content: center;background-color: white;position: relative;}#sk-container-id-2 div.sk-item::before, #sk-container-id-2 div.sk-parallel-item::before {content: \"\";position: absolute;border-left: 1px solid gray;box-sizing: border-box;top: 0;bottom: 0;left: 50%;z-index: -1;}#sk-container-id-2 div.sk-parallel-item {display: flex;flex-direction: column;z-index: 1;position: relative;background-color: white;}#sk-container-id-2 div.sk-parallel-item:first-child::after {align-self: flex-end;width: 50%;}#sk-container-id-2 div.sk-parallel-item:last-child::after {align-self: flex-start;width: 50%;}#sk-container-id-2 div.sk-parallel-item:only-child::after {width: 0;}#sk-container-id-2 div.sk-dashed-wrapped {border: 1px dashed gray;margin: 0 0.4em 0.5em 0.4em;box-sizing: border-box;padding-bottom: 0.4em;background-color: white;}#sk-container-id-2 div.sk-label label {font-family: monospace;font-weight: bold;display: inline-block;line-height: 1.2em;}#sk-container-id-2 div.sk-label-container {text-align: center;}#sk-container-id-2 div.sk-container {/* jupyter's `normalize.less` sets `[hidden] { display: none; }` but bootstrap.min.css set `[hidden] { display: none !important; }` so we also need the `!important` here to be able to override the default hidden behavior on the sphinx rendered scikit-learn.org. See: https://github.com/scikit-learn/scikit-learn/issues/21755 */display: inline-block !important;position: relative;}#sk-container-id-2 div.sk-text-repr-fallback {display: none;}</style><div id=\"sk-container-id-2\" class=\"sk-top-container\"><div class=\"sk-text-repr-fallback\"><pre>RandomForestClassifier()</pre><b>In a Jupyter environment, please rerun this cell to show the HTML representation or trust the notebook. <br />On GitHub, the HTML representation is unable to render, please try loading this page with nbviewer.org.</b></div><div class=\"sk-container\" hidden><div class=\"sk-item\"><div class=\"sk-estimator sk-toggleable\"><input class=\"sk-toggleable__control sk-hidden--visually\" id=\"sk-estimator-id-2\" type=\"checkbox\" checked><label for=\"sk-estimator-id-2\" class=\"sk-toggleable__label sk-toggleable__label-arrow\">RandomForestClassifier</label><div class=\"sk-toggleable__content\"><pre>RandomForestClassifier()</pre></div></div></div></div></div>"
      ],
      "text/plain": [
       "RandomForestClassifier()"
      ]
     },
     "execution_count": 77,
     "metadata": {},
     "output_type": "execute_result"
    }
   ],
   "source": [
    "rf.fit(X_train,y_train)"
   ]
  },
  {
   "cell_type": "code",
   "execution_count": 78,
   "id": "bc5722d1",
   "metadata": {
    "execution": {
     "iopub.execute_input": "2024-02-15T05:50:13.089774Z",
     "iopub.status.busy": "2024-02-15T05:50:13.089379Z",
     "iopub.status.idle": "2024-02-15T05:50:13.223971Z",
     "shell.execute_reply": "2024-02-15T05:50:13.222758Z"
    },
    "papermill": {
     "duration": 0.17912,
     "end_time": "2024-02-15T05:50:13.226666",
     "exception": false,
     "start_time": "2024-02-15T05:50:13.047546",
     "status": "completed"
    },
    "tags": []
   },
   "outputs": [],
   "source": [
    "predicted = rf.predict(X_test)"
   ]
  },
  {
   "cell_type": "code",
   "execution_count": 79,
   "id": "f59d544b",
   "metadata": {
    "execution": {
     "iopub.execute_input": "2024-02-15T05:50:13.310536Z",
     "iopub.status.busy": "2024-02-15T05:50:13.310124Z",
     "iopub.status.idle": "2024-02-15T05:50:13.335149Z",
     "shell.execute_reply": "2024-02-15T05:50:13.333665Z"
    },
    "papermill": {
     "duration": 0.069244,
     "end_time": "2024-02-15T05:50:13.337183",
     "exception": false,
     "start_time": "2024-02-15T05:50:13.267939",
     "status": "completed"
    },
    "tags": []
   },
   "outputs": [
    {
     "name": "stdout",
     "output_type": "stream",
     "text": [
      "              precision    recall  f1-score   support\n",
      "\n",
      "           0       0.97      0.98      0.98      1937\n",
      "           1       0.97      0.98      0.97      2434\n",
      "           2       0.97      0.96      0.97      3668\n",
      "\n",
      "    accuracy                           0.97      8039\n",
      "   macro avg       0.97      0.97      0.97      8039\n",
      "weighted avg       0.97      0.97      0.97      8039\n",
      "\n"
     ]
    }
   ],
   "source": [
    "print(mt.classification_report(y_test, predicted))"
   ]
  },
  {
   "cell_type": "code",
   "execution_count": 80,
   "id": "a792244f",
   "metadata": {
    "execution": {
     "iopub.execute_input": "2024-02-15T05:50:13.421533Z",
     "iopub.status.busy": "2024-02-15T05:50:13.420863Z",
     "iopub.status.idle": "2024-02-15T05:50:13.424587Z",
     "shell.execute_reply": "2024-02-15T05:50:13.423760Z"
    },
    "papermill": {
     "duration": 0.047932,
     "end_time": "2024-02-15T05:50:13.426728",
     "exception": false,
     "start_time": "2024-02-15T05:50:13.378796",
     "status": "completed"
    },
    "tags": []
   },
   "outputs": [],
   "source": [
    "## SVM"
   ]
  },
  {
   "cell_type": "code",
   "execution_count": 81,
   "id": "218a96f4",
   "metadata": {
    "execution": {
     "iopub.execute_input": "2024-02-15T05:50:13.512035Z",
     "iopub.status.busy": "2024-02-15T05:50:13.511177Z",
     "iopub.status.idle": "2024-02-15T05:51:02.517578Z",
     "shell.execute_reply": "2024-02-15T05:51:02.516191Z"
    },
    "papermill": {
     "duration": 49.090047,
     "end_time": "2024-02-15T05:51:02.559086",
     "exception": false,
     "start_time": "2024-02-15T05:50:13.469039",
     "status": "completed"
    },
    "tags": []
   },
   "outputs": [
    {
     "data": {
      "text/html": [
       "<style>#sk-container-id-3 {color: black;background-color: white;}#sk-container-id-3 pre{padding: 0;}#sk-container-id-3 div.sk-toggleable {background-color: white;}#sk-container-id-3 label.sk-toggleable__label {cursor: pointer;display: block;width: 100%;margin-bottom: 0;padding: 0.3em;box-sizing: border-box;text-align: center;}#sk-container-id-3 label.sk-toggleable__label-arrow:before {content: \"▸\";float: left;margin-right: 0.25em;color: #696969;}#sk-container-id-3 label.sk-toggleable__label-arrow:hover:before {color: black;}#sk-container-id-3 div.sk-estimator:hover label.sk-toggleable__label-arrow:before {color: black;}#sk-container-id-3 div.sk-toggleable__content {max-height: 0;max-width: 0;overflow: hidden;text-align: left;background-color: #f0f8ff;}#sk-container-id-3 div.sk-toggleable__content pre {margin: 0.2em;color: black;border-radius: 0.25em;background-color: #f0f8ff;}#sk-container-id-3 input.sk-toggleable__control:checked~div.sk-toggleable__content {max-height: 200px;max-width: 100%;overflow: auto;}#sk-container-id-3 input.sk-toggleable__control:checked~label.sk-toggleable__label-arrow:before {content: \"▾\";}#sk-container-id-3 div.sk-estimator input.sk-toggleable__control:checked~label.sk-toggleable__label {background-color: #d4ebff;}#sk-container-id-3 div.sk-label input.sk-toggleable__control:checked~label.sk-toggleable__label {background-color: #d4ebff;}#sk-container-id-3 input.sk-hidden--visually {border: 0;clip: rect(1px 1px 1px 1px);clip: rect(1px, 1px, 1px, 1px);height: 1px;margin: -1px;overflow: hidden;padding: 0;position: absolute;width: 1px;}#sk-container-id-3 div.sk-estimator {font-family: monospace;background-color: #f0f8ff;border: 1px dotted black;border-radius: 0.25em;box-sizing: border-box;margin-bottom: 0.5em;}#sk-container-id-3 div.sk-estimator:hover {background-color: #d4ebff;}#sk-container-id-3 div.sk-parallel-item::after {content: \"\";width: 100%;border-bottom: 1px solid gray;flex-grow: 1;}#sk-container-id-3 div.sk-label:hover label.sk-toggleable__label {background-color: #d4ebff;}#sk-container-id-3 div.sk-serial::before {content: \"\";position: absolute;border-left: 1px solid gray;box-sizing: border-box;top: 0;bottom: 0;left: 50%;z-index: 0;}#sk-container-id-3 div.sk-serial {display: flex;flex-direction: column;align-items: center;background-color: white;padding-right: 0.2em;padding-left: 0.2em;position: relative;}#sk-container-id-3 div.sk-item {position: relative;z-index: 1;}#sk-container-id-3 div.sk-parallel {display: flex;align-items: stretch;justify-content: center;background-color: white;position: relative;}#sk-container-id-3 div.sk-item::before, #sk-container-id-3 div.sk-parallel-item::before {content: \"\";position: absolute;border-left: 1px solid gray;box-sizing: border-box;top: 0;bottom: 0;left: 50%;z-index: -1;}#sk-container-id-3 div.sk-parallel-item {display: flex;flex-direction: column;z-index: 1;position: relative;background-color: white;}#sk-container-id-3 div.sk-parallel-item:first-child::after {align-self: flex-end;width: 50%;}#sk-container-id-3 div.sk-parallel-item:last-child::after {align-self: flex-start;width: 50%;}#sk-container-id-3 div.sk-parallel-item:only-child::after {width: 0;}#sk-container-id-3 div.sk-dashed-wrapped {border: 1px dashed gray;margin: 0 0.4em 0.5em 0.4em;box-sizing: border-box;padding-bottom: 0.4em;background-color: white;}#sk-container-id-3 div.sk-label label {font-family: monospace;font-weight: bold;display: inline-block;line-height: 1.2em;}#sk-container-id-3 div.sk-label-container {text-align: center;}#sk-container-id-3 div.sk-container {/* jupyter's `normalize.less` sets `[hidden] { display: none; }` but bootstrap.min.css set `[hidden] { display: none !important; }` so we also need the `!important` here to be able to override the default hidden behavior on the sphinx rendered scikit-learn.org. See: https://github.com/scikit-learn/scikit-learn/issues/21755 */display: inline-block !important;position: relative;}#sk-container-id-3 div.sk-text-repr-fallback {display: none;}</style><div id=\"sk-container-id-3\" class=\"sk-top-container\"><div class=\"sk-text-repr-fallback\"><pre>SVC()</pre><b>In a Jupyter environment, please rerun this cell to show the HTML representation or trust the notebook. <br />On GitHub, the HTML representation is unable to render, please try loading this page with nbviewer.org.</b></div><div class=\"sk-container\" hidden><div class=\"sk-item\"><div class=\"sk-estimator sk-toggleable\"><input class=\"sk-toggleable__control sk-hidden--visually\" id=\"sk-estimator-id-3\" type=\"checkbox\" checked><label for=\"sk-estimator-id-3\" class=\"sk-toggleable__label sk-toggleable__label-arrow\">SVC</label><div class=\"sk-toggleable__content\"><pre>SVC()</pre></div></div></div></div></div>"
      ],
      "text/plain": [
       "SVC()"
      ]
     },
     "execution_count": 81,
     "metadata": {},
     "output_type": "execute_result"
    }
   ],
   "source": [
    "svm.fit(X_train,y_train)"
   ]
  },
  {
   "cell_type": "code",
   "execution_count": 82,
   "id": "057abf82",
   "metadata": {
    "execution": {
     "iopub.execute_input": "2024-02-15T05:51:02.644046Z",
     "iopub.status.busy": "2024-02-15T05:51:02.643613Z",
     "iopub.status.idle": "2024-02-15T05:51:16.572908Z",
     "shell.execute_reply": "2024-02-15T05:51:16.571892Z"
    },
    "papermill": {
     "duration": 13.974579,
     "end_time": "2024-02-15T05:51:16.575609",
     "exception": false,
     "start_time": "2024-02-15T05:51:02.601030",
     "status": "completed"
    },
    "tags": []
   },
   "outputs": [],
   "source": [
    "predicted = svm.predict(X_test)"
   ]
  },
  {
   "cell_type": "code",
   "execution_count": 83,
   "id": "fc66960f",
   "metadata": {
    "execution": {
     "iopub.execute_input": "2024-02-15T05:51:16.661247Z",
     "iopub.status.busy": "2024-02-15T05:51:16.660911Z",
     "iopub.status.idle": "2024-02-15T05:51:16.685635Z",
     "shell.execute_reply": "2024-02-15T05:51:16.684684Z"
    },
    "papermill": {
     "duration": 0.070125,
     "end_time": "2024-02-15T05:51:16.688159",
     "exception": false,
     "start_time": "2024-02-15T05:51:16.618034",
     "status": "completed"
    },
    "tags": []
   },
   "outputs": [
    {
     "name": "stdout",
     "output_type": "stream",
     "text": [
      "              precision    recall  f1-score   support\n",
      "\n",
      "           0       0.83      0.69      0.76      1937\n",
      "           1       0.82      0.79      0.80      2434\n",
      "           2       0.73      0.81      0.77      3668\n",
      "\n",
      "    accuracy                           0.78      8039\n",
      "   macro avg       0.79      0.76      0.78      8039\n",
      "weighted avg       0.78      0.78      0.78      8039\n",
      "\n"
     ]
    }
   ],
   "source": [
    "print(mt.classification_report(y_test, predicted))"
   ]
  },
  {
   "cell_type": "code",
   "execution_count": 84,
   "id": "e13454a7",
   "metadata": {
    "execution": {
     "iopub.execute_input": "2024-02-15T05:51:16.775092Z",
     "iopub.status.busy": "2024-02-15T05:51:16.773970Z",
     "iopub.status.idle": "2024-02-15T05:51:16.778292Z",
     "shell.execute_reply": "2024-02-15T05:51:16.777507Z"
    },
    "papermill": {
     "duration": 0.050599,
     "end_time": "2024-02-15T05:51:16.780562",
     "exception": false,
     "start_time": "2024-02-15T05:51:16.729963",
     "status": "completed"
    },
    "tags": []
   },
   "outputs": [],
   "source": [
    "## XGboost"
   ]
  },
  {
   "cell_type": "code",
   "execution_count": 85,
   "id": "4f1719c1",
   "metadata": {
    "execution": {
     "iopub.execute_input": "2024-02-15T05:51:16.867218Z",
     "iopub.status.busy": "2024-02-15T05:51:16.866189Z",
     "iopub.status.idle": "2024-02-15T05:51:18.439970Z",
     "shell.execute_reply": "2024-02-15T05:51:18.439146Z"
    },
    "papermill": {
     "duration": 1.618948,
     "end_time": "2024-02-15T05:51:18.441941",
     "exception": false,
     "start_time": "2024-02-15T05:51:16.822993",
     "status": "completed"
    },
    "tags": []
   },
   "outputs": [
    {
     "data": {
      "text/html": [
       "<style>#sk-container-id-4 {color: black;background-color: white;}#sk-container-id-4 pre{padding: 0;}#sk-container-id-4 div.sk-toggleable {background-color: white;}#sk-container-id-4 label.sk-toggleable__label {cursor: pointer;display: block;width: 100%;margin-bottom: 0;padding: 0.3em;box-sizing: border-box;text-align: center;}#sk-container-id-4 label.sk-toggleable__label-arrow:before {content: \"▸\";float: left;margin-right: 0.25em;color: #696969;}#sk-container-id-4 label.sk-toggleable__label-arrow:hover:before {color: black;}#sk-container-id-4 div.sk-estimator:hover label.sk-toggleable__label-arrow:before {color: black;}#sk-container-id-4 div.sk-toggleable__content {max-height: 0;max-width: 0;overflow: hidden;text-align: left;background-color: #f0f8ff;}#sk-container-id-4 div.sk-toggleable__content pre {margin: 0.2em;color: black;border-radius: 0.25em;background-color: #f0f8ff;}#sk-container-id-4 input.sk-toggleable__control:checked~div.sk-toggleable__content {max-height: 200px;max-width: 100%;overflow: auto;}#sk-container-id-4 input.sk-toggleable__control:checked~label.sk-toggleable__label-arrow:before {content: \"▾\";}#sk-container-id-4 div.sk-estimator input.sk-toggleable__control:checked~label.sk-toggleable__label {background-color: #d4ebff;}#sk-container-id-4 div.sk-label input.sk-toggleable__control:checked~label.sk-toggleable__label {background-color: #d4ebff;}#sk-container-id-4 input.sk-hidden--visually {border: 0;clip: rect(1px 1px 1px 1px);clip: rect(1px, 1px, 1px, 1px);height: 1px;margin: -1px;overflow: hidden;padding: 0;position: absolute;width: 1px;}#sk-container-id-4 div.sk-estimator {font-family: monospace;background-color: #f0f8ff;border: 1px dotted black;border-radius: 0.25em;box-sizing: border-box;margin-bottom: 0.5em;}#sk-container-id-4 div.sk-estimator:hover {background-color: #d4ebff;}#sk-container-id-4 div.sk-parallel-item::after {content: \"\";width: 100%;border-bottom: 1px solid gray;flex-grow: 1;}#sk-container-id-4 div.sk-label:hover label.sk-toggleable__label {background-color: #d4ebff;}#sk-container-id-4 div.sk-serial::before {content: \"\";position: absolute;border-left: 1px solid gray;box-sizing: border-box;top: 0;bottom: 0;left: 50%;z-index: 0;}#sk-container-id-4 div.sk-serial {display: flex;flex-direction: column;align-items: center;background-color: white;padding-right: 0.2em;padding-left: 0.2em;position: relative;}#sk-container-id-4 div.sk-item {position: relative;z-index: 1;}#sk-container-id-4 div.sk-parallel {display: flex;align-items: stretch;justify-content: center;background-color: white;position: relative;}#sk-container-id-4 div.sk-item::before, #sk-container-id-4 div.sk-parallel-item::before {content: \"\";position: absolute;border-left: 1px solid gray;box-sizing: border-box;top: 0;bottom: 0;left: 50%;z-index: -1;}#sk-container-id-4 div.sk-parallel-item {display: flex;flex-direction: column;z-index: 1;position: relative;background-color: white;}#sk-container-id-4 div.sk-parallel-item:first-child::after {align-self: flex-end;width: 50%;}#sk-container-id-4 div.sk-parallel-item:last-child::after {align-self: flex-start;width: 50%;}#sk-container-id-4 div.sk-parallel-item:only-child::after {width: 0;}#sk-container-id-4 div.sk-dashed-wrapped {border: 1px dashed gray;margin: 0 0.4em 0.5em 0.4em;box-sizing: border-box;padding-bottom: 0.4em;background-color: white;}#sk-container-id-4 div.sk-label label {font-family: monospace;font-weight: bold;display: inline-block;line-height: 1.2em;}#sk-container-id-4 div.sk-label-container {text-align: center;}#sk-container-id-4 div.sk-container {/* jupyter's `normalize.less` sets `[hidden] { display: none; }` but bootstrap.min.css set `[hidden] { display: none !important; }` so we also need the `!important` here to be able to override the default hidden behavior on the sphinx rendered scikit-learn.org. See: https://github.com/scikit-learn/scikit-learn/issues/21755 */display: inline-block !important;position: relative;}#sk-container-id-4 div.sk-text-repr-fallback {display: none;}</style><div id=\"sk-container-id-4\" class=\"sk-top-container\"><div class=\"sk-text-repr-fallback\"><pre>XGBClassifier(base_score=None, booster=None, callbacks=None,\n",
       "              colsample_bylevel=None, colsample_bynode=None,\n",
       "              colsample_bytree=None, device=None, early_stopping_rounds=None,\n",
       "              enable_categorical=False, eval_metric=None, feature_types=None,\n",
       "              gamma=None, grow_policy=None, importance_type=None,\n",
       "              interaction_constraints=None, learning_rate=None, max_bin=None,\n",
       "              max_cat_threshold=None, max_cat_to_onehot=None,\n",
       "              max_delta_step=None, max_depth=None, max_leaves=None,\n",
       "              min_child_weight=None, missing=nan, monotone_constraints=None,\n",
       "              multi_strategy=None, n_estimators=None, n_jobs=None,\n",
       "              num_parallel_tree=None, objective=&#x27;multi:softprob&#x27;, ...)</pre><b>In a Jupyter environment, please rerun this cell to show the HTML representation or trust the notebook. <br />On GitHub, the HTML representation is unable to render, please try loading this page with nbviewer.org.</b></div><div class=\"sk-container\" hidden><div class=\"sk-item\"><div class=\"sk-estimator sk-toggleable\"><input class=\"sk-toggleable__control sk-hidden--visually\" id=\"sk-estimator-id-4\" type=\"checkbox\" checked><label for=\"sk-estimator-id-4\" class=\"sk-toggleable__label sk-toggleable__label-arrow\">XGBClassifier</label><div class=\"sk-toggleable__content\"><pre>XGBClassifier(base_score=None, booster=None, callbacks=None,\n",
       "              colsample_bylevel=None, colsample_bynode=None,\n",
       "              colsample_bytree=None, device=None, early_stopping_rounds=None,\n",
       "              enable_categorical=False, eval_metric=None, feature_types=None,\n",
       "              gamma=None, grow_policy=None, importance_type=None,\n",
       "              interaction_constraints=None, learning_rate=None, max_bin=None,\n",
       "              max_cat_threshold=None, max_cat_to_onehot=None,\n",
       "              max_delta_step=None, max_depth=None, max_leaves=None,\n",
       "              min_child_weight=None, missing=nan, monotone_constraints=None,\n",
       "              multi_strategy=None, n_estimators=None, n_jobs=None,\n",
       "              num_parallel_tree=None, objective=&#x27;multi:softprob&#x27;, ...)</pre></div></div></div></div></div>"
      ],
      "text/plain": [
       "XGBClassifier(base_score=None, booster=None, callbacks=None,\n",
       "              colsample_bylevel=None, colsample_bynode=None,\n",
       "              colsample_bytree=None, device=None, early_stopping_rounds=None,\n",
       "              enable_categorical=False, eval_metric=None, feature_types=None,\n",
       "              gamma=None, grow_policy=None, importance_type=None,\n",
       "              interaction_constraints=None, learning_rate=None, max_bin=None,\n",
       "              max_cat_threshold=None, max_cat_to_onehot=None,\n",
       "              max_delta_step=None, max_depth=None, max_leaves=None,\n",
       "              min_child_weight=None, missing=nan, monotone_constraints=None,\n",
       "              multi_strategy=None, n_estimators=None, n_jobs=None,\n",
       "              num_parallel_tree=None, objective='multi:softprob', ...)"
      ]
     },
     "execution_count": 85,
     "metadata": {},
     "output_type": "execute_result"
    }
   ],
   "source": [
    "xg.fit(X_train,y_train)"
   ]
  },
  {
   "cell_type": "code",
   "execution_count": 86,
   "id": "d5313972",
   "metadata": {
    "execution": {
     "iopub.execute_input": "2024-02-15T05:51:18.527337Z",
     "iopub.status.busy": "2024-02-15T05:51:18.526452Z",
     "iopub.status.idle": "2024-02-15T05:51:18.560599Z",
     "shell.execute_reply": "2024-02-15T05:51:18.559618Z"
    },
    "papermill": {
     "duration": 0.079674,
     "end_time": "2024-02-15T05:51:18.563539",
     "exception": false,
     "start_time": "2024-02-15T05:51:18.483865",
     "status": "completed"
    },
    "tags": []
   },
   "outputs": [],
   "source": [
    "predicted = xg.predict(X_test)"
   ]
  },
  {
   "cell_type": "code",
   "execution_count": 87,
   "id": "5e1a8ef0",
   "metadata": {
    "execution": {
     "iopub.execute_input": "2024-02-15T05:51:18.647591Z",
     "iopub.status.busy": "2024-02-15T05:51:18.647192Z",
     "iopub.status.idle": "2024-02-15T05:51:18.672489Z",
     "shell.execute_reply": "2024-02-15T05:51:18.671379Z"
    },
    "papermill": {
     "duration": 0.070044,
     "end_time": "2024-02-15T05:51:18.674654",
     "exception": false,
     "start_time": "2024-02-15T05:51:18.604610",
     "status": "completed"
    },
    "tags": []
   },
   "outputs": [
    {
     "name": "stdout",
     "output_type": "stream",
     "text": [
      "              precision    recall  f1-score   support\n",
      "\n",
      "           0       0.98      0.98      0.98      1937\n",
      "           1       0.97      0.97      0.97      2434\n",
      "           2       0.97      0.97      0.97      3668\n",
      "\n",
      "    accuracy                           0.97      8039\n",
      "   macro avg       0.97      0.97      0.97      8039\n",
      "weighted avg       0.97      0.97      0.97      8039\n",
      "\n"
     ]
    }
   ],
   "source": [
    "print(mt.classification_report(y_test, predicted))"
   ]
  },
  {
   "cell_type": "code",
   "execution_count": 88,
   "id": "2126ac13",
   "metadata": {
    "execution": {
     "iopub.execute_input": "2024-02-15T05:51:18.758517Z",
     "iopub.status.busy": "2024-02-15T05:51:18.757922Z",
     "iopub.status.idle": "2024-02-15T05:51:18.762193Z",
     "shell.execute_reply": "2024-02-15T05:51:18.761388Z"
    },
    "papermill": {
     "duration": 0.048546,
     "end_time": "2024-02-15T05:51:18.764191",
     "exception": false,
     "start_time": "2024-02-15T05:51:18.715645",
     "status": "completed"
    },
    "tags": []
   },
   "outputs": [],
   "source": [
    "## Random forest and XG boost performed the best"
   ]
  },
  {
   "cell_type": "markdown",
   "id": "931eaafe",
   "metadata": {
    "papermill": {
     "duration": 0.040935,
     "end_time": "2024-02-15T05:51:18.845995",
     "exception": false,
     "start_time": "2024-02-15T05:51:18.805060",
     "status": "completed"
    },
    "tags": []
   },
   "source": [
    "# Data Finalization"
   ]
  },
  {
   "cell_type": "code",
   "execution_count": 89,
   "id": "582ec127",
   "metadata": {
    "execution": {
     "iopub.execute_input": "2024-02-15T05:51:18.931979Z",
     "iopub.status.busy": "2024-02-15T05:51:18.931362Z",
     "iopub.status.idle": "2024-02-15T05:51:18.973633Z",
     "shell.execute_reply": "2024-02-15T05:51:18.972713Z"
    },
    "papermill": {
     "duration": 0.087732,
     "end_time": "2024-02-15T05:51:18.976046",
     "exception": false,
     "start_time": "2024-02-15T05:51:18.888314",
     "status": "completed"
    },
    "tags": []
   },
   "outputs": [],
   "source": [
    "for col_name in df_test.columns:\n",
    "    if df_test[col_name].dtypes == \"float64\":\n",
    "        df_test[col_name] = scaler.fit_transform(df_test[[col_name]])"
   ]
  },
  {
   "cell_type": "code",
   "execution_count": 90,
   "id": "4b9c5ff7",
   "metadata": {
    "execution": {
     "iopub.execute_input": "2024-02-15T05:51:19.062777Z",
     "iopub.status.busy": "2024-02-15T05:51:19.062114Z",
     "iopub.status.idle": "2024-02-15T05:51:19.225731Z",
     "shell.execute_reply": "2024-02-15T05:51:19.224521Z"
    },
    "papermill": {
     "duration": 0.209942,
     "end_time": "2024-02-15T05:51:19.228395",
     "exception": false,
     "start_time": "2024-02-15T05:51:19.018453",
     "status": "completed"
    },
    "tags": []
   },
   "outputs": [],
   "source": [
    "predicted_credit_mix = rf.predict(df_test.drop(\"Credit_Mix\",axis=1))"
   ]
  },
  {
   "cell_type": "code",
   "execution_count": 91,
   "id": "35622a48",
   "metadata": {
    "execution": {
     "iopub.execute_input": "2024-02-15T05:51:19.315089Z",
     "iopub.status.busy": "2024-02-15T05:51:19.314703Z",
     "iopub.status.idle": "2024-02-15T05:51:19.321244Z",
     "shell.execute_reply": "2024-02-15T05:51:19.320184Z"
    },
    "papermill": {
     "duration": 0.052528,
     "end_time": "2024-02-15T05:51:19.323158",
     "exception": false,
     "start_time": "2024-02-15T05:51:19.270630",
     "status": "completed"
    },
    "tags": []
   },
   "outputs": [
    {
     "data": {
      "text/plain": [
       "array([1, 1, 1, ..., 1, 0, 1])"
      ]
     },
     "execution_count": 91,
     "metadata": {},
     "output_type": "execute_result"
    }
   ],
   "source": [
    "predicted_credit_mix"
   ]
  },
  {
   "cell_type": "code",
   "execution_count": 92,
   "id": "2e9aec1d",
   "metadata": {
    "execution": {
     "iopub.execute_input": "2024-02-15T05:51:19.408053Z",
     "iopub.status.busy": "2024-02-15T05:51:19.407661Z",
     "iopub.status.idle": "2024-02-15T05:51:19.414812Z",
     "shell.execute_reply": "2024-02-15T05:51:19.413769Z"
    },
    "papermill": {
     "duration": 0.052078,
     "end_time": "2024-02-15T05:51:19.416868",
     "exception": false,
     "start_time": "2024-02-15T05:51:19.364790",
     "status": "completed"
    },
    "tags": []
   },
   "outputs": [],
   "source": [
    "df_test.drop(\"Credit_Mix\",axis=1,inplace=True)"
   ]
  },
  {
   "cell_type": "code",
   "execution_count": 93,
   "id": "a0c3de83",
   "metadata": {
    "execution": {
     "iopub.execute_input": "2024-02-15T05:51:19.503940Z",
     "iopub.status.busy": "2024-02-15T05:51:19.503069Z",
     "iopub.status.idle": "2024-02-15T05:51:19.508245Z",
     "shell.execute_reply": "2024-02-15T05:51:19.507495Z"
    },
    "papermill": {
     "duration": 0.052703,
     "end_time": "2024-02-15T05:51:19.510615",
     "exception": false,
     "start_time": "2024-02-15T05:51:19.457912",
     "status": "completed"
    },
    "tags": []
   },
   "outputs": [],
   "source": [
    "df_test['Credit_Mix'] = predicted_credit_mix"
   ]
  },
  {
   "cell_type": "code",
   "execution_count": 94,
   "id": "d083930a",
   "metadata": {
    "execution": {
     "iopub.execute_input": "2024-02-15T05:51:19.615088Z",
     "iopub.status.busy": "2024-02-15T05:51:19.614226Z",
     "iopub.status.idle": "2024-02-15T05:51:19.636329Z",
     "shell.execute_reply": "2024-02-15T05:51:19.635102Z"
    },
    "papermill": {
     "duration": 0.083074,
     "end_time": "2024-02-15T05:51:19.638810",
     "exception": false,
     "start_time": "2024-02-15T05:51:19.555736",
     "status": "completed"
    },
    "tags": []
   },
   "outputs": [
    {
     "data": {
      "text/html": [
       "<div>\n",
       "<style scoped>\n",
       "    .dataframe tbody tr th:only-of-type {\n",
       "        vertical-align: middle;\n",
       "    }\n",
       "\n",
       "    .dataframe tbody tr th {\n",
       "        vertical-align: top;\n",
       "    }\n",
       "\n",
       "    .dataframe thead th {\n",
       "        text-align: right;\n",
       "    }\n",
       "</style>\n",
       "<table border=\"1\" class=\"dataframe\">\n",
       "  <thead>\n",
       "    <tr style=\"text-align: right;\">\n",
       "      <th></th>\n",
       "      <th>Annual_Income</th>\n",
       "      <th>Monthly_Inhand_Salary</th>\n",
       "      <th>Num_Bank_Accounts</th>\n",
       "      <th>Num_Credit_Card</th>\n",
       "      <th>Interest_Rate</th>\n",
       "      <th>Num_of_Loan</th>\n",
       "      <th>Delay_from_due_date</th>\n",
       "      <th>Num_of_Delayed_Payment</th>\n",
       "      <th>Changed_Credit_Limit</th>\n",
       "      <th>Num_Credit_Inquiries</th>\n",
       "      <th>...</th>\n",
       "      <th>Auto Loan</th>\n",
       "      <th>Credit-Builder Loan</th>\n",
       "      <th>Debt Consolidation Loan</th>\n",
       "      <th>Home Equity Loan</th>\n",
       "      <th>Mortgage Loan</th>\n",
       "      <th>Not Specified</th>\n",
       "      <th>Payday Loan</th>\n",
       "      <th>Personal Loan</th>\n",
       "      <th>Student Loan</th>\n",
       "      <th>Credit_Mix</th>\n",
       "    </tr>\n",
       "  </thead>\n",
       "  <tbody>\n",
       "    <tr>\n",
       "      <th>49983</th>\n",
       "      <td>-0.088032</td>\n",
       "      <td>0.000506</td>\n",
       "      <td>0</td>\n",
       "      <td>4</td>\n",
       "      <td>6</td>\n",
       "      <td>1</td>\n",
       "      <td>14</td>\n",
       "      <td>-0.149015</td>\n",
       "      <td>-0.788441</td>\n",
       "      <td>-0.007858</td>\n",
       "      <td>...</td>\n",
       "      <td>0</td>\n",
       "      <td>0</td>\n",
       "      <td>0</td>\n",
       "      <td>0</td>\n",
       "      <td>0</td>\n",
       "      <td>1</td>\n",
       "      <td>0</td>\n",
       "      <td>0</td>\n",
       "      <td>0</td>\n",
       "      <td>1</td>\n",
       "    </tr>\n",
       "    <tr>\n",
       "      <th>49987</th>\n",
       "      <td>-0.108243</td>\n",
       "      <td>0.000506</td>\n",
       "      <td>1</td>\n",
       "      <td>1</td>\n",
       "      <td>5</td>\n",
       "      <td>4</td>\n",
       "      <td>1</td>\n",
       "      <td>-0.149015</td>\n",
       "      <td>-0.997814</td>\n",
       "      <td>-0.116048</td>\n",
       "      <td>...</td>\n",
       "      <td>0</td>\n",
       "      <td>0</td>\n",
       "      <td>0</td>\n",
       "      <td>0</td>\n",
       "      <td>1</td>\n",
       "      <td>1</td>\n",
       "      <td>1</td>\n",
       "      <td>0</td>\n",
       "      <td>1</td>\n",
       "      <td>1</td>\n",
       "    </tr>\n",
       "    <tr>\n",
       "      <th>49991</th>\n",
       "      <td>-0.092437</td>\n",
       "      <td>-0.365054</td>\n",
       "      <td>1</td>\n",
       "      <td>4</td>\n",
       "      <td>5</td>\n",
       "      <td>3</td>\n",
       "      <td>3</td>\n",
       "      <td>-0.086353</td>\n",
       "      <td>-0.746863</td>\n",
       "      <td>-0.140547</td>\n",
       "      <td>...</td>\n",
       "      <td>0</td>\n",
       "      <td>0</td>\n",
       "      <td>0</td>\n",
       "      <td>1</td>\n",
       "      <td>1</td>\n",
       "      <td>0</td>\n",
       "      <td>0</td>\n",
       "      <td>0</td>\n",
       "      <td>1</td>\n",
       "      <td>1</td>\n",
       "    </tr>\n",
       "    <tr>\n",
       "      <th>49995</th>\n",
       "      <td>-0.105682</td>\n",
       "      <td>-0.758278</td>\n",
       "      <td>10</td>\n",
       "      <td>8</td>\n",
       "      <td>29</td>\n",
       "      <td>5</td>\n",
       "      <td>33</td>\n",
       "      <td>-0.018470</td>\n",
       "      <td>1.173130</td>\n",
       "      <td>-0.096449</td>\n",
       "      <td>...</td>\n",
       "      <td>1</td>\n",
       "      <td>0</td>\n",
       "      <td>0</td>\n",
       "      <td>0</td>\n",
       "      <td>1</td>\n",
       "      <td>0</td>\n",
       "      <td>0</td>\n",
       "      <td>1</td>\n",
       "      <td>1</td>\n",
       "      <td>0</td>\n",
       "    </tr>\n",
       "    <tr>\n",
       "      <th>49999</th>\n",
       "      <td>-0.090556</td>\n",
       "      <td>-0.276643</td>\n",
       "      <td>4</td>\n",
       "      <td>6</td>\n",
       "      <td>7</td>\n",
       "      <td>2</td>\n",
       "      <td>22</td>\n",
       "      <td>-0.122906</td>\n",
       "      <td>0.161904</td>\n",
       "      <td>-0.120948</td>\n",
       "      <td>...</td>\n",
       "      <td>1</td>\n",
       "      <td>0</td>\n",
       "      <td>0</td>\n",
       "      <td>0</td>\n",
       "      <td>0</td>\n",
       "      <td>0</td>\n",
       "      <td>0</td>\n",
       "      <td>0</td>\n",
       "      <td>1</td>\n",
       "      <td>1</td>\n",
       "    </tr>\n",
       "  </tbody>\n",
       "</table>\n",
       "<p>5 rows × 28 columns</p>\n",
       "</div>"
      ],
      "text/plain": [
       "       Annual_Income  Monthly_Inhand_Salary  Num_Bank_Accounts  \\\n",
       "49983      -0.088032               0.000506                  0   \n",
       "49987      -0.108243               0.000506                  1   \n",
       "49991      -0.092437              -0.365054                  1   \n",
       "49995      -0.105682              -0.758278                 10   \n",
       "49999      -0.090556              -0.276643                  4   \n",
       "\n",
       "       Num_Credit_Card  Interest_Rate  Num_of_Loan  Delay_from_due_date  \\\n",
       "49983                4              6            1                   14   \n",
       "49987                1              5            4                    1   \n",
       "49991                4              5            3                    3   \n",
       "49995                8             29            5                   33   \n",
       "49999                6              7            2                   22   \n",
       "\n",
       "       Num_of_Delayed_Payment  Changed_Credit_Limit  Num_Credit_Inquiries  \\\n",
       "49983               -0.149015             -0.788441             -0.007858   \n",
       "49987               -0.149015             -0.997814             -0.116048   \n",
       "49991               -0.086353             -0.746863             -0.140547   \n",
       "49995               -0.018470              1.173130             -0.096449   \n",
       "49999               -0.122906              0.161904             -0.120948   \n",
       "\n",
       "       ...  Auto Loan  Credit-Builder Loan  Debt Consolidation Loan  \\\n",
       "49983  ...          0                    0                        0   \n",
       "49987  ...          0                    0                        0   \n",
       "49991  ...          0                    0                        0   \n",
       "49995  ...          1                    0                        0   \n",
       "49999  ...          1                    0                        0   \n",
       "\n",
       "       Home Equity Loan  Mortgage Loan  Not Specified  Payday Loan  \\\n",
       "49983                 0              0              1            0   \n",
       "49987                 0              1              1            1   \n",
       "49991                 1              1              0            0   \n",
       "49995                 0              1              0            0   \n",
       "49999                 0              0              0            0   \n",
       "\n",
       "       Personal Loan  Student Loan  Credit_Mix  \n",
       "49983              0             0           1  \n",
       "49987              0             1           1  \n",
       "49991              0             1           1  \n",
       "49995              1             1           0  \n",
       "49999              0             1           1  \n",
       "\n",
       "[5 rows x 28 columns]"
      ]
     },
     "execution_count": 94,
     "metadata": {},
     "output_type": "execute_result"
    }
   ],
   "source": [
    "df_test.tail(5)"
   ]
  },
  {
   "cell_type": "code",
   "execution_count": 95,
   "id": "74092d72",
   "metadata": {
    "execution": {
     "iopub.execute_input": "2024-02-15T05:51:19.725889Z",
     "iopub.status.busy": "2024-02-15T05:51:19.725529Z",
     "iopub.status.idle": "2024-02-15T05:51:19.735505Z",
     "shell.execute_reply": "2024-02-15T05:51:19.734270Z"
    },
    "papermill": {
     "duration": 0.05659,
     "end_time": "2024-02-15T05:51:19.737940",
     "exception": false,
     "start_time": "2024-02-15T05:51:19.681350",
     "status": "completed"
    },
    "tags": []
   },
   "outputs": [],
   "source": [
    "df2 = pd.concat([df, df_test])"
   ]
  },
  {
   "cell_type": "code",
   "execution_count": 96,
   "id": "ebed71a0",
   "metadata": {
    "execution": {
     "iopub.execute_input": "2024-02-15T05:51:19.824192Z",
     "iopub.status.busy": "2024-02-15T05:51:19.823839Z",
     "iopub.status.idle": "2024-02-15T05:51:19.844541Z",
     "shell.execute_reply": "2024-02-15T05:51:19.843483Z"
    },
    "papermill": {
     "duration": 0.066979,
     "end_time": "2024-02-15T05:51:19.846738",
     "exception": false,
     "start_time": "2024-02-15T05:51:19.779759",
     "status": "completed"
    },
    "tags": []
   },
   "outputs": [
    {
     "data": {
      "text/html": [
       "<div>\n",
       "<style scoped>\n",
       "    .dataframe tbody tr th:only-of-type {\n",
       "        vertical-align: middle;\n",
       "    }\n",
       "\n",
       "    .dataframe tbody tr th {\n",
       "        vertical-align: top;\n",
       "    }\n",
       "\n",
       "    .dataframe thead th {\n",
       "        text-align: right;\n",
       "    }\n",
       "</style>\n",
       "<table border=\"1\" class=\"dataframe\">\n",
       "  <thead>\n",
       "    <tr style=\"text-align: right;\">\n",
       "      <th></th>\n",
       "      <th>Annual_Income</th>\n",
       "      <th>Monthly_Inhand_Salary</th>\n",
       "      <th>Num_Bank_Accounts</th>\n",
       "      <th>Num_Credit_Card</th>\n",
       "      <th>Interest_Rate</th>\n",
       "      <th>Num_of_Loan</th>\n",
       "      <th>Delay_from_due_date</th>\n",
       "      <th>Num_of_Delayed_Payment</th>\n",
       "      <th>Changed_Credit_Limit</th>\n",
       "      <th>Num_Credit_Inquiries</th>\n",
       "      <th>...</th>\n",
       "      <th>Monthly_Balance</th>\n",
       "      <th>Auto Loan</th>\n",
       "      <th>Credit-Builder Loan</th>\n",
       "      <th>Debt Consolidation Loan</th>\n",
       "      <th>Home Equity Loan</th>\n",
       "      <th>Mortgage Loan</th>\n",
       "      <th>Not Specified</th>\n",
       "      <th>Payday Loan</th>\n",
       "      <th>Personal Loan</th>\n",
       "      <th>Student Loan</th>\n",
       "    </tr>\n",
       "  </thead>\n",
       "  <tbody>\n",
       "    <tr>\n",
       "      <th>0</th>\n",
       "      <td>-0.109508</td>\n",
       "      <td>-0.808431</td>\n",
       "      <td>3</td>\n",
       "      <td>4</td>\n",
       "      <td>3</td>\n",
       "      <td>4</td>\n",
       "      <td>3</td>\n",
       "      <td>-0.111870</td>\n",
       "      <td>0.134834</td>\n",
       "      <td>10.342615</td>\n",
       "      <td>...</td>\n",
       "      <td>0.010115</td>\n",
       "      <td>1</td>\n",
       "      <td>1</td>\n",
       "      <td>0</td>\n",
       "      <td>1</td>\n",
       "      <td>0</td>\n",
       "      <td>0</td>\n",
       "      <td>0</td>\n",
       "      <td>1</td>\n",
       "      <td>0</td>\n",
       "    </tr>\n",
       "    <tr>\n",
       "      <th>1</th>\n",
       "      <td>-0.109508</td>\n",
       "      <td>-0.808431</td>\n",
       "      <td>3</td>\n",
       "      <td>4</td>\n",
       "      <td>3</td>\n",
       "      <td>4</td>\n",
       "      <td>3</td>\n",
       "      <td>-0.102724</td>\n",
       "      <td>0.433253</td>\n",
       "      <td>-0.133358</td>\n",
       "      <td>...</td>\n",
       "      <td>0.010115</td>\n",
       "      <td>1</td>\n",
       "      <td>1</td>\n",
       "      <td>0</td>\n",
       "      <td>1</td>\n",
       "      <td>0</td>\n",
       "      <td>0</td>\n",
       "      <td>0</td>\n",
       "      <td>1</td>\n",
       "      <td>0</td>\n",
       "    </tr>\n",
       "    <tr>\n",
       "      <th>2</th>\n",
       "      <td>-0.109508</td>\n",
       "      <td>-0.808431</td>\n",
       "      <td>3</td>\n",
       "      <td>4</td>\n",
       "      <td>3</td>\n",
       "      <td>4</td>\n",
       "      <td>-1</td>\n",
       "      <td>-0.125589</td>\n",
       "      <td>0.284043</td>\n",
       "      <td>-0.133358</td>\n",
       "      <td>...</td>\n",
       "      <td>0.010115</td>\n",
       "      <td>1</td>\n",
       "      <td>1</td>\n",
       "      <td>0</td>\n",
       "      <td>1</td>\n",
       "      <td>0</td>\n",
       "      <td>0</td>\n",
       "      <td>0</td>\n",
       "      <td>1</td>\n",
       "      <td>0</td>\n",
       "    </tr>\n",
       "    <tr>\n",
       "      <th>3</th>\n",
       "      <td>-0.109508</td>\n",
       "      <td>-0.000126</td>\n",
       "      <td>3</td>\n",
       "      <td>4</td>\n",
       "      <td>3</td>\n",
       "      <td>4</td>\n",
       "      <td>4</td>\n",
       "      <td>-0.121016</td>\n",
       "      <td>0.134834</td>\n",
       "      <td>-0.133358</td>\n",
       "      <td>...</td>\n",
       "      <td>0.010115</td>\n",
       "      <td>1</td>\n",
       "      <td>1</td>\n",
       "      <td>0</td>\n",
       "      <td>1</td>\n",
       "      <td>0</td>\n",
       "      <td>0</td>\n",
       "      <td>0</td>\n",
       "      <td>1</td>\n",
       "      <td>0</td>\n",
       "    </tr>\n",
       "    <tr>\n",
       "      <th>4</th>\n",
       "      <td>-0.097980</td>\n",
       "      <td>-0.392426</td>\n",
       "      <td>2</td>\n",
       "      <td>4</td>\n",
       "      <td>6</td>\n",
       "      <td>1</td>\n",
       "      <td>3</td>\n",
       "      <td>-0.139308</td>\n",
       "      <td>-0.738043</td>\n",
       "      <td>-0.128167</td>\n",
       "      <td>...</td>\n",
       "      <td>0.010115</td>\n",
       "      <td>0</td>\n",
       "      <td>1</td>\n",
       "      <td>0</td>\n",
       "      <td>0</td>\n",
       "      <td>0</td>\n",
       "      <td>0</td>\n",
       "      <td>0</td>\n",
       "      <td>0</td>\n",
       "      <td>0</td>\n",
       "    </tr>\n",
       "  </tbody>\n",
       "</table>\n",
       "<p>5 rows × 28 columns</p>\n",
       "</div>"
      ],
      "text/plain": [
       "   Annual_Income  Monthly_Inhand_Salary  Num_Bank_Accounts  Num_Credit_Card  \\\n",
       "0      -0.109508              -0.808431                  3                4   \n",
       "1      -0.109508              -0.808431                  3                4   \n",
       "2      -0.109508              -0.808431                  3                4   \n",
       "3      -0.109508              -0.000126                  3                4   \n",
       "4      -0.097980              -0.392426                  2                4   \n",
       "\n",
       "   Interest_Rate  Num_of_Loan  Delay_from_due_date  Num_of_Delayed_Payment  \\\n",
       "0              3            4                    3               -0.111870   \n",
       "1              3            4                    3               -0.102724   \n",
       "2              3            4                   -1               -0.125589   \n",
       "3              3            4                    4               -0.121016   \n",
       "4              6            1                    3               -0.139308   \n",
       "\n",
       "   Changed_Credit_Limit  Num_Credit_Inquiries  ...  Monthly_Balance  \\\n",
       "0              0.134834             10.342615  ...         0.010115   \n",
       "1              0.433253             -0.133358  ...         0.010115   \n",
       "2              0.284043             -0.133358  ...         0.010115   \n",
       "3              0.134834             -0.133358  ...         0.010115   \n",
       "4             -0.738043             -0.128167  ...         0.010115   \n",
       "\n",
       "   Auto Loan  Credit-Builder Loan  Debt Consolidation Loan  Home Equity Loan  \\\n",
       "0          1                    1                        0                 1   \n",
       "1          1                    1                        0                 1   \n",
       "2          1                    1                        0                 1   \n",
       "3          1                    1                        0                 1   \n",
       "4          0                    1                        0                 0   \n",
       "\n",
       "   Mortgage Loan  Not Specified  Payday Loan  Personal Loan  Student Loan  \n",
       "0              0              0            0              1             0  \n",
       "1              0              0            0              1             0  \n",
       "2              0              0            0              1             0  \n",
       "3              0              0            0              1             0  \n",
       "4              0              0            0              0             0  \n",
       "\n",
       "[5 rows x 28 columns]"
      ]
     },
     "execution_count": 96,
     "metadata": {},
     "output_type": "execute_result"
    }
   ],
   "source": [
    "df2.head(5)"
   ]
  },
  {
   "cell_type": "code",
   "execution_count": 97,
   "id": "e5b875da",
   "metadata": {
    "execution": {
     "iopub.execute_input": "2024-02-15T05:51:19.935373Z",
     "iopub.status.busy": "2024-02-15T05:51:19.934339Z",
     "iopub.status.idle": "2024-02-15T05:51:19.942959Z",
     "shell.execute_reply": "2024-02-15T05:51:19.941843Z"
    },
    "papermill": {
     "duration": 0.05444,
     "end_time": "2024-02-15T05:51:19.945030",
     "exception": false,
     "start_time": "2024-02-15T05:51:19.890590",
     "status": "completed"
    },
    "tags": []
   },
   "outputs": [
    {
     "data": {
      "text/plain": [
       "3"
      ]
     },
     "execution_count": 97,
     "metadata": {},
     "output_type": "execute_result"
    }
   ],
   "source": [
    "df2[\"Credit_Mix\"].nunique()"
   ]
  },
  {
   "cell_type": "markdown",
   "id": "86864af7",
   "metadata": {
    "papermill": {
     "duration": 0.043081,
     "end_time": "2024-02-15T05:51:20.031412",
     "exception": false,
     "start_time": "2024-02-15T05:51:19.988331",
     "status": "completed"
    },
    "tags": []
   },
   "source": [
    "# Model Training(2nd Phase)"
   ]
  },
  {
   "cell_type": "code",
   "execution_count": 98,
   "id": "0a4da790",
   "metadata": {
    "execution": {
     "iopub.execute_input": "2024-02-15T05:51:20.120358Z",
     "iopub.status.busy": "2024-02-15T05:51:20.119620Z",
     "iopub.status.idle": "2024-02-15T05:51:20.160234Z",
     "shell.execute_reply": "2024-02-15T05:51:20.159047Z"
    },
    "papermill": {
     "duration": 0.088427,
     "end_time": "2024-02-15T05:51:20.162699",
     "exception": false,
     "start_time": "2024-02-15T05:51:20.074272",
     "status": "completed"
    },
    "tags": []
   },
   "outputs": [],
   "source": [
    "# Assuming X and y are your feature matrix and target variable\n",
    "X_train, X_test, y_train, y_test = train_test_split(df2.drop(\"Credit_Mix\",axis=1), df2[\"Credit_Mix\"], test_size=0.2, random_state=42)"
   ]
  },
  {
   "cell_type": "code",
   "execution_count": 99,
   "id": "2aaf2bd6",
   "metadata": {
    "execution": {
     "iopub.execute_input": "2024-02-15T05:51:20.248755Z",
     "iopub.status.busy": "2024-02-15T05:51:20.248064Z",
     "iopub.status.idle": "2024-02-15T05:51:21.514898Z",
     "shell.execute_reply": "2024-02-15T05:51:21.513581Z"
    },
    "papermill": {
     "duration": 1.313178,
     "end_time": "2024-02-15T05:51:21.517885",
     "exception": false,
     "start_time": "2024-02-15T05:51:20.204707",
     "status": "completed"
    },
    "tags": []
   },
   "outputs": [
    {
     "data": {
      "text/html": [
       "<style>#sk-container-id-5 {color: black;background-color: white;}#sk-container-id-5 pre{padding: 0;}#sk-container-id-5 div.sk-toggleable {background-color: white;}#sk-container-id-5 label.sk-toggleable__label {cursor: pointer;display: block;width: 100%;margin-bottom: 0;padding: 0.3em;box-sizing: border-box;text-align: center;}#sk-container-id-5 label.sk-toggleable__label-arrow:before {content: \"▸\";float: left;margin-right: 0.25em;color: #696969;}#sk-container-id-5 label.sk-toggleable__label-arrow:hover:before {color: black;}#sk-container-id-5 div.sk-estimator:hover label.sk-toggleable__label-arrow:before {color: black;}#sk-container-id-5 div.sk-toggleable__content {max-height: 0;max-width: 0;overflow: hidden;text-align: left;background-color: #f0f8ff;}#sk-container-id-5 div.sk-toggleable__content pre {margin: 0.2em;color: black;border-radius: 0.25em;background-color: #f0f8ff;}#sk-container-id-5 input.sk-toggleable__control:checked~div.sk-toggleable__content {max-height: 200px;max-width: 100%;overflow: auto;}#sk-container-id-5 input.sk-toggleable__control:checked~label.sk-toggleable__label-arrow:before {content: \"▾\";}#sk-container-id-5 div.sk-estimator input.sk-toggleable__control:checked~label.sk-toggleable__label {background-color: #d4ebff;}#sk-container-id-5 div.sk-label input.sk-toggleable__control:checked~label.sk-toggleable__label {background-color: #d4ebff;}#sk-container-id-5 input.sk-hidden--visually {border: 0;clip: rect(1px 1px 1px 1px);clip: rect(1px, 1px, 1px, 1px);height: 1px;margin: -1px;overflow: hidden;padding: 0;position: absolute;width: 1px;}#sk-container-id-5 div.sk-estimator {font-family: monospace;background-color: #f0f8ff;border: 1px dotted black;border-radius: 0.25em;box-sizing: border-box;margin-bottom: 0.5em;}#sk-container-id-5 div.sk-estimator:hover {background-color: #d4ebff;}#sk-container-id-5 div.sk-parallel-item::after {content: \"\";width: 100%;border-bottom: 1px solid gray;flex-grow: 1;}#sk-container-id-5 div.sk-label:hover label.sk-toggleable__label {background-color: #d4ebff;}#sk-container-id-5 div.sk-serial::before {content: \"\";position: absolute;border-left: 1px solid gray;box-sizing: border-box;top: 0;bottom: 0;left: 50%;z-index: 0;}#sk-container-id-5 div.sk-serial {display: flex;flex-direction: column;align-items: center;background-color: white;padding-right: 0.2em;padding-left: 0.2em;position: relative;}#sk-container-id-5 div.sk-item {position: relative;z-index: 1;}#sk-container-id-5 div.sk-parallel {display: flex;align-items: stretch;justify-content: center;background-color: white;position: relative;}#sk-container-id-5 div.sk-item::before, #sk-container-id-5 div.sk-parallel-item::before {content: \"\";position: absolute;border-left: 1px solid gray;box-sizing: border-box;top: 0;bottom: 0;left: 50%;z-index: -1;}#sk-container-id-5 div.sk-parallel-item {display: flex;flex-direction: column;z-index: 1;position: relative;background-color: white;}#sk-container-id-5 div.sk-parallel-item:first-child::after {align-self: flex-end;width: 50%;}#sk-container-id-5 div.sk-parallel-item:last-child::after {align-self: flex-start;width: 50%;}#sk-container-id-5 div.sk-parallel-item:only-child::after {width: 0;}#sk-container-id-5 div.sk-dashed-wrapped {border: 1px dashed gray;margin: 0 0.4em 0.5em 0.4em;box-sizing: border-box;padding-bottom: 0.4em;background-color: white;}#sk-container-id-5 div.sk-label label {font-family: monospace;font-weight: bold;display: inline-block;line-height: 1.2em;}#sk-container-id-5 div.sk-label-container {text-align: center;}#sk-container-id-5 div.sk-container {/* jupyter's `normalize.less` sets `[hidden] { display: none; }` but bootstrap.min.css set `[hidden] { display: none !important; }` so we also need the `!important` here to be able to override the default hidden behavior on the sphinx rendered scikit-learn.org. See: https://github.com/scikit-learn/scikit-learn/issues/21755 */display: inline-block !important;position: relative;}#sk-container-id-5 div.sk-text-repr-fallback {display: none;}</style><div id=\"sk-container-id-5\" class=\"sk-top-container\"><div class=\"sk-text-repr-fallback\"><pre>LogisticRegression()</pre><b>In a Jupyter environment, please rerun this cell to show the HTML representation or trust the notebook. <br />On GitHub, the HTML representation is unable to render, please try loading this page with nbviewer.org.</b></div><div class=\"sk-container\" hidden><div class=\"sk-item\"><div class=\"sk-estimator sk-toggleable\"><input class=\"sk-toggleable__control sk-hidden--visually\" id=\"sk-estimator-id-5\" type=\"checkbox\" checked><label for=\"sk-estimator-id-5\" class=\"sk-toggleable__label sk-toggleable__label-arrow\">LogisticRegression</label><div class=\"sk-toggleable__content\"><pre>LogisticRegression()</pre></div></div></div></div></div>"
      ],
      "text/plain": [
       "LogisticRegression()"
      ]
     },
     "execution_count": 99,
     "metadata": {},
     "output_type": "execute_result"
    }
   ],
   "source": [
    "lr.fit(X_train,y_train)"
   ]
  },
  {
   "cell_type": "code",
   "execution_count": 100,
   "id": "ced45f1a",
   "metadata": {
    "execution": {
     "iopub.execute_input": "2024-02-15T05:51:21.653173Z",
     "iopub.status.busy": "2024-02-15T05:51:21.652808Z",
     "iopub.status.idle": "2024-02-15T05:51:31.931504Z",
     "shell.execute_reply": "2024-02-15T05:51:31.930443Z"
    },
    "papermill": {
     "duration": 10.337769,
     "end_time": "2024-02-15T05:51:31.934051",
     "exception": false,
     "start_time": "2024-02-15T05:51:21.596282",
     "status": "completed"
    },
    "tags": []
   },
   "outputs": [
    {
     "data": {
      "text/html": [
       "<style>#sk-container-id-6 {color: black;background-color: white;}#sk-container-id-6 pre{padding: 0;}#sk-container-id-6 div.sk-toggleable {background-color: white;}#sk-container-id-6 label.sk-toggleable__label {cursor: pointer;display: block;width: 100%;margin-bottom: 0;padding: 0.3em;box-sizing: border-box;text-align: center;}#sk-container-id-6 label.sk-toggleable__label-arrow:before {content: \"▸\";float: left;margin-right: 0.25em;color: #696969;}#sk-container-id-6 label.sk-toggleable__label-arrow:hover:before {color: black;}#sk-container-id-6 div.sk-estimator:hover label.sk-toggleable__label-arrow:before {color: black;}#sk-container-id-6 div.sk-toggleable__content {max-height: 0;max-width: 0;overflow: hidden;text-align: left;background-color: #f0f8ff;}#sk-container-id-6 div.sk-toggleable__content pre {margin: 0.2em;color: black;border-radius: 0.25em;background-color: #f0f8ff;}#sk-container-id-6 input.sk-toggleable__control:checked~div.sk-toggleable__content {max-height: 200px;max-width: 100%;overflow: auto;}#sk-container-id-6 input.sk-toggleable__control:checked~label.sk-toggleable__label-arrow:before {content: \"▾\";}#sk-container-id-6 div.sk-estimator input.sk-toggleable__control:checked~label.sk-toggleable__label {background-color: #d4ebff;}#sk-container-id-6 div.sk-label input.sk-toggleable__control:checked~label.sk-toggleable__label {background-color: #d4ebff;}#sk-container-id-6 input.sk-hidden--visually {border: 0;clip: rect(1px 1px 1px 1px);clip: rect(1px, 1px, 1px, 1px);height: 1px;margin: -1px;overflow: hidden;padding: 0;position: absolute;width: 1px;}#sk-container-id-6 div.sk-estimator {font-family: monospace;background-color: #f0f8ff;border: 1px dotted black;border-radius: 0.25em;box-sizing: border-box;margin-bottom: 0.5em;}#sk-container-id-6 div.sk-estimator:hover {background-color: #d4ebff;}#sk-container-id-6 div.sk-parallel-item::after {content: \"\";width: 100%;border-bottom: 1px solid gray;flex-grow: 1;}#sk-container-id-6 div.sk-label:hover label.sk-toggleable__label {background-color: #d4ebff;}#sk-container-id-6 div.sk-serial::before {content: \"\";position: absolute;border-left: 1px solid gray;box-sizing: border-box;top: 0;bottom: 0;left: 50%;z-index: 0;}#sk-container-id-6 div.sk-serial {display: flex;flex-direction: column;align-items: center;background-color: white;padding-right: 0.2em;padding-left: 0.2em;position: relative;}#sk-container-id-6 div.sk-item {position: relative;z-index: 1;}#sk-container-id-6 div.sk-parallel {display: flex;align-items: stretch;justify-content: center;background-color: white;position: relative;}#sk-container-id-6 div.sk-item::before, #sk-container-id-6 div.sk-parallel-item::before {content: \"\";position: absolute;border-left: 1px solid gray;box-sizing: border-box;top: 0;bottom: 0;left: 50%;z-index: -1;}#sk-container-id-6 div.sk-parallel-item {display: flex;flex-direction: column;z-index: 1;position: relative;background-color: white;}#sk-container-id-6 div.sk-parallel-item:first-child::after {align-self: flex-end;width: 50%;}#sk-container-id-6 div.sk-parallel-item:last-child::after {align-self: flex-start;width: 50%;}#sk-container-id-6 div.sk-parallel-item:only-child::after {width: 0;}#sk-container-id-6 div.sk-dashed-wrapped {border: 1px dashed gray;margin: 0 0.4em 0.5em 0.4em;box-sizing: border-box;padding-bottom: 0.4em;background-color: white;}#sk-container-id-6 div.sk-label label {font-family: monospace;font-weight: bold;display: inline-block;line-height: 1.2em;}#sk-container-id-6 div.sk-label-container {text-align: center;}#sk-container-id-6 div.sk-container {/* jupyter's `normalize.less` sets `[hidden] { display: none; }` but bootstrap.min.css set `[hidden] { display: none !important; }` so we also need the `!important` here to be able to override the default hidden behavior on the sphinx rendered scikit-learn.org. See: https://github.com/scikit-learn/scikit-learn/issues/21755 */display: inline-block !important;position: relative;}#sk-container-id-6 div.sk-text-repr-fallback {display: none;}</style><div id=\"sk-container-id-6\" class=\"sk-top-container\"><div class=\"sk-text-repr-fallback\"><pre>RandomForestClassifier()</pre><b>In a Jupyter environment, please rerun this cell to show the HTML representation or trust the notebook. <br />On GitHub, the HTML representation is unable to render, please try loading this page with nbviewer.org.</b></div><div class=\"sk-container\" hidden><div class=\"sk-item\"><div class=\"sk-estimator sk-toggleable\"><input class=\"sk-toggleable__control sk-hidden--visually\" id=\"sk-estimator-id-6\" type=\"checkbox\" checked><label for=\"sk-estimator-id-6\" class=\"sk-toggleable__label sk-toggleable__label-arrow\">RandomForestClassifier</label><div class=\"sk-toggleable__content\"><pre>RandomForestClassifier()</pre></div></div></div></div></div>"
      ],
      "text/plain": [
       "RandomForestClassifier()"
      ]
     },
     "execution_count": 100,
     "metadata": {},
     "output_type": "execute_result"
    }
   ],
   "source": [
    "rf.fit(X_train,y_train)"
   ]
  },
  {
   "cell_type": "code",
   "execution_count": 101,
   "id": "4b4f79d3",
   "metadata": {
    "execution": {
     "iopub.execute_input": "2024-02-15T05:51:32.024687Z",
     "iopub.status.busy": "2024-02-15T05:51:32.023224Z",
     "iopub.status.idle": "2024-02-15T05:52:52.809300Z",
     "shell.execute_reply": "2024-02-15T05:52:52.808182Z"
    },
    "papermill": {
     "duration": 80.880219,
     "end_time": "2024-02-15T05:52:52.857856",
     "exception": false,
     "start_time": "2024-02-15T05:51:31.977637",
     "status": "completed"
    },
    "tags": []
   },
   "outputs": [
    {
     "data": {
      "text/html": [
       "<style>#sk-container-id-7 {color: black;background-color: white;}#sk-container-id-7 pre{padding: 0;}#sk-container-id-7 div.sk-toggleable {background-color: white;}#sk-container-id-7 label.sk-toggleable__label {cursor: pointer;display: block;width: 100%;margin-bottom: 0;padding: 0.3em;box-sizing: border-box;text-align: center;}#sk-container-id-7 label.sk-toggleable__label-arrow:before {content: \"▸\";float: left;margin-right: 0.25em;color: #696969;}#sk-container-id-7 label.sk-toggleable__label-arrow:hover:before {color: black;}#sk-container-id-7 div.sk-estimator:hover label.sk-toggleable__label-arrow:before {color: black;}#sk-container-id-7 div.sk-toggleable__content {max-height: 0;max-width: 0;overflow: hidden;text-align: left;background-color: #f0f8ff;}#sk-container-id-7 div.sk-toggleable__content pre {margin: 0.2em;color: black;border-radius: 0.25em;background-color: #f0f8ff;}#sk-container-id-7 input.sk-toggleable__control:checked~div.sk-toggleable__content {max-height: 200px;max-width: 100%;overflow: auto;}#sk-container-id-7 input.sk-toggleable__control:checked~label.sk-toggleable__label-arrow:before {content: \"▾\";}#sk-container-id-7 div.sk-estimator input.sk-toggleable__control:checked~label.sk-toggleable__label {background-color: #d4ebff;}#sk-container-id-7 div.sk-label input.sk-toggleable__control:checked~label.sk-toggleable__label {background-color: #d4ebff;}#sk-container-id-7 input.sk-hidden--visually {border: 0;clip: rect(1px 1px 1px 1px);clip: rect(1px, 1px, 1px, 1px);height: 1px;margin: -1px;overflow: hidden;padding: 0;position: absolute;width: 1px;}#sk-container-id-7 div.sk-estimator {font-family: monospace;background-color: #f0f8ff;border: 1px dotted black;border-radius: 0.25em;box-sizing: border-box;margin-bottom: 0.5em;}#sk-container-id-7 div.sk-estimator:hover {background-color: #d4ebff;}#sk-container-id-7 div.sk-parallel-item::after {content: \"\";width: 100%;border-bottom: 1px solid gray;flex-grow: 1;}#sk-container-id-7 div.sk-label:hover label.sk-toggleable__label {background-color: #d4ebff;}#sk-container-id-7 div.sk-serial::before {content: \"\";position: absolute;border-left: 1px solid gray;box-sizing: border-box;top: 0;bottom: 0;left: 50%;z-index: 0;}#sk-container-id-7 div.sk-serial {display: flex;flex-direction: column;align-items: center;background-color: white;padding-right: 0.2em;padding-left: 0.2em;position: relative;}#sk-container-id-7 div.sk-item {position: relative;z-index: 1;}#sk-container-id-7 div.sk-parallel {display: flex;align-items: stretch;justify-content: center;background-color: white;position: relative;}#sk-container-id-7 div.sk-item::before, #sk-container-id-7 div.sk-parallel-item::before {content: \"\";position: absolute;border-left: 1px solid gray;box-sizing: border-box;top: 0;bottom: 0;left: 50%;z-index: -1;}#sk-container-id-7 div.sk-parallel-item {display: flex;flex-direction: column;z-index: 1;position: relative;background-color: white;}#sk-container-id-7 div.sk-parallel-item:first-child::after {align-self: flex-end;width: 50%;}#sk-container-id-7 div.sk-parallel-item:last-child::after {align-self: flex-start;width: 50%;}#sk-container-id-7 div.sk-parallel-item:only-child::after {width: 0;}#sk-container-id-7 div.sk-dashed-wrapped {border: 1px dashed gray;margin: 0 0.4em 0.5em 0.4em;box-sizing: border-box;padding-bottom: 0.4em;background-color: white;}#sk-container-id-7 div.sk-label label {font-family: monospace;font-weight: bold;display: inline-block;line-height: 1.2em;}#sk-container-id-7 div.sk-label-container {text-align: center;}#sk-container-id-7 div.sk-container {/* jupyter's `normalize.less` sets `[hidden] { display: none; }` but bootstrap.min.css set `[hidden] { display: none !important; }` so we also need the `!important` here to be able to override the default hidden behavior on the sphinx rendered scikit-learn.org. See: https://github.com/scikit-learn/scikit-learn/issues/21755 */display: inline-block !important;position: relative;}#sk-container-id-7 div.sk-text-repr-fallback {display: none;}</style><div id=\"sk-container-id-7\" class=\"sk-top-container\"><div class=\"sk-text-repr-fallback\"><pre>SVC()</pre><b>In a Jupyter environment, please rerun this cell to show the HTML representation or trust the notebook. <br />On GitHub, the HTML representation is unable to render, please try loading this page with nbviewer.org.</b></div><div class=\"sk-container\" hidden><div class=\"sk-item\"><div class=\"sk-estimator sk-toggleable\"><input class=\"sk-toggleable__control sk-hidden--visually\" id=\"sk-estimator-id-7\" type=\"checkbox\" checked><label for=\"sk-estimator-id-7\" class=\"sk-toggleable__label sk-toggleable__label-arrow\">SVC</label><div class=\"sk-toggleable__content\"><pre>SVC()</pre></div></div></div></div></div>"
      ],
      "text/plain": [
       "SVC()"
      ]
     },
     "execution_count": 101,
     "metadata": {},
     "output_type": "execute_result"
    }
   ],
   "source": [
    "svm.fit(X_train,y_train)"
   ]
  },
  {
   "cell_type": "code",
   "execution_count": 102,
   "id": "7cd0c098",
   "metadata": {
    "execution": {
     "iopub.execute_input": "2024-02-15T05:52:52.945402Z",
     "iopub.status.busy": "2024-02-15T05:52:52.945055Z",
     "iopub.status.idle": "2024-02-15T05:52:54.718606Z",
     "shell.execute_reply": "2024-02-15T05:52:54.717502Z"
    },
    "papermill": {
     "duration": 1.820381,
     "end_time": "2024-02-15T05:52:54.720976",
     "exception": false,
     "start_time": "2024-02-15T05:52:52.900595",
     "status": "completed"
    },
    "tags": []
   },
   "outputs": [
    {
     "data": {
      "text/html": [
       "<style>#sk-container-id-8 {color: black;background-color: white;}#sk-container-id-8 pre{padding: 0;}#sk-container-id-8 div.sk-toggleable {background-color: white;}#sk-container-id-8 label.sk-toggleable__label {cursor: pointer;display: block;width: 100%;margin-bottom: 0;padding: 0.3em;box-sizing: border-box;text-align: center;}#sk-container-id-8 label.sk-toggleable__label-arrow:before {content: \"▸\";float: left;margin-right: 0.25em;color: #696969;}#sk-container-id-8 label.sk-toggleable__label-arrow:hover:before {color: black;}#sk-container-id-8 div.sk-estimator:hover label.sk-toggleable__label-arrow:before {color: black;}#sk-container-id-8 div.sk-toggleable__content {max-height: 0;max-width: 0;overflow: hidden;text-align: left;background-color: #f0f8ff;}#sk-container-id-8 div.sk-toggleable__content pre {margin: 0.2em;color: black;border-radius: 0.25em;background-color: #f0f8ff;}#sk-container-id-8 input.sk-toggleable__control:checked~div.sk-toggleable__content {max-height: 200px;max-width: 100%;overflow: auto;}#sk-container-id-8 input.sk-toggleable__control:checked~label.sk-toggleable__label-arrow:before {content: \"▾\";}#sk-container-id-8 div.sk-estimator input.sk-toggleable__control:checked~label.sk-toggleable__label {background-color: #d4ebff;}#sk-container-id-8 div.sk-label input.sk-toggleable__control:checked~label.sk-toggleable__label {background-color: #d4ebff;}#sk-container-id-8 input.sk-hidden--visually {border: 0;clip: rect(1px 1px 1px 1px);clip: rect(1px, 1px, 1px, 1px);height: 1px;margin: -1px;overflow: hidden;padding: 0;position: absolute;width: 1px;}#sk-container-id-8 div.sk-estimator {font-family: monospace;background-color: #f0f8ff;border: 1px dotted black;border-radius: 0.25em;box-sizing: border-box;margin-bottom: 0.5em;}#sk-container-id-8 div.sk-estimator:hover {background-color: #d4ebff;}#sk-container-id-8 div.sk-parallel-item::after {content: \"\";width: 100%;border-bottom: 1px solid gray;flex-grow: 1;}#sk-container-id-8 div.sk-label:hover label.sk-toggleable__label {background-color: #d4ebff;}#sk-container-id-8 div.sk-serial::before {content: \"\";position: absolute;border-left: 1px solid gray;box-sizing: border-box;top: 0;bottom: 0;left: 50%;z-index: 0;}#sk-container-id-8 div.sk-serial {display: flex;flex-direction: column;align-items: center;background-color: white;padding-right: 0.2em;padding-left: 0.2em;position: relative;}#sk-container-id-8 div.sk-item {position: relative;z-index: 1;}#sk-container-id-8 div.sk-parallel {display: flex;align-items: stretch;justify-content: center;background-color: white;position: relative;}#sk-container-id-8 div.sk-item::before, #sk-container-id-8 div.sk-parallel-item::before {content: \"\";position: absolute;border-left: 1px solid gray;box-sizing: border-box;top: 0;bottom: 0;left: 50%;z-index: -1;}#sk-container-id-8 div.sk-parallel-item {display: flex;flex-direction: column;z-index: 1;position: relative;background-color: white;}#sk-container-id-8 div.sk-parallel-item:first-child::after {align-self: flex-end;width: 50%;}#sk-container-id-8 div.sk-parallel-item:last-child::after {align-self: flex-start;width: 50%;}#sk-container-id-8 div.sk-parallel-item:only-child::after {width: 0;}#sk-container-id-8 div.sk-dashed-wrapped {border: 1px dashed gray;margin: 0 0.4em 0.5em 0.4em;box-sizing: border-box;padding-bottom: 0.4em;background-color: white;}#sk-container-id-8 div.sk-label label {font-family: monospace;font-weight: bold;display: inline-block;line-height: 1.2em;}#sk-container-id-8 div.sk-label-container {text-align: center;}#sk-container-id-8 div.sk-container {/* jupyter's `normalize.less` sets `[hidden] { display: none; }` but bootstrap.min.css set `[hidden] { display: none !important; }` so we also need the `!important` here to be able to override the default hidden behavior on the sphinx rendered scikit-learn.org. See: https://github.com/scikit-learn/scikit-learn/issues/21755 */display: inline-block !important;position: relative;}#sk-container-id-8 div.sk-text-repr-fallback {display: none;}</style><div id=\"sk-container-id-8\" class=\"sk-top-container\"><div class=\"sk-text-repr-fallback\"><pre>XGBClassifier(base_score=None, booster=None, callbacks=None,\n",
       "              colsample_bylevel=None, colsample_bynode=None,\n",
       "              colsample_bytree=None, device=None, early_stopping_rounds=None,\n",
       "              enable_categorical=False, eval_metric=None, feature_types=None,\n",
       "              gamma=None, grow_policy=None, importance_type=None,\n",
       "              interaction_constraints=None, learning_rate=None, max_bin=None,\n",
       "              max_cat_threshold=None, max_cat_to_onehot=None,\n",
       "              max_delta_step=None, max_depth=None, max_leaves=None,\n",
       "              min_child_weight=None, missing=nan, monotone_constraints=None,\n",
       "              multi_strategy=None, n_estimators=None, n_jobs=None,\n",
       "              num_parallel_tree=None, objective=&#x27;multi:softprob&#x27;, ...)</pre><b>In a Jupyter environment, please rerun this cell to show the HTML representation or trust the notebook. <br />On GitHub, the HTML representation is unable to render, please try loading this page with nbviewer.org.</b></div><div class=\"sk-container\" hidden><div class=\"sk-item\"><div class=\"sk-estimator sk-toggleable\"><input class=\"sk-toggleable__control sk-hidden--visually\" id=\"sk-estimator-id-8\" type=\"checkbox\" checked><label for=\"sk-estimator-id-8\" class=\"sk-toggleable__label sk-toggleable__label-arrow\">XGBClassifier</label><div class=\"sk-toggleable__content\"><pre>XGBClassifier(base_score=None, booster=None, callbacks=None,\n",
       "              colsample_bylevel=None, colsample_bynode=None,\n",
       "              colsample_bytree=None, device=None, early_stopping_rounds=None,\n",
       "              enable_categorical=False, eval_metric=None, feature_types=None,\n",
       "              gamma=None, grow_policy=None, importance_type=None,\n",
       "              interaction_constraints=None, learning_rate=None, max_bin=None,\n",
       "              max_cat_threshold=None, max_cat_to_onehot=None,\n",
       "              max_delta_step=None, max_depth=None, max_leaves=None,\n",
       "              min_child_weight=None, missing=nan, monotone_constraints=None,\n",
       "              multi_strategy=None, n_estimators=None, n_jobs=None,\n",
       "              num_parallel_tree=None, objective=&#x27;multi:softprob&#x27;, ...)</pre></div></div></div></div></div>"
      ],
      "text/plain": [
       "XGBClassifier(base_score=None, booster=None, callbacks=None,\n",
       "              colsample_bylevel=None, colsample_bynode=None,\n",
       "              colsample_bytree=None, device=None, early_stopping_rounds=None,\n",
       "              enable_categorical=False, eval_metric=None, feature_types=None,\n",
       "              gamma=None, grow_policy=None, importance_type=None,\n",
       "              interaction_constraints=None, learning_rate=None, max_bin=None,\n",
       "              max_cat_threshold=None, max_cat_to_onehot=None,\n",
       "              max_delta_step=None, max_depth=None, max_leaves=None,\n",
       "              min_child_weight=None, missing=nan, monotone_constraints=None,\n",
       "              multi_strategy=None, n_estimators=None, n_jobs=None,\n",
       "              num_parallel_tree=None, objective='multi:softprob', ...)"
      ]
     },
     "execution_count": 102,
     "metadata": {},
     "output_type": "execute_result"
    }
   ],
   "source": [
    "xg.fit(X_train,y_train)"
   ]
  },
  {
   "cell_type": "markdown",
   "id": "40e795fd",
   "metadata": {
    "papermill": {
     "duration": 0.043724,
     "end_time": "2024-02-15T05:52:54.809816",
     "exception": false,
     "start_time": "2024-02-15T05:52:54.766092",
     "status": "completed"
    },
    "tags": []
   },
   "source": [
    "# Model Evaluation"
   ]
  },
  {
   "cell_type": "code",
   "execution_count": 103,
   "id": "f6664ef6",
   "metadata": {
    "execution": {
     "iopub.execute_input": "2024-02-15T05:52:54.898743Z",
     "iopub.status.busy": "2024-02-15T05:52:54.898348Z",
     "iopub.status.idle": "2024-02-15T05:52:54.902939Z",
     "shell.execute_reply": "2024-02-15T05:52:54.901733Z"
    },
    "papermill": {
     "duration": 0.052137,
     "end_time": "2024-02-15T05:52:54.905203",
     "exception": false,
     "start_time": "2024-02-15T05:52:54.853066",
     "status": "completed"
    },
    "tags": []
   },
   "outputs": [],
   "source": [
    "#LR"
   ]
  },
  {
   "cell_type": "code",
   "execution_count": 104,
   "id": "fb6bfeb8",
   "metadata": {
    "execution": {
     "iopub.execute_input": "2024-02-15T05:52:54.998892Z",
     "iopub.status.busy": "2024-02-15T05:52:54.998293Z",
     "iopub.status.idle": "2024-02-15T05:52:55.017139Z",
     "shell.execute_reply": "2024-02-15T05:52:55.015899Z"
    },
    "papermill": {
     "duration": 0.068956,
     "end_time": "2024-02-15T05:52:55.020724",
     "exception": false,
     "start_time": "2024-02-15T05:52:54.951768",
     "status": "completed"
    },
    "tags": []
   },
   "outputs": [],
   "source": [
    "predicted_lr_train= lr.predict(X_train)"
   ]
  },
  {
   "cell_type": "code",
   "execution_count": 105,
   "id": "c12807d3",
   "metadata": {
    "execution": {
     "iopub.execute_input": "2024-02-15T05:52:55.159716Z",
     "iopub.status.busy": "2024-02-15T05:52:55.159326Z",
     "iopub.status.idle": "2024-02-15T05:52:55.169654Z",
     "shell.execute_reply": "2024-02-15T05:52:55.168477Z"
    },
    "papermill": {
     "duration": 0.072767,
     "end_time": "2024-02-15T05:52:55.172811",
     "exception": false,
     "start_time": "2024-02-15T05:52:55.100044",
     "status": "completed"
    },
    "tags": []
   },
   "outputs": [],
   "source": [
    "predicted_lr_test= lr.predict(X_test)"
   ]
  },
  {
   "cell_type": "code",
   "execution_count": 106,
   "id": "e5c52355",
   "metadata": {
    "execution": {
     "iopub.execute_input": "2024-02-15T05:52:55.312194Z",
     "iopub.status.busy": "2024-02-15T05:52:55.311826Z",
     "iopub.status.idle": "2024-02-15T05:52:55.390516Z",
     "shell.execute_reply": "2024-02-15T05:52:55.389288Z"
    },
    "papermill": {
     "duration": 0.140677,
     "end_time": "2024-02-15T05:52:55.392832",
     "exception": false,
     "start_time": "2024-02-15T05:52:55.252155",
     "status": "completed"
    },
    "tags": []
   },
   "outputs": [
    {
     "name": "stdout",
     "output_type": "stream",
     "text": [
      "              precision    recall  f1-score   support\n",
      "\n",
      "           0       0.82      0.82      0.82      9601\n",
      "           1       0.71      0.68      0.70     12145\n",
      "           2       0.70      0.72      0.71     18254\n",
      "\n",
      "    accuracy                           0.73     40000\n",
      "   macro avg       0.74      0.74      0.74     40000\n",
      "weighted avg       0.73      0.73      0.73     40000\n",
      "\n"
     ]
    }
   ],
   "source": [
    "print(mt.classification_report(y_train,predicted_lr_train))"
   ]
  },
  {
   "cell_type": "code",
   "execution_count": 107,
   "id": "4d57505e",
   "metadata": {
    "execution": {
     "iopub.execute_input": "2024-02-15T05:52:55.485567Z",
     "iopub.status.busy": "2024-02-15T05:52:55.485140Z",
     "iopub.status.idle": "2024-02-15T05:52:55.513313Z",
     "shell.execute_reply": "2024-02-15T05:52:55.512211Z"
    },
    "papermill": {
     "duration": 0.079597,
     "end_time": "2024-02-15T05:52:55.515955",
     "exception": false,
     "start_time": "2024-02-15T05:52:55.436358",
     "status": "completed"
    },
    "tags": []
   },
   "outputs": [
    {
     "name": "stdout",
     "output_type": "stream",
     "text": [
      "              precision    recall  f1-score   support\n",
      "\n",
      "           0       0.83      0.82      0.83      2367\n",
      "           1       0.70      0.70      0.70      3048\n",
      "           2       0.71      0.72      0.72      4585\n",
      "\n",
      "    accuracy                           0.74     10000\n",
      "   macro avg       0.75      0.75      0.75     10000\n",
      "weighted avg       0.74      0.74      0.74     10000\n",
      "\n"
     ]
    }
   ],
   "source": [
    "print(mt.classification_report(y_test,predicted_lr_test))"
   ]
  },
  {
   "cell_type": "code",
   "execution_count": 108,
   "id": "e19834cd",
   "metadata": {
    "execution": {
     "iopub.execute_input": "2024-02-15T05:52:55.605946Z",
     "iopub.status.busy": "2024-02-15T05:52:55.605573Z",
     "iopub.status.idle": "2024-02-15T05:52:55.609875Z",
     "shell.execute_reply": "2024-02-15T05:52:55.608751Z"
    },
    "papermill": {
     "duration": 0.05195,
     "end_time": "2024-02-15T05:52:55.612278",
     "exception": false,
     "start_time": "2024-02-15T05:52:55.560328",
     "status": "completed"
    },
    "tags": []
   },
   "outputs": [],
   "source": [
    "#RF"
   ]
  },
  {
   "cell_type": "code",
   "execution_count": 109,
   "id": "10f96259",
   "metadata": {
    "execution": {
     "iopub.execute_input": "2024-02-15T05:52:55.705135Z",
     "iopub.status.busy": "2024-02-15T05:52:55.704787Z",
     "iopub.status.idle": "2024-02-15T05:52:56.349484Z",
     "shell.execute_reply": "2024-02-15T05:52:56.348633Z"
    },
    "papermill": {
     "duration": 0.694752,
     "end_time": "2024-02-15T05:52:56.351808",
     "exception": false,
     "start_time": "2024-02-15T05:52:55.657056",
     "status": "completed"
    },
    "tags": []
   },
   "outputs": [],
   "source": [
    "predicted_rf_train = rf.predict(X_train)"
   ]
  },
  {
   "cell_type": "code",
   "execution_count": 110,
   "id": "90485d82",
   "metadata": {
    "execution": {
     "iopub.execute_input": "2024-02-15T05:52:56.440055Z",
     "iopub.status.busy": "2024-02-15T05:52:56.439342Z",
     "iopub.status.idle": "2024-02-15T05:52:56.612975Z",
     "shell.execute_reply": "2024-02-15T05:52:56.612002Z"
    },
    "papermill": {
     "duration": 0.221004,
     "end_time": "2024-02-15T05:52:56.615312",
     "exception": false,
     "start_time": "2024-02-15T05:52:56.394308",
     "status": "completed"
    },
    "tags": []
   },
   "outputs": [],
   "source": [
    "predicted_rf_test= rf.predict(X_test)"
   ]
  },
  {
   "cell_type": "code",
   "execution_count": 111,
   "id": "dec734ca",
   "metadata": {
    "execution": {
     "iopub.execute_input": "2024-02-15T05:52:56.706304Z",
     "iopub.status.busy": "2024-02-15T05:52:56.705685Z",
     "iopub.status.idle": "2024-02-15T05:52:56.783237Z",
     "shell.execute_reply": "2024-02-15T05:52:56.782127Z"
    },
    "papermill": {
     "duration": 0.125999,
     "end_time": "2024-02-15T05:52:56.785598",
     "exception": false,
     "start_time": "2024-02-15T05:52:56.659599",
     "status": "completed"
    },
    "tags": []
   },
   "outputs": [
    {
     "name": "stdout",
     "output_type": "stream",
     "text": [
      "              precision    recall  f1-score   support\n",
      "\n",
      "           0       1.00      1.00      1.00      9601\n",
      "           1       1.00      1.00      1.00     12145\n",
      "           2       1.00      1.00      1.00     18254\n",
      "\n",
      "    accuracy                           1.00     40000\n",
      "   macro avg       1.00      1.00      1.00     40000\n",
      "weighted avg       1.00      1.00      1.00     40000\n",
      "\n"
     ]
    }
   ],
   "source": [
    "print(mt.classification_report(y_train,predicted_rf_train))"
   ]
  },
  {
   "cell_type": "code",
   "execution_count": 112,
   "id": "10caf03a",
   "metadata": {
    "execution": {
     "iopub.execute_input": "2024-02-15T05:52:56.874557Z",
     "iopub.status.busy": "2024-02-15T05:52:56.873948Z",
     "iopub.status.idle": "2024-02-15T05:52:56.901230Z",
     "shell.execute_reply": "2024-02-15T05:52:56.900111Z"
    },
    "papermill": {
     "duration": 0.074242,
     "end_time": "2024-02-15T05:52:56.903523",
     "exception": false,
     "start_time": "2024-02-15T05:52:56.829281",
     "status": "completed"
    },
    "tags": []
   },
   "outputs": [
    {
     "name": "stdout",
     "output_type": "stream",
     "text": [
      "              precision    recall  f1-score   support\n",
      "\n",
      "           0       0.97      0.99      0.98      2367\n",
      "           1       0.97      0.98      0.97      3048\n",
      "           2       0.98      0.96      0.97      4585\n",
      "\n",
      "    accuracy                           0.97     10000\n",
      "   macro avg       0.97      0.98      0.97     10000\n",
      "weighted avg       0.97      0.97      0.97     10000\n",
      "\n"
     ]
    }
   ],
   "source": [
    "print(mt.classification_report(y_test,predicted_rf_test))"
   ]
  },
  {
   "cell_type": "code",
   "execution_count": 113,
   "id": "742d1343",
   "metadata": {
    "execution": {
     "iopub.execute_input": "2024-02-15T05:52:56.991514Z",
     "iopub.status.busy": "2024-02-15T05:52:56.990909Z",
     "iopub.status.idle": "2024-02-15T05:52:56.995260Z",
     "shell.execute_reply": "2024-02-15T05:52:56.994337Z"
    },
    "papermill": {
     "duration": 0.051263,
     "end_time": "2024-02-15T05:52:56.997554",
     "exception": false,
     "start_time": "2024-02-15T05:52:56.946291",
     "status": "completed"
    },
    "tags": []
   },
   "outputs": [],
   "source": [
    "#SVM"
   ]
  },
  {
   "cell_type": "code",
   "execution_count": 114,
   "id": "ed5dd8c9",
   "metadata": {
    "execution": {
     "iopub.execute_input": "2024-02-15T05:52:57.085521Z",
     "iopub.status.busy": "2024-02-15T05:52:57.085125Z",
     "iopub.status.idle": "2024-02-15T05:54:29.354438Z",
     "shell.execute_reply": "2024-02-15T05:54:29.353397Z"
    },
    "papermill": {
     "duration": 92.316438,
     "end_time": "2024-02-15T05:54:29.357095",
     "exception": false,
     "start_time": "2024-02-15T05:52:57.040657",
     "status": "completed"
    },
    "tags": []
   },
   "outputs": [],
   "source": [
    "predicted_svm_train= svm.predict(X_train)"
   ]
  },
  {
   "cell_type": "code",
   "execution_count": 115,
   "id": "476370be",
   "metadata": {
    "execution": {
     "iopub.execute_input": "2024-02-15T05:54:29.446729Z",
     "iopub.status.busy": "2024-02-15T05:54:29.446342Z",
     "iopub.status.idle": "2024-02-15T05:54:52.486397Z",
     "shell.execute_reply": "2024-02-15T05:54:52.485105Z"
    },
    "papermill": {
     "duration": 23.087227,
     "end_time": "2024-02-15T05:54:52.488920",
     "exception": false,
     "start_time": "2024-02-15T05:54:29.401693",
     "status": "completed"
    },
    "tags": []
   },
   "outputs": [],
   "source": [
    "predicted_svm_test= svm.predict(X_test)"
   ]
  },
  {
   "cell_type": "code",
   "execution_count": 116,
   "id": "6af3ffa6",
   "metadata": {
    "execution": {
     "iopub.execute_input": "2024-02-15T05:54:52.577634Z",
     "iopub.status.busy": "2024-02-15T05:54:52.577265Z",
     "iopub.status.idle": "2024-02-15T05:54:52.655022Z",
     "shell.execute_reply": "2024-02-15T05:54:52.653302Z"
    },
    "papermill": {
     "duration": 0.124994,
     "end_time": "2024-02-15T05:54:52.657569",
     "exception": false,
     "start_time": "2024-02-15T05:54:52.532575",
     "status": "completed"
    },
    "tags": []
   },
   "outputs": [
    {
     "name": "stdout",
     "output_type": "stream",
     "text": [
      "              precision    recall  f1-score   support\n",
      "\n",
      "           0       0.84      0.73      0.78      9601\n",
      "           1       0.84      0.79      0.81     12145\n",
      "           2       0.75      0.82      0.78     18254\n",
      "\n",
      "    accuracy                           0.79     40000\n",
      "   macro avg       0.81      0.78      0.79     40000\n",
      "weighted avg       0.80      0.79      0.79     40000\n",
      "\n"
     ]
    }
   ],
   "source": [
    "print(mt.classification_report(y_train,predicted_svm_train))"
   ]
  },
  {
   "cell_type": "code",
   "execution_count": 117,
   "id": "808ff0bc",
   "metadata": {
    "execution": {
     "iopub.execute_input": "2024-02-15T05:54:52.750105Z",
     "iopub.status.busy": "2024-02-15T05:54:52.749748Z",
     "iopub.status.idle": "2024-02-15T05:54:52.778167Z",
     "shell.execute_reply": "2024-02-15T05:54:52.776870Z"
    },
    "papermill": {
     "duration": 0.077503,
     "end_time": "2024-02-15T05:54:52.780484",
     "exception": false,
     "start_time": "2024-02-15T05:54:52.702981",
     "status": "completed"
    },
    "tags": []
   },
   "outputs": [
    {
     "name": "stdout",
     "output_type": "stream",
     "text": [
      "              precision    recall  f1-score   support\n",
      "\n",
      "           0       0.83      0.72      0.77      2367\n",
      "           1       0.82      0.81      0.81      3048\n",
      "           2       0.75      0.81      0.78      4585\n",
      "\n",
      "    accuracy                           0.79     10000\n",
      "   macro avg       0.80      0.78      0.79     10000\n",
      "weighted avg       0.79      0.79      0.79     10000\n",
      "\n"
     ]
    }
   ],
   "source": [
    "print(mt.classification_report(y_test,predicted_svm_test))"
   ]
  },
  {
   "cell_type": "code",
   "execution_count": 118,
   "id": "ad7d6c1e",
   "metadata": {
    "execution": {
     "iopub.execute_input": "2024-02-15T05:54:52.870945Z",
     "iopub.status.busy": "2024-02-15T05:54:52.870546Z",
     "iopub.status.idle": "2024-02-15T05:54:52.874748Z",
     "shell.execute_reply": "2024-02-15T05:54:52.873812Z"
    },
    "papermill": {
     "duration": 0.052213,
     "end_time": "2024-02-15T05:54:52.876879",
     "exception": false,
     "start_time": "2024-02-15T05:54:52.824666",
     "status": "completed"
    },
    "tags": []
   },
   "outputs": [],
   "source": [
    "#XGB"
   ]
  },
  {
   "cell_type": "code",
   "execution_count": 119,
   "id": "6ce2e93c",
   "metadata": {
    "execution": {
     "iopub.execute_input": "2024-02-15T05:54:52.966802Z",
     "iopub.status.busy": "2024-02-15T05:54:52.966151Z",
     "iopub.status.idle": "2024-02-15T05:54:53.090837Z",
     "shell.execute_reply": "2024-02-15T05:54:53.089902Z"
    },
    "papermill": {
     "duration": 0.173191,
     "end_time": "2024-02-15T05:54:53.093591",
     "exception": false,
     "start_time": "2024-02-15T05:54:52.920400",
     "status": "completed"
    },
    "tags": []
   },
   "outputs": [],
   "source": [
    "predicted_xg_train= xg.predict(X_train)"
   ]
  },
  {
   "cell_type": "code",
   "execution_count": 120,
   "id": "f2bb168b",
   "metadata": {
    "execution": {
     "iopub.execute_input": "2024-02-15T05:54:53.184954Z",
     "iopub.status.busy": "2024-02-15T05:54:53.183910Z",
     "iopub.status.idle": "2024-02-15T05:54:53.223984Z",
     "shell.execute_reply": "2024-02-15T05:54:53.222924Z"
    },
    "papermill": {
     "duration": 0.087711,
     "end_time": "2024-02-15T05:54:53.226539",
     "exception": false,
     "start_time": "2024-02-15T05:54:53.138828",
     "status": "completed"
    },
    "tags": []
   },
   "outputs": [],
   "source": [
    "predicted_xg_test= xg.predict(X_test)"
   ]
  },
  {
   "cell_type": "code",
   "execution_count": 121,
   "id": "53f1b705",
   "metadata": {
    "execution": {
     "iopub.execute_input": "2024-02-15T05:54:53.317887Z",
     "iopub.status.busy": "2024-02-15T05:54:53.317008Z",
     "iopub.status.idle": "2024-02-15T05:54:53.394593Z",
     "shell.execute_reply": "2024-02-15T05:54:53.392935Z"
    },
    "papermill": {
     "duration": 0.125345,
     "end_time": "2024-02-15T05:54:53.397277",
     "exception": false,
     "start_time": "2024-02-15T05:54:53.271932",
     "status": "completed"
    },
    "tags": []
   },
   "outputs": [
    {
     "name": "stdout",
     "output_type": "stream",
     "text": [
      "              precision    recall  f1-score   support\n",
      "\n",
      "           0       1.00      1.00      1.00      9601\n",
      "           1       1.00      1.00      1.00     12145\n",
      "           2       1.00      1.00      1.00     18254\n",
      "\n",
      "    accuracy                           1.00     40000\n",
      "   macro avg       1.00      1.00      1.00     40000\n",
      "weighted avg       1.00      1.00      1.00     40000\n",
      "\n"
     ]
    }
   ],
   "source": [
    "print(mt.classification_report(y_train,predicted_xg_train))"
   ]
  },
  {
   "cell_type": "code",
   "execution_count": 122,
   "id": "627484ea",
   "metadata": {
    "execution": {
     "iopub.execute_input": "2024-02-15T05:54:53.487067Z",
     "iopub.status.busy": "2024-02-15T05:54:53.486704Z",
     "iopub.status.idle": "2024-02-15T05:54:53.515100Z",
     "shell.execute_reply": "2024-02-15T05:54:53.513854Z"
    },
    "papermill": {
     "duration": 0.075623,
     "end_time": "2024-02-15T05:54:53.517008",
     "exception": false,
     "start_time": "2024-02-15T05:54:53.441385",
     "status": "completed"
    },
    "tags": []
   },
   "outputs": [
    {
     "name": "stdout",
     "output_type": "stream",
     "text": [
      "              precision    recall  f1-score   support\n",
      "\n",
      "           0       0.98      0.98      0.98      2367\n",
      "           1       0.96      0.98      0.97      3048\n",
      "           2       0.98      0.96      0.97      4585\n",
      "\n",
      "    accuracy                           0.97     10000\n",
      "   macro avg       0.97      0.97      0.97     10000\n",
      "weighted avg       0.97      0.97      0.97     10000\n",
      "\n"
     ]
    }
   ],
   "source": [
    "print(mt.classification_report(y_test,predicted_xg_test))"
   ]
  },
  {
   "cell_type": "code",
   "execution_count": 123,
   "id": "8ada8885",
   "metadata": {
    "execution": {
     "iopub.execute_input": "2024-02-15T05:54:53.605278Z",
     "iopub.status.busy": "2024-02-15T05:54:53.604616Z",
     "iopub.status.idle": "2024-02-15T05:54:53.609142Z",
     "shell.execute_reply": "2024-02-15T05:54:53.607755Z"
    },
    "papermill": {
     "duration": 0.050992,
     "end_time": "2024-02-15T05:54:53.611109",
     "exception": false,
     "start_time": "2024-02-15T05:54:53.560117",
     "status": "completed"
    },
    "tags": []
   },
   "outputs": [],
   "source": [
    "# Confusion Matrix"
   ]
  },
  {
   "cell_type": "code",
   "execution_count": 124,
   "id": "924c8af6",
   "metadata": {
    "execution": {
     "iopub.execute_input": "2024-02-15T05:54:53.700550Z",
     "iopub.status.busy": "2024-02-15T05:54:53.700092Z",
     "iopub.status.idle": "2024-02-15T05:54:53.948966Z",
     "shell.execute_reply": "2024-02-15T05:54:53.947817Z"
    },
    "papermill": {
     "duration": 0.295932,
     "end_time": "2024-02-15T05:54:53.951306",
     "exception": false,
     "start_time": "2024-02-15T05:54:53.655374",
     "status": "completed"
    },
    "tags": []
   },
   "outputs": [
    {
     "data": {
      "text/plain": [
       "<Axes: >"
      ]
     },
     "execution_count": 124,
     "metadata": {},
     "output_type": "execute_result"
    },
    {
     "data": {
      "image/png": "[encoded data removed]",
      "text/plain": [
       "<Figure size 640x480 with 2 Axes>"
      ]
     },
     "metadata": {},
     "output_type": "display_data"
    }
   ],
   "source": [
    "sns.heatmap(mt.confusion_matrix(y_test,predicted_lr_test), annot=True,fmt=\".1f\")"
   ]
  },
  {
   "cell_type": "code",
   "execution_count": 125,
   "id": "18620421",
   "metadata": {
    "execution": {
     "iopub.execute_input": "2024-02-15T05:54:54.041922Z",
     "iopub.status.busy": "2024-02-15T05:54:54.041534Z",
     "iopub.status.idle": "2024-02-15T05:54:54.302703Z",
     "shell.execute_reply": "2024-02-15T05:54:54.301687Z"
    },
    "papermill": {
     "duration": 0.309919,
     "end_time": "2024-02-15T05:54:54.305232",
     "exception": false,
     "start_time": "2024-02-15T05:54:53.995313",
     "status": "completed"
    },
    "tags": []
   },
   "outputs": [
    {
     "data": {
      "text/plain": [
       "<Axes: >"
      ]
     },
     "execution_count": 125,
     "metadata": {},
     "output_type": "execute_result"
    },
    {
     "data": {
      "image/png": "[encoded data removed]",
      "text/plain": [
       "<Figure size 640x480 with 2 Axes>"
      ]
     },
     "metadata": {},
     "output_type": "display_data"
    }
   ],
   "source": [
    "sns.heatmap(mt.confusion_matrix(y_test,predicted_rf_test), annot=True,fmt=\".1f\")"
   ]
  },
  {
   "cell_type": "code",
   "execution_count": 126,
   "id": "78c05859",
   "metadata": {
    "execution": {
     "iopub.execute_input": "2024-02-15T05:54:54.395949Z",
     "iopub.status.busy": "2024-02-15T05:54:54.394703Z",
     "iopub.status.idle": "2024-02-15T05:54:54.643690Z",
     "shell.execute_reply": "2024-02-15T05:54:54.642505Z"
    },
    "papermill": {
     "duration": 0.297359,
     "end_time": "2024-02-15T05:54:54.646705",
     "exception": false,
     "start_time": "2024-02-15T05:54:54.349346",
     "status": "completed"
    },
    "tags": []
   },
   "outputs": [
    {
     "data": {
      "text/plain": [
       "<Axes: >"
      ]
     },
     "execution_count": 126,
     "metadata": {},
     "output_type": "execute_result"
    },
    {
     "data": {
      "image/png": "[encoded data removed]",
      "text/plain": [
       "<Figure size 640x480 with 2 Axes>"
      ]
     },
     "metadata": {},
     "output_type": "display_data"
    }
   ],
   "source": [
    "sns.heatmap(mt.confusion_matrix(y_test,predicted_svm_test), annot=True,fmt=\".1f\")"
   ]
  },
  {
   "cell_type": "code",
   "execution_count": 127,
   "id": "91e2f4c5",
   "metadata": {
    "execution": {
     "iopub.execute_input": "2024-02-15T05:54:54.742047Z",
     "iopub.status.busy": "2024-02-15T05:54:54.741053Z",
     "iopub.status.idle": "2024-02-15T05:54:55.008447Z",
     "shell.execute_reply": "2024-02-15T05:54:55.007337Z"
    },
    "papermill": {
     "duration": 0.317881,
     "end_time": "2024-02-15T05:54:55.010610",
     "exception": false,
     "start_time": "2024-02-15T05:54:54.692729",
     "status": "completed"
    },
    "tags": []
   },
   "outputs": [
    {
     "data": {
      "text/plain": [
       "<Axes: >"
      ]
     },
     "execution_count": 127,
     "metadata": {},
     "output_type": "execute_result"
    },
    {
     "data": {
      "image/png": "[encoded data removed]",
      "text/plain": [
       "<Figure size 640x480 with 2 Axes>"
      ]
     },
     "metadata": {},
     "output_type": "display_data"
    }
   ],
   "source": [
    "sns.heatmap(mt.confusion_matrix(y_test,predicted_xg_test), annot=True,fmt=\".1f\")"
   ]
  },
  {
   "cell_type": "markdown",
   "id": "25703958",
   "metadata": {
    "papermill": {
     "duration": 0.046561,
     "end_time": "2024-02-15T05:54:55.102711",
     "exception": false,
     "start_time": "2024-02-15T05:54:55.056150",
     "status": "completed"
    },
    "tags": []
   },
   "source": [
    "# Hyperparameter Tuning"
   ]
  },
  {
   "cell_type": "code",
   "execution_count": 128,
   "id": "90808259",
   "metadata": {
    "execution": {
     "iopub.execute_input": "2024-02-15T05:54:55.197221Z",
     "iopub.status.busy": "2024-02-15T05:54:55.196615Z",
     "iopub.status.idle": "2024-02-15T05:54:55.201171Z",
     "shell.execute_reply": "2024-02-15T05:54:55.200405Z"
    },
    "papermill": {
     "duration": 0.054342,
     "end_time": "2024-02-15T05:54:55.203151",
     "exception": false,
     "start_time": "2024-02-15T05:54:55.148809",
     "status": "completed"
    },
    "tags": []
   },
   "outputs": [],
   "source": [
    "from sklearn.model_selection import GridSearchCV"
   ]
  },
  {
   "cell_type": "code",
   "execution_count": 129,
   "id": "59ef39fb",
   "metadata": {
    "execution": {
     "iopub.execute_input": "2024-02-15T05:54:55.296904Z",
     "iopub.status.busy": "2024-02-15T05:54:55.296290Z",
     "iopub.status.idle": "2024-02-15T05:54:55.301177Z",
     "shell.execute_reply": "2024-02-15T05:54:55.300471Z"
    },
    "papermill": {
     "duration": 0.054125,
     "end_time": "2024-02-15T05:54:55.303098",
     "exception": false,
     "start_time": "2024-02-15T05:54:55.248973",
     "status": "completed"
    },
    "tags": []
   },
   "outputs": [],
   "source": [
    "param_grid = {\n",
    "    'n_estimators': [50, 100, 200],\n",
    "    'max_depth': [3, 5, 7],\n",
    "    'learning_rate': [0.01, 0.1, 0.2],\n",
    "}\n"
   ]
  },
  {
   "cell_type": "code",
   "execution_count": 130,
   "id": "aa754977",
   "metadata": {
    "execution": {
     "iopub.execute_input": "2024-02-15T05:54:55.395957Z",
     "iopub.status.busy": "2024-02-15T05:54:55.395289Z",
     "iopub.status.idle": "2024-02-15T05:58:38.570911Z",
     "shell.execute_reply": "2024-02-15T05:58:38.569587Z"
    },
    "papermill": {
     "duration": 223.270353,
     "end_time": "2024-02-15T05:58:38.618688",
     "exception": false,
     "start_time": "2024-02-15T05:54:55.348335",
     "status": "completed"
    },
    "tags": []
   },
   "outputs": [
    {
     "data": {
      "text/html": [
       "<style>#sk-container-id-9 {color: black;background-color: white;}#sk-container-id-9 pre{padding: 0;}#sk-container-id-9 div.sk-toggleable {background-color: white;}#sk-container-id-9 label.sk-toggleable__label {cursor: pointer;display: block;width: 100%;margin-bottom: 0;padding: 0.3em;box-sizing: border-box;text-align: center;}#sk-container-id-9 label.sk-toggleable__label-arrow:before {content: \"▸\";float: left;margin-right: 0.25em;color: #696969;}#sk-container-id-9 label.sk-toggleable__label-arrow:hover:before {color: black;}#sk-container-id-9 div.sk-estimator:hover label.sk-toggleable__label-arrow:before {color: black;}#sk-container-id-9 div.sk-toggleable__content {max-height: 0;max-width: 0;overflow: hidden;text-align: left;background-color: #f0f8ff;}#sk-container-id-9 div.sk-toggleable__content pre {margin: 0.2em;color: black;border-radius: 0.25em;background-color: #f0f8ff;}#sk-container-id-9 input.sk-toggleable__control:checked~div.sk-toggleable__content {max-height: 200px;max-width: 100%;overflow: auto;}#sk-container-id-9 input.sk-toggleable__control:checked~label.sk-toggleable__label-arrow:before {content: \"▾\";}#sk-container-id-9 div.sk-estimator input.sk-toggleable__control:checked~label.sk-toggleable__label {background-color: #d4ebff;}#sk-container-id-9 div.sk-label input.sk-toggleable__control:checked~label.sk-toggleable__label {background-color: #d4ebff;}#sk-container-id-9 input.sk-hidden--visually {border: 0;clip: rect(1px 1px 1px 1px);clip: rect(1px, 1px, 1px, 1px);height: 1px;margin: -1px;overflow: hidden;padding: 0;position: absolute;width: 1px;}#sk-container-id-9 div.sk-estimator {font-family: monospace;background-color: #f0f8ff;border: 1px dotted black;border-radius: 0.25em;box-sizing: border-box;margin-bottom: 0.5em;}#sk-container-id-9 div.sk-estimator:hover {background-color: #d4ebff;}#sk-container-id-9 div.sk-parallel-item::after {content: \"\";width: 100%;border-bottom: 1px solid gray;flex-grow: 1;}#sk-container-id-9 div.sk-label:hover label.sk-toggleable__label {background-color: #d4ebff;}#sk-container-id-9 div.sk-serial::before {content: \"\";position: absolute;border-left: 1px solid gray;box-sizing: border-box;top: 0;bottom: 0;left: 50%;z-index: 0;}#sk-container-id-9 div.sk-serial {display: flex;flex-direction: column;align-items: center;background-color: white;padding-right: 0.2em;padding-left: 0.2em;position: relative;}#sk-container-id-9 div.sk-item {position: relative;z-index: 1;}#sk-container-id-9 div.sk-parallel {display: flex;align-items: stretch;justify-content: center;background-color: white;position: relative;}#sk-container-id-9 div.sk-item::before, #sk-container-id-9 div.sk-parallel-item::before {content: \"\";position: absolute;border-left: 1px solid gray;box-sizing: border-box;top: 0;bottom: 0;left: 50%;z-index: -1;}#sk-container-id-9 div.sk-parallel-item {display: flex;flex-direction: column;z-index: 1;position: relative;background-color: white;}#sk-container-id-9 div.sk-parallel-item:first-child::after {align-self: flex-end;width: 50%;}#sk-container-id-9 div.sk-parallel-item:last-child::after {align-self: flex-start;width: 50%;}#sk-container-id-9 div.sk-parallel-item:only-child::after {width: 0;}#sk-container-id-9 div.sk-dashed-wrapped {border: 1px dashed gray;margin: 0 0.4em 0.5em 0.4em;box-sizing: border-box;padding-bottom: 0.4em;background-color: white;}#sk-container-id-9 div.sk-label label {font-family: monospace;font-weight: bold;display: inline-block;line-height: 1.2em;}#sk-container-id-9 div.sk-label-container {text-align: center;}#sk-container-id-9 div.sk-container {/* jupyter's `normalize.less` sets `[hidden] { display: none; }` but bootstrap.min.css set `[hidden] { display: none !important; }` so we also need the `!important` here to be able to override the default hidden behavior on the sphinx rendered scikit-learn.org. See: https://github.com/scikit-learn/scikit-learn/issues/21755 */display: inline-block !important;position: relative;}#sk-container-id-9 div.sk-text-repr-fallback {display: none;}</style><div id=\"sk-container-id-9\" class=\"sk-top-container\"><div class=\"sk-text-repr-fallback\"><pre>GridSearchCV(cv=5,\n",
       "             estimator=XGBClassifier(base_score=None, booster=None,\n",
       "                                     callbacks=None, colsample_bylevel=None,\n",
       "                                     colsample_bynode=None,\n",
       "                                     colsample_bytree=None, device=None,\n",
       "                                     early_stopping_rounds=None,\n",
       "                                     enable_categorical=False, eval_metric=None,\n",
       "                                     feature_types=None, gamma=None,\n",
       "                                     grow_policy=None, importance_type=None,\n",
       "                                     interaction_constraints=None,\n",
       "                                     learning_rate=None,...\n",
       "                                     max_cat_to_onehot=None,\n",
       "                                     max_delta_step=None, max_depth=None,\n",
       "                                     max_leaves=None, min_child_weight=None,\n",
       "                                     missing=nan, monotone_constraints=None,\n",
       "                                     multi_strategy=None, n_estimators=None,\n",
       "                                     n_jobs=None, num_parallel_tree=None,\n",
       "                                     objective=&#x27;multi:softprob&#x27;, ...),\n",
       "             param_grid={&#x27;learning_rate&#x27;: [0.01, 0.1, 0.2],\n",
       "                         &#x27;max_depth&#x27;: [3, 5, 7],\n",
       "                         &#x27;n_estimators&#x27;: [50, 100, 200]},\n",
       "             scoring=&#x27;accuracy&#x27;)</pre><b>In a Jupyter environment, please rerun this cell to show the HTML representation or trust the notebook. <br />On GitHub, the HTML representation is unable to render, please try loading this page with nbviewer.org.</b></div><div class=\"sk-container\" hidden><div class=\"sk-item sk-dashed-wrapped\"><div class=\"sk-label-container\"><div class=\"sk-label sk-toggleable\"><input class=\"sk-toggleable__control sk-hidden--visually\" id=\"sk-estimator-id-9\" type=\"checkbox\" ><label for=\"sk-estimator-id-9\" class=\"sk-toggleable__label sk-toggleable__label-arrow\">GridSearchCV</label><div class=\"sk-toggleable__content\"><pre>GridSearchCV(cv=5,\n",
       "             estimator=XGBClassifier(base_score=None, booster=None,\n",
       "                                     callbacks=None, colsample_bylevel=None,\n",
       "                                     colsample_bynode=None,\n",
       "                                     colsample_bytree=None, device=None,\n",
       "                                     early_stopping_rounds=None,\n",
       "                                     enable_categorical=False, eval_metric=None,\n",
       "                                     feature_types=None, gamma=None,\n",
       "                                     grow_policy=None, importance_type=None,\n",
       "                                     interaction_constraints=None,\n",
       "                                     learning_rate=None,...\n",
       "                                     max_cat_to_onehot=None,\n",
       "                                     max_delta_step=None, max_depth=None,\n",
       "                                     max_leaves=None, min_child_weight=None,\n",
       "                                     missing=nan, monotone_constraints=None,\n",
       "                                     multi_strategy=None, n_estimators=None,\n",
       "                                     n_jobs=None, num_parallel_tree=None,\n",
       "                                     objective=&#x27;multi:softprob&#x27;, ...),\n",
       "             param_grid={&#x27;learning_rate&#x27;: [0.01, 0.1, 0.2],\n",
       "                         &#x27;max_depth&#x27;: [3, 5, 7],\n",
       "                         &#x27;n_estimators&#x27;: [50, 100, 200]},\n",
       "             scoring=&#x27;accuracy&#x27;)</pre></div></div></div><div class=\"sk-parallel\"><div class=\"sk-parallel-item\"><div class=\"sk-item\"><div class=\"sk-label-container\"><div class=\"sk-label sk-toggleable\"><input class=\"sk-toggleable__control sk-hidden--visually\" id=\"sk-estimator-id-10\" type=\"checkbox\" ><label for=\"sk-estimator-id-10\" class=\"sk-toggleable__label sk-toggleable__label-arrow\">estimator: XGBClassifier</label><div class=\"sk-toggleable__content\"><pre>XGBClassifier(base_score=None, booster=None, callbacks=None,\n",
       "              colsample_bylevel=None, colsample_bynode=None,\n",
       "              colsample_bytree=None, device=None, early_stopping_rounds=None,\n",
       "              enable_categorical=False, eval_metric=None, feature_types=None,\n",
       "              gamma=None, grow_policy=None, importance_type=None,\n",
       "              interaction_constraints=None, learning_rate=None, max_bin=None,\n",
       "              max_cat_threshold=None, max_cat_to_onehot=None,\n",
       "              max_delta_step=None, max_depth=None, max_leaves=None,\n",
       "              min_child_weight=None, missing=nan, monotone_constraints=None,\n",
       "              multi_strategy=None, n_estimators=None, n_jobs=None,\n",
       "              num_parallel_tree=None, objective=&#x27;multi:softprob&#x27;, ...)</pre></div></div></div><div class=\"sk-serial\"><div class=\"sk-item\"><div class=\"sk-estimator sk-toggleable\"><input class=\"sk-toggleable__control sk-hidden--visually\" id=\"sk-estimator-id-11\" type=\"checkbox\" ><label for=\"sk-estimator-id-11\" class=\"sk-toggleable__label sk-toggleable__label-arrow\">XGBClassifier</label><div class=\"sk-toggleable__content\"><pre>XGBClassifier(base_score=None, booster=None, callbacks=None,\n",
       "              colsample_bylevel=None, colsample_bynode=None,\n",
       "              colsample_bytree=None, device=None, early_stopping_rounds=None,\n",
       "              enable_categorical=False, eval_metric=None, feature_types=None,\n",
       "              gamma=None, grow_policy=None, importance_type=None,\n",
       "              interaction_constraints=None, learning_rate=None, max_bin=None,\n",
       "              max_cat_threshold=None, max_cat_to_onehot=None,\n",
       "              max_delta_step=None, max_depth=None, max_leaves=None,\n",
       "              min_child_weight=None, missing=nan, monotone_constraints=None,\n",
       "              multi_strategy=None, n_estimators=None, n_jobs=None,\n",
       "              num_parallel_tree=None, objective=&#x27;multi:softprob&#x27;, ...)</pre></div></div></div></div></div></div></div></div></div></div>"
      ],
      "text/plain": [
       "GridSearchCV(cv=5,\n",
       "             estimator=XGBClassifier(base_score=None, booster=None,\n",
       "                                     callbacks=None, colsample_bylevel=None,\n",
       "                                     colsample_bynode=None,\n",
       "                                     colsample_bytree=None, device=None,\n",
       "                                     early_stopping_rounds=None,\n",
       "                                     enable_categorical=False, eval_metric=None,\n",
       "                                     feature_types=None, gamma=None,\n",
       "                                     grow_policy=None, importance_type=None,\n",
       "                                     interaction_constraints=None,\n",
       "                                     learning_rate=None,...\n",
       "                                     max_cat_to_onehot=None,\n",
       "                                     max_delta_step=None, max_depth=None,\n",
       "                                     max_leaves=None, min_child_weight=None,\n",
       "                                     missing=nan, monotone_constraints=None,\n",
       "                                     multi_strategy=None, n_estimators=None,\n",
       "                                     n_jobs=None, num_parallel_tree=None,\n",
       "                                     objective='multi:softprob', ...),\n",
       "             param_grid={'learning_rate': [0.01, 0.1, 0.2],\n",
       "                         'max_depth': [3, 5, 7],\n",
       "                         'n_estimators': [50, 100, 200]},\n",
       "             scoring='accuracy')"
      ]
     },
     "execution_count": 130,
     "metadata": {},
     "output_type": "execute_result"
    }
   ],
   "source": [
    "grid_search = GridSearchCV(estimator=xg, param_grid=param_grid, cv=5, scoring='accuracy')\n",
    "grid_search.fit(X_train, y_train)"
   ]
  },
  {
   "cell_type": "code",
   "execution_count": 131,
   "id": "f033eb5e",
   "metadata": {
    "execution": {
     "iopub.execute_input": "2024-02-15T05:58:38.779627Z",
     "iopub.status.busy": "2024-02-15T05:58:38.779190Z",
     "iopub.status.idle": "2024-02-15T05:58:38.783630Z",
     "shell.execute_reply": "2024-02-15T05:58:38.782510Z"
    },
    "papermill": {
     "duration": 0.120116,
     "end_time": "2024-02-15T05:58:38.785657",
     "exception": false,
     "start_time": "2024-02-15T05:58:38.665541",
     "status": "completed"
    },
    "tags": []
   },
   "outputs": [],
   "source": [
    "best_params = grid_search.best_params_"
   ]
  },
  {
   "cell_type": "code",
   "execution_count": 132,
   "id": "1fecc364",
   "metadata": {
    "execution": {
     "iopub.execute_input": "2024-02-15T05:58:38.880193Z",
     "iopub.status.busy": "2024-02-15T05:58:38.879818Z",
     "iopub.status.idle": "2024-02-15T05:58:38.884299Z",
     "shell.execute_reply": "2024-02-15T05:58:38.883170Z"
    },
    "papermill": {
     "duration": 0.054632,
     "end_time": "2024-02-15T05:58:38.886505",
     "exception": false,
     "start_time": "2024-02-15T05:58:38.831873",
     "status": "completed"
    },
    "tags": []
   },
   "outputs": [],
   "source": [
    "# Retrain XGB"
   ]
  },
  {
   "cell_type": "code",
   "execution_count": 133,
   "id": "f5c310fe",
   "metadata": {
    "execution": {
     "iopub.execute_input": "2024-02-15T05:58:38.983386Z",
     "iopub.status.busy": "2024-02-15T05:58:38.982539Z",
     "iopub.status.idle": "2024-02-15T05:58:38.987413Z",
     "shell.execute_reply": "2024-02-15T05:58:38.986495Z"
    },
    "papermill": {
     "duration": 0.057111,
     "end_time": "2024-02-15T05:58:38.989682",
     "exception": false,
     "start_time": "2024-02-15T05:58:38.932571",
     "status": "completed"
    },
    "tags": []
   },
   "outputs": [],
   "source": [
    "best_xgb_classifier = XGBClassifier(**best_params)"
   ]
  },
  {
   "cell_type": "code",
   "execution_count": 134,
   "id": "f6e8899b",
   "metadata": {
    "execution": {
     "iopub.execute_input": "2024-02-15T05:58:39.087775Z",
     "iopub.status.busy": "2024-02-15T05:58:39.087062Z",
     "iopub.status.idle": "2024-02-15T05:58:43.213217Z",
     "shell.execute_reply": "2024-02-15T05:58:43.212491Z"
    },
    "papermill": {
     "duration": 4.17732,
     "end_time": "2024-02-15T05:58:43.215176",
     "exception": false,
     "start_time": "2024-02-15T05:58:39.037856",
     "status": "completed"
    },
    "tags": []
   },
   "outputs": [
    {
     "data": {
      "text/html": [
       "<style>#sk-container-id-10 {color: black;background-color: white;}#sk-container-id-10 pre{padding: 0;}#sk-container-id-10 div.sk-toggleable {background-color: white;}#sk-container-id-10 label.sk-toggleable__label {cursor: pointer;display: block;width: 100%;margin-bottom: 0;padding: 0.3em;box-sizing: border-box;text-align: center;}#sk-container-id-10 label.sk-toggleable__label-arrow:before {content: \"▸\";float: left;margin-right: 0.25em;color: #696969;}#sk-container-id-10 label.sk-toggleable__label-arrow:hover:before {color: black;}#sk-container-id-10 div.sk-estimator:hover label.sk-toggleable__label-arrow:before {color: black;}#sk-container-id-10 div.sk-toggleable__content {max-height: 0;max-width: 0;overflow: hidden;text-align: left;background-color: #f0f8ff;}#sk-container-id-10 div.sk-toggleable__content pre {margin: 0.2em;color: black;border-radius: 0.25em;background-color: #f0f8ff;}#sk-container-id-10 input.sk-toggleable__control:checked~div.sk-toggleable__content {max-height: 200px;max-width: 100%;overflow: auto;}#sk-container-id-10 input.sk-toggleable__control:checked~label.sk-toggleable__label-arrow:before {content: \"▾\";}#sk-container-id-10 div.sk-estimator input.sk-toggleable__control:checked~label.sk-toggleable__label {background-color: #d4ebff;}#sk-container-id-10 div.sk-label input.sk-toggleable__control:checked~label.sk-toggleable__label {background-color: #d4ebff;}#sk-container-id-10 input.sk-hidden--visually {border: 0;clip: rect(1px 1px 1px 1px);clip: rect(1px, 1px, 1px, 1px);height: 1px;margin: -1px;overflow: hidden;padding: 0;position: absolute;width: 1px;}#sk-container-id-10 div.sk-estimator {font-family: monospace;background-color: #f0f8ff;border: 1px dotted black;border-radius: 0.25em;box-sizing: border-box;margin-bottom: 0.5em;}#sk-container-id-10 div.sk-estimator:hover {background-color: #d4ebff;}#sk-container-id-10 div.sk-parallel-item::after {content: \"\";width: 100%;border-bottom: 1px solid gray;flex-grow: 1;}#sk-container-id-10 div.sk-label:hover label.sk-toggleable__label {background-color: #d4ebff;}#sk-container-id-10 div.sk-serial::before {content: \"\";position: absolute;border-left: 1px solid gray;box-sizing: border-box;top: 0;bottom: 0;left: 50%;z-index: 0;}#sk-container-id-10 div.sk-serial {display: flex;flex-direction: column;align-items: center;background-color: white;padding-right: 0.2em;padding-left: 0.2em;position: relative;}#sk-container-id-10 div.sk-item {position: relative;z-index: 1;}#sk-container-id-10 div.sk-parallel {display: flex;align-items: stretch;justify-content: center;background-color: white;position: relative;}#sk-container-id-10 div.sk-item::before, #sk-container-id-10 div.sk-parallel-item::before {content: \"\";position: absolute;border-left: 1px solid gray;box-sizing: border-box;top: 0;bottom: 0;left: 50%;z-index: -1;}#sk-container-id-10 div.sk-parallel-item {display: flex;flex-direction: column;z-index: 1;position: relative;background-color: white;}#sk-container-id-10 div.sk-parallel-item:first-child::after {align-self: flex-end;width: 50%;}#sk-container-id-10 div.sk-parallel-item:last-child::after {align-self: flex-start;width: 50%;}#sk-container-id-10 div.sk-parallel-item:only-child::after {width: 0;}#sk-container-id-10 div.sk-dashed-wrapped {border: 1px dashed gray;margin: 0 0.4em 0.5em 0.4em;box-sizing: border-box;padding-bottom: 0.4em;background-color: white;}#sk-container-id-10 div.sk-label label {font-family: monospace;font-weight: bold;display: inline-block;line-height: 1.2em;}#sk-container-id-10 div.sk-label-container {text-align: center;}#sk-container-id-10 div.sk-container {/* jupyter's `normalize.less` sets `[hidden] { display: none; }` but bootstrap.min.css set `[hidden] { display: none !important; }` so we also need the `!important` here to be able to override the default hidden behavior on the sphinx rendered scikit-learn.org. See: https://github.com/scikit-learn/scikit-learn/issues/21755 */display: inline-block !important;position: relative;}#sk-container-id-10 div.sk-text-repr-fallback {display: none;}</style><div id=\"sk-container-id-10\" class=\"sk-top-container\"><div class=\"sk-text-repr-fallback\"><pre>XGBClassifier(base_score=None, booster=None, callbacks=None,\n",
       "              colsample_bylevel=None, colsample_bynode=None,\n",
       "              colsample_bytree=None, device=None, early_stopping_rounds=None,\n",
       "              enable_categorical=False, eval_metric=None, feature_types=None,\n",
       "              gamma=None, grow_policy=None, importance_type=None,\n",
       "              interaction_constraints=None, learning_rate=0.2, max_bin=None,\n",
       "              max_cat_threshold=None, max_cat_to_onehot=None,\n",
       "              max_delta_step=None, max_depth=7, max_leaves=None,\n",
       "              min_child_weight=None, missing=nan, monotone_constraints=None,\n",
       "              multi_strategy=None, n_estimators=200, n_jobs=None,\n",
       "              num_parallel_tree=None, objective=&#x27;multi:softprob&#x27;, ...)</pre><b>In a Jupyter environment, please rerun this cell to show the HTML representation or trust the notebook. <br />On GitHub, the HTML representation is unable to render, please try loading this page with nbviewer.org.</b></div><div class=\"sk-container\" hidden><div class=\"sk-item\"><div class=\"sk-estimator sk-toggleable\"><input class=\"sk-toggleable__control sk-hidden--visually\" id=\"sk-estimator-id-12\" type=\"checkbox\" checked><label for=\"sk-estimator-id-12\" class=\"sk-toggleable__label sk-toggleable__label-arrow\">XGBClassifier</label><div class=\"sk-toggleable__content\"><pre>XGBClassifier(base_score=None, booster=None, callbacks=None,\n",
       "              colsample_bylevel=None, colsample_bynode=None,\n",
       "              colsample_bytree=None, device=None, early_stopping_rounds=None,\n",
       "              enable_categorical=False, eval_metric=None, feature_types=None,\n",
       "              gamma=None, grow_policy=None, importance_type=None,\n",
       "              interaction_constraints=None, learning_rate=0.2, max_bin=None,\n",
       "              max_cat_threshold=None, max_cat_to_onehot=None,\n",
       "              max_delta_step=None, max_depth=7, max_leaves=None,\n",
       "              min_child_weight=None, missing=nan, monotone_constraints=None,\n",
       "              multi_strategy=None, n_estimators=200, n_jobs=None,\n",
       "              num_parallel_tree=None, objective=&#x27;multi:softprob&#x27;, ...)</pre></div></div></div></div></div>"
      ],
      "text/plain": [
       "XGBClassifier(base_score=None, booster=None, callbacks=None,\n",
       "              colsample_bylevel=None, colsample_bynode=None,\n",
       "              colsample_bytree=None, device=None, early_stopping_rounds=None,\n",
       "              enable_categorical=False, eval_metric=None, feature_types=None,\n",
       "              gamma=None, grow_policy=None, importance_type=None,\n",
       "              interaction_constraints=None, learning_rate=0.2, max_bin=None,\n",
       "              max_cat_threshold=None, max_cat_to_onehot=None,\n",
       "              max_delta_step=None, max_depth=7, max_leaves=None,\n",
       "              min_child_weight=None, missing=nan, monotone_constraints=None,\n",
       "              multi_strategy=None, n_estimators=200, n_jobs=None,\n",
       "              num_parallel_tree=None, objective='multi:softprob', ...)"
      ]
     },
     "execution_count": 134,
     "metadata": {},
     "output_type": "execute_result"
    }
   ],
   "source": [
    "best_xgb_classifier.fit(X_train,y_train)"
   ]
  },
  {
   "cell_type": "code",
   "execution_count": 135,
   "id": "1798e011",
   "metadata": {
    "execution": {
     "iopub.execute_input": "2024-02-15T05:58:43.312315Z",
     "iopub.status.busy": "2024-02-15T05:58:43.311512Z",
     "iopub.status.idle": "2024-02-15T05:58:43.394783Z",
     "shell.execute_reply": "2024-02-15T05:58:43.393875Z"
    },
    "papermill": {
     "duration": 0.135167,
     "end_time": "2024-02-15T05:58:43.397236",
     "exception": false,
     "start_time": "2024-02-15T05:58:43.262069",
     "status": "completed"
    },
    "tags": []
   },
   "outputs": [],
   "source": [
    "predicted = best_xgb_classifier.predict(X_test)"
   ]
  },
  {
   "cell_type": "code",
   "execution_count": 136,
   "id": "2683c643",
   "metadata": {
    "execution": {
     "iopub.execute_input": "2024-02-15T05:58:43.493074Z",
     "iopub.status.busy": "2024-02-15T05:58:43.492352Z",
     "iopub.status.idle": "2024-02-15T05:58:43.520034Z",
     "shell.execute_reply": "2024-02-15T05:58:43.518697Z"
    },
    "papermill": {
     "duration": 0.078768,
     "end_time": "2024-02-15T05:58:43.522571",
     "exception": false,
     "start_time": "2024-02-15T05:58:43.443803",
     "status": "completed"
    },
    "tags": []
   },
   "outputs": [
    {
     "name": "stdout",
     "output_type": "stream",
     "text": [
      "              precision    recall  f1-score   support\n",
      "\n",
      "           0       0.98      0.99      0.98      2367\n",
      "           1       0.97      0.99      0.98      3048\n",
      "           2       0.98      0.97      0.98      4585\n",
      "\n",
      "    accuracy                           0.98     10000\n",
      "   macro avg       0.98      0.98      0.98     10000\n",
      "weighted avg       0.98      0.98      0.98     10000\n",
      "\n"
     ]
    }
   ],
   "source": [
    "print(mt.classification_report(y_test,predicted))"
   ]
  },
  {
   "cell_type": "markdown",
   "id": "ef93c6bf",
   "metadata": {
    "papermill": {
     "duration": 0.047025,
     "end_time": "2024-02-15T05:58:43.620178",
     "exception": false,
     "start_time": "2024-02-15T05:58:43.573153",
     "status": "completed"
    },
    "tags": []
   },
   "source": [
    "# Conclusion"
   ]
  },
  {
   "cell_type": "markdown",
   "id": "cf98a316",
   "metadata": {
    "papermill": {
     "duration": 0.04606,
     "end_time": "2024-02-15T05:58:43.713980",
     "exception": false,
     "start_time": "2024-02-15T05:58:43.667920",
     "status": "completed"
    },
    "tags": []
   },
   "source": [
    "Both Random Forest Classifier and XGBoostClassifier performs extremely well(around 97% accurracy) with good precision and recall score. We futher tuned the hyperparameters of XGBoost to improve performence.After using Grid Search on some important parameters, our performence increased by 1% which is around 98%. So now our XGBoost model can classify credit scores extremely well."
   ]
  },
  {
   "cell_type": "code",
   "execution_count": null,
   "id": "ed4a8e37",
   "metadata": {
    "papermill": {
     "duration": 0.046376,
     "end_time": "2024-02-15T05:58:43.806323",
     "exception": false,
     "start_time": "2024-02-15T05:58:43.759947",
     "status": "completed"
    },
    "tags": []
   },
   "outputs": [],
   "source": []
  }
 ],
 "metadata": {
  "kaggle": {
   "accelerator": "none",
   "dataSources": [
    {
     "datasetId": 4444421,
     "sourceId": 7628461,
     "sourceType": "datasetVersion"
    }
   ],
   "dockerImageVersionId": 30646,
   "isGpuEnabled": false,
   "isInternetEnabled": true,
   "language": "python",
   "sourceType": "notebook"
  },
  "kernelspec": {
   "display_name": "Python 3",
   "language": "python",
   "name": "python3"
  },
  "language_info": {
   "codemirror_mode": {
    "name": "ipython",
    "version": 3
   },
   "file_extension": ".py",
   "mimetype": "text/x-python",
   "name": "python",
   "nbconvert_exporter": "python",
   "pygments_lexer": "ipython3",
   "version": "3.10.13"
  },
  "papermill": {
   "default_parameters": {},
   "duration": 544.311063,
   "end_time": "2024-02-15T05:58:44.573850",
   "environment_variables": {},
   "exception": null,
   "input_path": "__notebook__.ipynb",
   "output_path": "__notebook__.ipynb",
   "parameters": {},
   "start_time": "2024-02-15T05:49:40.262787",
   "version": "2.5.0"
  }
 },
 "nbformat": 4,
 "nbformat_minor": 5
}
